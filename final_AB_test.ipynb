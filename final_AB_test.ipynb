{
  "cells": [
    {
      "cell_type": "markdown",
      "metadata": {
        "id": "view-in-github",
        "colab_type": "text"
      },
      "source": [
        "<a href=\"https://colab.research.google.com/github/MissaMia/MissaMia/blob/main/final_AB_test.ipynb\" target=\"_parent\"><img src=\"https://colab.research.google.com/assets/colab-badge.svg\" alt=\"Open In Colab\"/></a>"
      ]
    },
    {
      "cell_type": "markdown",
      "metadata": {
        "id": "lZMMjs1W0_R8"
      },
      "source": [
        "# Проект: Вариант 3. Описание задачи\n",
        "\n",
        "Представьте, что вы работаете в крупном приложении для знакомств. Помимо стандартных функций, пользователям доступна платная премиум-подписка с рядом полезных дополнительных возможностей.\n",
        "\n",
        "Команда провела A/B-тест: для новых пользователей из нескольких стран была изменена цена премиум-подписки при оплате через две новые платёжные системы. Стоимость пробного периода при этом не менялась.\n",
        "\n",
        "**Ваша задача:**\n",
        "\n",
        "Оценить, дал ли эксперимент положительный эффект в целом.\n",
        "\n",
        "Подписка автоматически продлевается каждый месяц, пока пользователь сам её не отменит.\n",
        "\n",
        "## Данные\n",
        "\n",
        "Всего есть три группы:\n",
        "- **Тестовая** (`test`)\n",
        "- **Контрольная 1** (`control_1`)\n",
        "- **Контрольная 2** (`control_2`)\n",
        "\n",
        "Для каждой из них предоставлены два набора данных:\n",
        "\n",
        "### Файлы `users_*.csv` — информация о пользователях:\n",
        "- `uid` — идентификатор пользователя\n",
        "- `age` — возраст\n",
        "- `attraction_coeff` — коэффициент привлекательности (от 0 до 1000, рассчитывается как (лайки / просмотры) × 1000)\n",
        "- `coins` — число монеток (внутренняя валюта)\n",
        "- `country` — страна\n",
        "- `visit_days` — в какие дни после регистрации пользователь посещал приложение (например, в 1-й день, затем на 7-й день)\n",
        "- `gender` — пол\n",
        "- `age_filter_start` — минимальный возраст поиска\n",
        "- `age_filter_end` — максимальный возраст поиска\n",
        "- `views_count` — количество полученных оценок\n",
        "- `was_premium` — был ли когда-либо премиум-пользователем (либо с пробным периодом, либо с покупкой)\n",
        "- `is_premium` — является ли сейчас премиум-пользователем\n",
        "- `total_revenue` — нормированная выручка\n",
        "\n",
        "### Файлы `transactions_*.csv` — информация о платежах пользователей:\n",
        "- `uid` — идентификатор пользователя\n",
        "- `country` — страна\n",
        "- `joined_at` — дата и время регистрации\n",
        "- `paid_at` — дата и время покупки\n",
        "- `revenue` — нормированная выручка\n",
        "- `payment_id` — идентификатор платежа\n",
        "- `from_page` — откуда пользователь перешел на страницу оплаты\n",
        "- `product_type` — тип продукта:\n",
        "  - `trial_premium` — пробная премиум-подписка\n",
        "  - `premium_no_trial` — премиум-подписка без пробного периода\n",
        "  - `coins` — покупка через внутреннюю валюту\n",
        "  - `other_type` — другие типы покупок\n"
      ]
    },
    {
      "cell_type": "code",
      "execution_count": null,
      "metadata": {
        "id": "B3JVSrFI0_SA"
      },
      "outputs": [],
      "source": [
        "# импорт необходимых библиотек\n",
        "import pandas as pd\n",
        "import numpy as np\n",
        "from matplotlib import pyplot as plt\n",
        "import seaborn as sns\n",
        "import scipy.stats as st\n",
        "import statsmodels.stats.proportion as smp"
      ]
    },
    {
      "cell_type": "markdown",
      "metadata": {
        "id": "fbO0zUPr0_SB"
      },
      "source": [
        "### Предобработка и EDA"
      ]
    },
    {
      "cell_type": "code",
      "execution_count": null,
      "metadata": {
        "id": "tBTWOulF0_SB"
      },
      "outputs": [],
      "source": [
        "# читаем данные\n",
        "users_test = pd.read_csv('Проект_3_users_test.csv', sep = ';')\n",
        "users_control_1 = pd.read_csv('Проект_3_users_control_1.csv', sep = ';')\n",
        "users_control_2 = pd.read_csv('Проект_3_users_control_2.csv', sep = ';')\n",
        "transactions_test = pd.read_csv('Проект_3_transactions_test.csv', sep = ';')\n",
        "transactions_control_1 = pd.read_csv('Проект_3_transactions_control_1.csv', sep = ';')\n",
        "transactions_control_2 = pd.read_csv('Проект_3_transactions_control_2.csv', sep = ';')"
      ]
    },
    {
      "cell_type": "code",
      "execution_count": null,
      "metadata": {
        "id": "CZmxb7XP0_SC",
        "outputId": "a3c0c2b6-feb4-4e0d-c037-7d3efcfb08ba"
      },
      "outputs": [
        {
          "data": {
            "text/html": [
              "<div>\n",
              "<style scoped>\n",
              "    .dataframe tbody tr th:only-of-type {\n",
              "        vertical-align: middle;\n",
              "    }\n",
              "\n",
              "    .dataframe tbody tr th {\n",
              "        vertical-align: top;\n",
              "    }\n",
              "\n",
              "    .dataframe thead th {\n",
              "        text-align: right;\n",
              "    }\n",
              "</style>\n",
              "<table border=\"1\" class=\"dataframe\">\n",
              "  <thead>\n",
              "    <tr style=\"text-align: right;\">\n",
              "      <th></th>\n",
              "      <th>uid</th>\n",
              "      <th>age</th>\n",
              "      <th>attraction_coeff</th>\n",
              "      <th>coins</th>\n",
              "      <th>country</th>\n",
              "      <th>visit_days</th>\n",
              "      <th>gender</th>\n",
              "      <th>age_filter_start</th>\n",
              "      <th>age_filter_end</th>\n",
              "      <th>views_count</th>\n",
              "      <th>was_premium</th>\n",
              "      <th>is_premium</th>\n",
              "      <th>total_revenue</th>\n",
              "    </tr>\n",
              "  </thead>\n",
              "  <tbody>\n",
              "    <tr>\n",
              "      <th>0</th>\n",
              "      <td>892309896</td>\n",
              "      <td>27</td>\n",
              "      <td>685</td>\n",
              "      <td>NaN</td>\n",
              "      <td>United States of America</td>\n",
              "      <td>1,2,3,4,5,6,7,8,9,10,11,12,16,17</td>\n",
              "      <td>1</td>\n",
              "      <td>24</td>\n",
              "      <td>30</td>\n",
              "      <td>89</td>\n",
              "      <td>NaN</td>\n",
              "      <td>NaN</td>\n",
              "      <td>0</td>\n",
              "    </tr>\n",
              "    <tr>\n",
              "      <th>1</th>\n",
              "      <td>892044516</td>\n",
              "      <td>27</td>\n",
              "      <td>0</td>\n",
              "      <td>NaN</td>\n",
              "      <td>Germany</td>\n",
              "      <td>NaN</td>\n",
              "      <td>1</td>\n",
              "      <td>24</td>\n",
              "      <td>30</td>\n",
              "      <td>0</td>\n",
              "      <td>NaN</td>\n",
              "      <td>NaN</td>\n",
              "      <td>0</td>\n",
              "    </tr>\n",
              "    <tr>\n",
              "      <th>2</th>\n",
              "      <td>892185708</td>\n",
              "      <td>45</td>\n",
              "      <td>44</td>\n",
              "      <td>NaN</td>\n",
              "      <td>Israel</td>\n",
              "      <td>1,3,4,6,7,8,10,11,12,13,14,15,16,17,18,19,20,2...</td>\n",
              "      <td>1</td>\n",
              "      <td>42</td>\n",
              "      <td>48</td>\n",
              "      <td>68</td>\n",
              "      <td>NaN</td>\n",
              "      <td>NaN</td>\n",
              "      <td>0</td>\n",
              "    </tr>\n",
              "  </tbody>\n",
              "</table>\n",
              "</div>"
            ],
            "text/plain": [
              "         uid  age  attraction_coeff  coins                   country  \\\n",
              "0  892309896   27               685    NaN  United States of America   \n",
              "1  892044516   27                 0    NaN                   Germany   \n",
              "2  892185708   45                44    NaN                    Israel   \n",
              "\n",
              "                                          visit_days  gender  \\\n",
              "0                   1,2,3,4,5,6,7,8,9,10,11,12,16,17       1   \n",
              "1                                                NaN       1   \n",
              "2  1,3,4,6,7,8,10,11,12,13,14,15,16,17,18,19,20,2...       1   \n",
              "\n",
              "   age_filter_start  age_filter_end  views_count  was_premium  is_premium  \\\n",
              "0                24              30           89          NaN         NaN   \n",
              "1                24              30            0          NaN         NaN   \n",
              "2                42              48           68          NaN         NaN   \n",
              "\n",
              "   total_revenue  \n",
              "0              0  \n",
              "1              0  \n",
              "2              0  "
            ]
          },
          "execution_count": 131,
          "metadata": {},
          "output_type": "execute_result"
        }
      ],
      "source": [
        "#Просматриваем все данные\n",
        "users_test.head(3)"
      ]
    },
    {
      "cell_type": "code",
      "execution_count": null,
      "metadata": {
        "id": "12j3m32-0_SD",
        "outputId": "db01b10d-1f9f-43af-cf6e-f47b5136bc15"
      },
      "outputs": [
        {
          "data": {
            "text/html": [
              "<div>\n",
              "<style scoped>\n",
              "    .dataframe tbody tr th:only-of-type {\n",
              "        vertical-align: middle;\n",
              "    }\n",
              "\n",
              "    .dataframe tbody tr th {\n",
              "        vertical-align: top;\n",
              "    }\n",
              "\n",
              "    .dataframe thead th {\n",
              "        text-align: right;\n",
              "    }\n",
              "</style>\n",
              "<table border=\"1\" class=\"dataframe\">\n",
              "  <thead>\n",
              "    <tr style=\"text-align: right;\">\n",
              "      <th></th>\n",
              "      <th>uid</th>\n",
              "      <th>age</th>\n",
              "      <th>attraction_coeff</th>\n",
              "      <th>coins</th>\n",
              "      <th>country</th>\n",
              "      <th>visit_days</th>\n",
              "      <th>gender</th>\n",
              "      <th>age_filter_start</th>\n",
              "      <th>age_filter_end</th>\n",
              "      <th>views_count</th>\n",
              "      <th>was_premium</th>\n",
              "      <th>is_premium</th>\n",
              "      <th>total_revenue</th>\n",
              "    </tr>\n",
              "  </thead>\n",
              "  <tbody>\n",
              "    <tr>\n",
              "      <th>0</th>\n",
              "      <td>892319115</td>\n",
              "      <td>25</td>\n",
              "      <td>435</td>\n",
              "      <td>NaN</td>\n",
              "      <td>United States of America</td>\n",
              "      <td>1,2,3,4,5,6</td>\n",
              "      <td>0</td>\n",
              "      <td>22</td>\n",
              "      <td>32</td>\n",
              "      <td>982</td>\n",
              "      <td>NaN</td>\n",
              "      <td>NaN</td>\n",
              "      <td>0</td>\n",
              "    </tr>\n",
              "    <tr>\n",
              "      <th>1</th>\n",
              "      <td>891248523</td>\n",
              "      <td>29</td>\n",
              "      <td>500</td>\n",
              "      <td>NaN</td>\n",
              "      <td>United States of America</td>\n",
              "      <td>1,2</td>\n",
              "      <td>1</td>\n",
              "      <td>26</td>\n",
              "      <td>32</td>\n",
              "      <td>12</td>\n",
              "      <td>NaN</td>\n",
              "      <td>NaN</td>\n",
              "      <td>0</td>\n",
              "    </tr>\n",
              "    <tr>\n",
              "      <th>2</th>\n",
              "      <td>891670932</td>\n",
              "      <td>33</td>\n",
              "      <td>800</td>\n",
              "      <td>NaN</td>\n",
              "      <td>France</td>\n",
              "      <td>1,2,3,5,6,8,9,11,13,16</td>\n",
              "      <td>1</td>\n",
              "      <td>30</td>\n",
              "      <td>36</td>\n",
              "      <td>5</td>\n",
              "      <td>NaN</td>\n",
              "      <td>NaN</td>\n",
              "      <td>0</td>\n",
              "    </tr>\n",
              "  </tbody>\n",
              "</table>\n",
              "</div>"
            ],
            "text/plain": [
              "         uid  age  attraction_coeff  coins                   country  \\\n",
              "0  892319115   25               435    NaN  United States of America   \n",
              "1  891248523   29               500    NaN  United States of America   \n",
              "2  891670932   33               800    NaN                    France   \n",
              "\n",
              "               visit_days  gender  age_filter_start  age_filter_end  \\\n",
              "0             1,2,3,4,5,6       0                22              32   \n",
              "1                     1,2       1                26              32   \n",
              "2  1,2,3,5,6,8,9,11,13,16       1                30              36   \n",
              "\n",
              "   views_count  was_premium  is_premium  total_revenue  \n",
              "0          982          NaN         NaN              0  \n",
              "1           12          NaN         NaN              0  \n",
              "2            5          NaN         NaN              0  "
            ]
          },
          "execution_count": 5,
          "metadata": {},
          "output_type": "execute_result"
        }
      ],
      "source": [
        "users_control_1.head(3)"
      ]
    },
    {
      "cell_type": "code",
      "execution_count": null,
      "metadata": {
        "id": "UX1Gbl2L0_SE",
        "outputId": "c6799f3b-de7f-437c-83da-5b634586eec1"
      },
      "outputs": [
        {
          "data": {
            "text/html": [
              "<div>\n",
              "<style scoped>\n",
              "    .dataframe tbody tr th:only-of-type {\n",
              "        vertical-align: middle;\n",
              "    }\n",
              "\n",
              "    .dataframe tbody tr th {\n",
              "        vertical-align: top;\n",
              "    }\n",
              "\n",
              "    .dataframe thead th {\n",
              "        text-align: right;\n",
              "    }\n",
              "</style>\n",
              "<table border=\"1\" class=\"dataframe\">\n",
              "  <thead>\n",
              "    <tr style=\"text-align: right;\">\n",
              "      <th></th>\n",
              "      <th>uid</th>\n",
              "      <th>age</th>\n",
              "      <th>attraction_coeff</th>\n",
              "      <th>coins</th>\n",
              "      <th>country</th>\n",
              "      <th>visit_days</th>\n",
              "      <th>gender</th>\n",
              "      <th>age_filter_start</th>\n",
              "      <th>age_filter_end</th>\n",
              "      <th>views_count</th>\n",
              "      <th>was_premium</th>\n",
              "      <th>is_premium</th>\n",
              "      <th>total_revenue</th>\n",
              "    </tr>\n",
              "  </thead>\n",
              "  <tbody>\n",
              "    <tr>\n",
              "      <th>0</th>\n",
              "      <td>892035504</td>\n",
              "      <td>37</td>\n",
              "      <td>137</td>\n",
              "      <td>NaN</td>\n",
              "      <td>Israel</td>\n",
              "      <td>1,2,3,4,5,6,7,8,9,11,13</td>\n",
              "      <td>1</td>\n",
              "      <td>30</td>\n",
              "      <td>40</td>\n",
              "      <td>51</td>\n",
              "      <td>NaN</td>\n",
              "      <td>NaN</td>\n",
              "      <td>0</td>\n",
              "    </tr>\n",
              "    <tr>\n",
              "      <th>1</th>\n",
              "      <td>891782112</td>\n",
              "      <td>57</td>\n",
              "      <td>0</td>\n",
              "      <td>NaN</td>\n",
              "      <td>Italy</td>\n",
              "      <td>1</td>\n",
              "      <td>1</td>\n",
              "      <td>54</td>\n",
              "      <td>60</td>\n",
              "      <td>0</td>\n",
              "      <td>NaN</td>\n",
              "      <td>NaN</td>\n",
              "      <td>0</td>\n",
              "    </tr>\n",
              "    <tr>\n",
              "      <th>2</th>\n",
              "      <td>891110337</td>\n",
              "      <td>30</td>\n",
              "      <td>769</td>\n",
              "      <td>NaN</td>\n",
              "      <td>France</td>\n",
              "      <td>1,2,3,4,5</td>\n",
              "      <td>1</td>\n",
              "      <td>27</td>\n",
              "      <td>33</td>\n",
              "      <td>13</td>\n",
              "      <td>NaN</td>\n",
              "      <td>NaN</td>\n",
              "      <td>0</td>\n",
              "    </tr>\n",
              "  </tbody>\n",
              "</table>\n",
              "</div>"
            ],
            "text/plain": [
              "         uid  age  attraction_coeff  coins country               visit_days  \\\n",
              "0  892035504   37               137    NaN  Israel  1,2,3,4,5,6,7,8,9,11,13   \n",
              "1  891782112   57                 0    NaN   Italy                        1   \n",
              "2  891110337   30               769    NaN  France                1,2,3,4,5   \n",
              "\n",
              "   gender  age_filter_start  age_filter_end  views_count  was_premium  \\\n",
              "0       1                30              40           51          NaN   \n",
              "1       1                54              60            0          NaN   \n",
              "2       1                27              33           13          NaN   \n",
              "\n",
              "   is_premium  total_revenue  \n",
              "0         NaN              0  \n",
              "1         NaN              0  \n",
              "2         NaN              0  "
            ]
          },
          "execution_count": 6,
          "metadata": {},
          "output_type": "execute_result"
        }
      ],
      "source": [
        " users_control_2.head(3)"
      ]
    },
    {
      "cell_type": "code",
      "execution_count": null,
      "metadata": {
        "id": "ciAW5qwz0_SF",
        "outputId": "6b0d1873-2dd3-466c-fab8-cf819aa01a69"
      },
      "outputs": [
        {
          "data": {
            "text/html": [
              "<div>\n",
              "<style scoped>\n",
              "    .dataframe tbody tr th:only-of-type {\n",
              "        vertical-align: middle;\n",
              "    }\n",
              "\n",
              "    .dataframe tbody tr th {\n",
              "        vertical-align: top;\n",
              "    }\n",
              "\n",
              "    .dataframe thead th {\n",
              "        text-align: right;\n",
              "    }\n",
              "</style>\n",
              "<table border=\"1\" class=\"dataframe\">\n",
              "  <thead>\n",
              "    <tr style=\"text-align: right;\">\n",
              "      <th></th>\n",
              "      <th>uid</th>\n",
              "      <th>country</th>\n",
              "      <th>joined_at</th>\n",
              "      <th>paid_at</th>\n",
              "      <th>revenue</th>\n",
              "      <th>payment_id</th>\n",
              "      <th>from_page</th>\n",
              "      <th>product_type</th>\n",
              "    </tr>\n",
              "  </thead>\n",
              "  <tbody>\n",
              "    <tr>\n",
              "      <th>0</th>\n",
              "      <td>891345942</td>\n",
              "      <td>Italy</td>\n",
              "      <td>2017-05-11 13:00:00</td>\n",
              "      <td>2017-11-13 15:04:00</td>\n",
              "      <td>12909</td>\n",
              "      <td>147</td>\n",
              "      <td>trial_vip_popup</td>\n",
              "      <td>trial_premium</td>\n",
              "    </tr>\n",
              "    <tr>\n",
              "      <th>1</th>\n",
              "      <td>892054251</td>\n",
              "      <td>United States of America</td>\n",
              "      <td>2017-10-22 00:33:00</td>\n",
              "      <td>2017-10-30 01:37:00</td>\n",
              "      <td>13923</td>\n",
              "      <td>147</td>\n",
              "      <td>trial_vip_popup</td>\n",
              "      <td>trial_premium</td>\n",
              "    </tr>\n",
              "    <tr>\n",
              "      <th>2</th>\n",
              "      <td>892236423</td>\n",
              "      <td>United States of America</td>\n",
              "      <td>2017-10-18 01:09:00</td>\n",
              "      <td>2017-10-23 00:15:00</td>\n",
              "      <td>3783</td>\n",
              "      <td>67</td>\n",
              "      <td>menu</td>\n",
              "      <td>other_type</td>\n",
              "    </tr>\n",
              "  </tbody>\n",
              "</table>\n",
              "</div>"
            ],
            "text/plain": [
              "         uid                   country            joined_at  \\\n",
              "0  891345942                     Italy  2017-05-11 13:00:00   \n",
              "1  892054251  United States of America  2017-10-22 00:33:00   \n",
              "2  892236423  United States of America  2017-10-18 01:09:00   \n",
              "\n",
              "               paid_at  revenue  payment_id        from_page   product_type  \n",
              "0  2017-11-13 15:04:00    12909         147  trial_vip_popup  trial_premium  \n",
              "1  2017-10-30 01:37:00    13923         147  trial_vip_popup  trial_premium  \n",
              "2  2017-10-23 00:15:00     3783          67             menu     other_type  "
            ]
          },
          "execution_count": 7,
          "metadata": {},
          "output_type": "execute_result"
        }
      ],
      "source": [
        " transactions_test.head(3)"
      ]
    },
    {
      "cell_type": "code",
      "execution_count": null,
      "metadata": {
        "id": "K8-1zwHZ0_SF",
        "outputId": "0f4960b4-f177-4f98-b461-e95c219eca3c"
      },
      "outputs": [
        {
          "data": {
            "text/html": [
              "<div>\n",
              "<style scoped>\n",
              "    .dataframe tbody tr th:only-of-type {\n",
              "        vertical-align: middle;\n",
              "    }\n",
              "\n",
              "    .dataframe tbody tr th {\n",
              "        vertical-align: top;\n",
              "    }\n",
              "\n",
              "    .dataframe thead th {\n",
              "        text-align: right;\n",
              "    }\n",
              "</style>\n",
              "<table border=\"1\" class=\"dataframe\">\n",
              "  <thead>\n",
              "    <tr style=\"text-align: right;\">\n",
              "      <th></th>\n",
              "      <th>uid</th>\n",
              "      <th>country</th>\n",
              "      <th>joined_at</th>\n",
              "      <th>paid_at</th>\n",
              "      <th>revenue</th>\n",
              "      <th>payment_id</th>\n",
              "      <th>from_page</th>\n",
              "      <th>product_type</th>\n",
              "    </tr>\n",
              "  </thead>\n",
              "  <tbody>\n",
              "    <tr>\n",
              "      <th>0</th>\n",
              "      <td>891319275.0</td>\n",
              "      <td>France</td>\n",
              "      <td>2017-05-11 19:57:00</td>\n",
              "      <td>2017-12-11 21:57:00</td>\n",
              "      <td>12727.0</td>\n",
              "      <td>147.0</td>\n",
              "      <td>trial_vip_popup</td>\n",
              "      <td>trial_premium</td>\n",
              "    </tr>\n",
              "    <tr>\n",
              "      <th>1</th>\n",
              "      <td>892421826.0</td>\n",
              "      <td>Israel</td>\n",
              "      <td>2017-10-14 12:46:00</td>\n",
              "      <td>2017-10-23 12:54:00</td>\n",
              "      <td>14586.0</td>\n",
              "      <td>147.0</td>\n",
              "      <td>trial_vip_popup</td>\n",
              "      <td>trial_premium</td>\n",
              "    </tr>\n",
              "    <tr>\n",
              "      <th>2</th>\n",
              "      <td>891822480.0</td>\n",
              "      <td>Italy</td>\n",
              "      <td>2017-10-26 22:27:00</td>\n",
              "      <td>2017-12-11 20:59:00</td>\n",
              "      <td>1911.0</td>\n",
              "      <td>19.0</td>\n",
              "      <td>none</td>\n",
              "      <td>coins</td>\n",
              "    </tr>\n",
              "  </tbody>\n",
              "</table>\n",
              "</div>"
            ],
            "text/plain": [
              "           uid country            joined_at              paid_at  revenue  \\\n",
              "0  891319275.0  France  2017-05-11 19:57:00  2017-12-11 21:57:00  12727.0   \n",
              "1  892421826.0  Israel  2017-10-14 12:46:00  2017-10-23 12:54:00  14586.0   \n",
              "2  891822480.0   Italy  2017-10-26 22:27:00  2017-12-11 20:59:00   1911.0   \n",
              "\n",
              "   payment_id        from_page   product_type  \n",
              "0       147.0  trial_vip_popup  trial_premium  \n",
              "1       147.0  trial_vip_popup  trial_premium  \n",
              "2        19.0             none          coins  "
            ]
          },
          "execution_count": 8,
          "metadata": {},
          "output_type": "execute_result"
        }
      ],
      "source": [
        " transactions_control_1.head(3)"
      ]
    },
    {
      "cell_type": "code",
      "execution_count": null,
      "metadata": {
        "id": "Yy39vWO-0_SF",
        "outputId": "5b6eb895-5f14-4190-b660-cb46fcc9ee0c"
      },
      "outputs": [
        {
          "data": {
            "text/html": [
              "<div>\n",
              "<style scoped>\n",
              "    .dataframe tbody tr th:only-of-type {\n",
              "        vertical-align: middle;\n",
              "    }\n",
              "\n",
              "    .dataframe tbody tr th {\n",
              "        vertical-align: top;\n",
              "    }\n",
              "\n",
              "    .dataframe thead th {\n",
              "        text-align: right;\n",
              "    }\n",
              "</style>\n",
              "<table border=\"1\" class=\"dataframe\">\n",
              "  <thead>\n",
              "    <tr style=\"text-align: right;\">\n",
              "      <th></th>\n",
              "      <th>uid</th>\n",
              "      <th>country</th>\n",
              "      <th>joined_at</th>\n",
              "      <th>paid_at</th>\n",
              "      <th>revenue</th>\n",
              "      <th>payment_id</th>\n",
              "      <th>from_page</th>\n",
              "      <th>product_type</th>\n",
              "    </tr>\n",
              "  </thead>\n",
              "  <tbody>\n",
              "    <tr>\n",
              "      <th>0</th>\n",
              "      <td>891266616</td>\n",
              "      <td>Argentina</td>\n",
              "      <td>2017-06-11 15:25:00</td>\n",
              "      <td>2017-10-11 17:35:00</td>\n",
              "      <td>6305</td>\n",
              "      <td>19</td>\n",
              "      <td>autorefill</td>\n",
              "      <td>coins</td>\n",
              "    </tr>\n",
              "    <tr>\n",
              "      <th>1</th>\n",
              "      <td>892186737</td>\n",
              "      <td>Chile</td>\n",
              "      <td>2017-10-19 06:03:00</td>\n",
              "      <td>2017-04-11 08:53:00</td>\n",
              "      <td>4732</td>\n",
              "      <td>147</td>\n",
              "      <td>promo_09</td>\n",
              "      <td>premium_no_trial</td>\n",
              "    </tr>\n",
              "    <tr>\n",
              "      <th>2</th>\n",
              "      <td>891959004</td>\n",
              "      <td>United States of America</td>\n",
              "      <td>2017-10-24 00:12:00</td>\n",
              "      <td>2017-10-31 02:12:00</td>\n",
              "      <td>10153</td>\n",
              "      <td>147</td>\n",
              "      <td>trial_vip_popup</td>\n",
              "      <td>trial_premium</td>\n",
              "    </tr>\n",
              "  </tbody>\n",
              "</table>\n",
              "</div>"
            ],
            "text/plain": [
              "         uid                   country            joined_at  \\\n",
              "0  891266616                 Argentina  2017-06-11 15:25:00   \n",
              "1  892186737                     Chile  2017-10-19 06:03:00   \n",
              "2  891959004  United States of America  2017-10-24 00:12:00   \n",
              "\n",
              "               paid_at  revenue  payment_id        from_page      product_type  \n",
              "0  2017-10-11 17:35:00     6305          19       autorefill             coins  \n",
              "1  2017-04-11 08:53:00     4732         147         promo_09  premium_no_trial  \n",
              "2  2017-10-31 02:12:00    10153         147  trial_vip_popup     trial_premium  "
            ]
          },
          "execution_count": 9,
          "metadata": {},
          "output_type": "execute_result"
        }
      ],
      "source": [
        " transactions_control_2.head(3)"
      ]
    },
    {
      "cell_type": "code",
      "execution_count": null,
      "metadata": {
        "id": "oHh46foq0_SF"
      },
      "outputs": [],
      "source": [
        "# Сохраняем копии для изменения\n",
        "users_test = users_test.copy()\n",
        "users_control_1 = users_control_1.copy()\n",
        "users_control_2 = users_control_2.copy()\n",
        "tx_test = transactions_test.copy()\n",
        "tx_control_1 = transactions_control_1.copy()\n",
        "tx_control_2 = transactions_control_2.copy()"
      ]
    },
    {
      "cell_type": "code",
      "execution_count": null,
      "metadata": {
        "id": "S7Bxsf6F0_SF",
        "outputId": "cdce957d-a711-4627-9369-693811f99314"
      },
      "outputs": [
        {
          "name": "stdout",
          "output_type": "stream",
          "text": [
            "0\n",
            "0\n",
            "0\n",
            "0\n",
            "0\n",
            "0\n"
          ]
        }
      ],
      "source": [
        "#Убедимся, что один и тот же пользователь (`uid`) не встречается одновременно в двух или более выборках.\n",
        "\n",
        "print(len(users_test.merge(users_control_2, on = 'uid')))\n",
        "print(len(users_test.merge(users_control_1, on = 'uid')))\n",
        "print(len(users_control_2.merge(users_control_1, on = 'uid')))\n",
        "print(len(transactions_test.merge(users_control_2, on = 'uid')))\n",
        "print(len(transactions_test.merge(users_control_1, on = 'uid')))\n",
        "print(len(transactions_control_2.merge(users_control_1, on = 'uid')))"
      ]
    },
    {
      "cell_type": "code",
      "execution_count": null,
      "metadata": {
        "id": "HtOm-oT50_SG"
      },
      "outputs": [],
      "source": [
        "# В каждом датафрейме создаём колонку 'sample' с признаком выборки:\n",
        "# 't' - тестовая выборка\n",
        "# 'c1' - контрольная 1\n",
        "# 'c2' - контрольная 2\n",
        "\n",
        "users_test['sample'] = 't'\n",
        "users_control_1['sample'] = 'c1'\n",
        "users_control_2['sample'] = 'c2'\n",
        "\n",
        "transactions_test['sample'] = 't'\n",
        "transactions_control_1['sample'] = 'c1'\n",
        "transactions_control_2['sample'] = 'c2'\n"
      ]
    },
    {
      "cell_type": "code",
      "execution_count": null,
      "metadata": {
        "id": "-fgWg4ES0_SG",
        "outputId": "0387d791-1191-4318-b994-066af9916677"
      },
      "outputs": [
        {
          "name": "stdout",
          "output_type": "stream",
          "text": [
            "True\n",
            "True\n"
          ]
        }
      ],
      "source": [
        "# Объединим таблицы users и transactions из разных выборок\n",
        "users = pd.concat([users_test, users_control_1, users_control_2], ignore_index=True)\n",
        "transactions = pd.concat([transactions_test, transactions_control_1, transactions_control_2], ignore_index=True)\n",
        "print(len(users) == len(users_test) + len(users_control_1) + len(users_control_2))\n",
        "print(len(transactions) == len(transactions_test) + len(transactions_control_1) + len(transactions_control_2))\n"
      ]
    },
    {
      "cell_type": "code",
      "execution_count": null,
      "metadata": {
        "id": "7ciQdzHO0_SG"
      },
      "outputs": [],
      "source": [
        " # сделаем копии объединённых таблиц, эти данные не будем изменять в работе\n",
        "orig_users = users.copy()\n",
        "orig_transactions = transactions.copy()"
      ]
    },
    {
      "cell_type": "markdown",
      "metadata": {
        "id": "GeecUyHr0_SG"
      },
      "source": [
        "# Описание таблицы `users`\n",
        "\n",
        "- **uid** — идентификатор пользователя\n",
        "- **age** — возраст пользователя\n",
        "- **attraction_coeff** — коэффициент привлекательности (от 0 до 1000), рассчитывается как (лайки / просмотры) * 1000\n",
        "- **coins** — количество монеток (внутренняя валюта)\n",
        "- **country** — страна пользователя\n",
        "- **visit_days** — дни после регистрации, в которые пользователь посещал приложение (например: в 1, затем в 7)\n",
        "- **gender** — пол пользователя\n",
        "- **age_filter_start** — минимальный возраст в фильтре поиска\n",
        "- **age_filter_end** — максимальный возраст в фильтре поиска\n",
        "- **views_count** — количество полученных оценок\n",
        "- **was_premium** — был ли когда-либо премиум (либо пробный, либо купленный премиум)\n",
        "- **is_premium** — является ли премиум на данный момент\n",
        "- **total_revenue** — нормированная выручка\n"
      ]
    },
    {
      "cell_type": "code",
      "execution_count": null,
      "metadata": {
        "id": "7p5Vsh0_0_SG",
        "outputId": "da12f22d-6a2f-4754-ef55-db64c95424e3"
      },
      "outputs": [
        {
          "data": {
            "text/html": [
              "<div>\n",
              "<style scoped>\n",
              "    .dataframe tbody tr th:only-of-type {\n",
              "        vertical-align: middle;\n",
              "    }\n",
              "\n",
              "    .dataframe tbody tr th {\n",
              "        vertical-align: top;\n",
              "    }\n",
              "\n",
              "    .dataframe thead th {\n",
              "        text-align: right;\n",
              "    }\n",
              "</style>\n",
              "<table border=\"1\" class=\"dataframe\">\n",
              "  <thead>\n",
              "    <tr style=\"text-align: right;\">\n",
              "      <th></th>\n",
              "      <th>uid</th>\n",
              "      <th>age</th>\n",
              "      <th>attraction_coeff</th>\n",
              "      <th>coins</th>\n",
              "      <th>country</th>\n",
              "      <th>visit_days</th>\n",
              "      <th>gender</th>\n",
              "      <th>age_filter_start</th>\n",
              "      <th>age_filter_end</th>\n",
              "      <th>views_count</th>\n",
              "      <th>was_premium</th>\n",
              "      <th>is_premium</th>\n",
              "      <th>total_revenue</th>\n",
              "      <th>sample</th>\n",
              "    </tr>\n",
              "  </thead>\n",
              "  <tbody>\n",
              "    <tr>\n",
              "      <th>0</th>\n",
              "      <td>892309896</td>\n",
              "      <td>27</td>\n",
              "      <td>685</td>\n",
              "      <td>NaN</td>\n",
              "      <td>United States of America</td>\n",
              "      <td>1,2,3,4,5,6,7,8,9,10,11,12,16,17</td>\n",
              "      <td>1</td>\n",
              "      <td>24</td>\n",
              "      <td>30</td>\n",
              "      <td>89</td>\n",
              "      <td>NaN</td>\n",
              "      <td>NaN</td>\n",
              "      <td>0</td>\n",
              "      <td>t</td>\n",
              "    </tr>\n",
              "    <tr>\n",
              "      <th>1</th>\n",
              "      <td>892044516</td>\n",
              "      <td>27</td>\n",
              "      <td>0</td>\n",
              "      <td>NaN</td>\n",
              "      <td>Germany</td>\n",
              "      <td>NaN</td>\n",
              "      <td>1</td>\n",
              "      <td>24</td>\n",
              "      <td>30</td>\n",
              "      <td>0</td>\n",
              "      <td>NaN</td>\n",
              "      <td>NaN</td>\n",
              "      <td>0</td>\n",
              "      <td>t</td>\n",
              "    </tr>\n",
              "    <tr>\n",
              "      <th>2</th>\n",
              "      <td>892185708</td>\n",
              "      <td>45</td>\n",
              "      <td>44</td>\n",
              "      <td>NaN</td>\n",
              "      <td>Israel</td>\n",
              "      <td>1,3,4,6,7,8,10,11,12,13,14,15,16,17,18,19,20,2...</td>\n",
              "      <td>1</td>\n",
              "      <td>42</td>\n",
              "      <td>48</td>\n",
              "      <td>68</td>\n",
              "      <td>NaN</td>\n",
              "      <td>NaN</td>\n",
              "      <td>0</td>\n",
              "      <td>t</td>\n",
              "    </tr>\n",
              "    <tr>\n",
              "      <th>3</th>\n",
              "      <td>892130292</td>\n",
              "      <td>32</td>\n",
              "      <td>0</td>\n",
              "      <td>NaN</td>\n",
              "      <td>United States of America</td>\n",
              "      <td>1,2,3,4,5,6,7,8,9,10,11,12</td>\n",
              "      <td>1</td>\n",
              "      <td>29</td>\n",
              "      <td>35</td>\n",
              "      <td>0</td>\n",
              "      <td>NaN</td>\n",
              "      <td>NaN</td>\n",
              "      <td>0</td>\n",
              "      <td>t</td>\n",
              "    </tr>\n",
              "    <tr>\n",
              "      <th>4</th>\n",
              "      <td>891406035</td>\n",
              "      <td>27</td>\n",
              "      <td>1000</td>\n",
              "      <td>NaN</td>\n",
              "      <td>France</td>\n",
              "      <td>NaN</td>\n",
              "      <td>1</td>\n",
              "      <td>24</td>\n",
              "      <td>30</td>\n",
              "      <td>1</td>\n",
              "      <td>1.0</td>\n",
              "      <td>NaN</td>\n",
              "      <td>0</td>\n",
              "      <td>t</td>\n",
              "    </tr>\n",
              "    <tr>\n",
              "      <th>...</th>\n",
              "      <td>...</td>\n",
              "      <td>...</td>\n",
              "      <td>...</td>\n",
              "      <td>...</td>\n",
              "      <td>...</td>\n",
              "      <td>...</td>\n",
              "      <td>...</td>\n",
              "      <td>...</td>\n",
              "      <td>...</td>\n",
              "      <td>...</td>\n",
              "      <td>...</td>\n",
              "      <td>...</td>\n",
              "      <td>...</td>\n",
              "      <td>...</td>\n",
              "    </tr>\n",
              "    <tr>\n",
              "      <th>12907</th>\n",
              "      <td>891937401</td>\n",
              "      <td>63</td>\n",
              "      <td>242</td>\n",
              "      <td>NaN</td>\n",
              "      <td>Italy</td>\n",
              "      <td>1,2</td>\n",
              "      <td>1</td>\n",
              "      <td>50</td>\n",
              "      <td>66</td>\n",
              "      <td>33</td>\n",
              "      <td>NaN</td>\n",
              "      <td>NaN</td>\n",
              "      <td>0</td>\n",
              "      <td>c2</td>\n",
              "    </tr>\n",
              "    <tr>\n",
              "      <th>12908</th>\n",
              "      <td>891692844</td>\n",
              "      <td>35</td>\n",
              "      <td>500</td>\n",
              "      <td>NaN</td>\n",
              "      <td>France</td>\n",
              "      <td>1,2,3,4,5,6,8,9,10,11,12,14,16</td>\n",
              "      <td>1</td>\n",
              "      <td>24</td>\n",
              "      <td>45</td>\n",
              "      <td>2</td>\n",
              "      <td>NaN</td>\n",
              "      <td>NaN</td>\n",
              "      <td>0</td>\n",
              "      <td>c2</td>\n",
              "    </tr>\n",
              "    <tr>\n",
              "      <th>12909</th>\n",
              "      <td>891096429</td>\n",
              "      <td>41</td>\n",
              "      <td>333</td>\n",
              "      <td>NaN</td>\n",
              "      <td>United States of America</td>\n",
              "      <td>NaN</td>\n",
              "      <td>1</td>\n",
              "      <td>38</td>\n",
              "      <td>44</td>\n",
              "      <td>6</td>\n",
              "      <td>NaN</td>\n",
              "      <td>NaN</td>\n",
              "      <td>0</td>\n",
              "      <td>c2</td>\n",
              "    </tr>\n",
              "    <tr>\n",
              "      <th>12910</th>\n",
              "      <td>891697584</td>\n",
              "      <td>48</td>\n",
              "      <td>210</td>\n",
              "      <td>NaN</td>\n",
              "      <td>United Kingdom (Great Britain)</td>\n",
              "      <td>2,3,5,7,9,10,12,14,15</td>\n",
              "      <td>1</td>\n",
              "      <td>45</td>\n",
              "      <td>51</td>\n",
              "      <td>19</td>\n",
              "      <td>NaN</td>\n",
              "      <td>NaN</td>\n",
              "      <td>0</td>\n",
              "      <td>c2</td>\n",
              "    </tr>\n",
              "    <tr>\n",
              "      <th>12911</th>\n",
              "      <td>891095634</td>\n",
              "      <td>22</td>\n",
              "      <td>0</td>\n",
              "      <td>NaN</td>\n",
              "      <td>Italy</td>\n",
              "      <td>NaN</td>\n",
              "      <td>1</td>\n",
              "      <td>19</td>\n",
              "      <td>25</td>\n",
              "      <td>0</td>\n",
              "      <td>NaN</td>\n",
              "      <td>NaN</td>\n",
              "      <td>0</td>\n",
              "      <td>c2</td>\n",
              "    </tr>\n",
              "  </tbody>\n",
              "</table>\n",
              "<p>12912 rows × 14 columns</p>\n",
              "</div>"
            ],
            "text/plain": [
              "             uid  age  attraction_coeff  coins  \\\n",
              "0      892309896   27               685    NaN   \n",
              "1      892044516   27                 0    NaN   \n",
              "2      892185708   45                44    NaN   \n",
              "3      892130292   32                 0    NaN   \n",
              "4      891406035   27              1000    NaN   \n",
              "...          ...  ...               ...    ...   \n",
              "12907  891937401   63               242    NaN   \n",
              "12908  891692844   35               500    NaN   \n",
              "12909  891096429   41               333    NaN   \n",
              "12910  891697584   48               210    NaN   \n",
              "12911  891095634   22                 0    NaN   \n",
              "\n",
              "                              country  \\\n",
              "0            United States of America   \n",
              "1                             Germany   \n",
              "2                              Israel   \n",
              "3            United States of America   \n",
              "4                              France   \n",
              "...                               ...   \n",
              "12907                           Italy   \n",
              "12908                          France   \n",
              "12909        United States of America   \n",
              "12910  United Kingdom (Great Britain)   \n",
              "12911                           Italy   \n",
              "\n",
              "                                              visit_days  gender  \\\n",
              "0                       1,2,3,4,5,6,7,8,9,10,11,12,16,17       1   \n",
              "1                                                    NaN       1   \n",
              "2      1,3,4,6,7,8,10,11,12,13,14,15,16,17,18,19,20,2...       1   \n",
              "3                             1,2,3,4,5,6,7,8,9,10,11,12       1   \n",
              "4                                                    NaN       1   \n",
              "...                                                  ...     ...   \n",
              "12907                                                1,2       1   \n",
              "12908                     1,2,3,4,5,6,8,9,10,11,12,14,16       1   \n",
              "12909                                                NaN       1   \n",
              "12910                              2,3,5,7,9,10,12,14,15       1   \n",
              "12911                                                NaN       1   \n",
              "\n",
              "       age_filter_start  age_filter_end  views_count  was_premium  is_premium  \\\n",
              "0                    24              30           89          NaN         NaN   \n",
              "1                    24              30            0          NaN         NaN   \n",
              "2                    42              48           68          NaN         NaN   \n",
              "3                    29              35            0          NaN         NaN   \n",
              "4                    24              30            1          1.0         NaN   \n",
              "...                 ...             ...          ...          ...         ...   \n",
              "12907                50              66           33          NaN         NaN   \n",
              "12908                24              45            2          NaN         NaN   \n",
              "12909                38              44            6          NaN         NaN   \n",
              "12910                45              51           19          NaN         NaN   \n",
              "12911                19              25            0          NaN         NaN   \n",
              "\n",
              "       total_revenue sample  \n",
              "0                  0      t  \n",
              "1                  0      t  \n",
              "2                  0      t  \n",
              "3                  0      t  \n",
              "4                  0      t  \n",
              "...              ...    ...  \n",
              "12907              0     c2  \n",
              "12908              0     c2  \n",
              "12909              0     c2  \n",
              "12910              0     c2  \n",
              "12911              0     c2  \n",
              "\n",
              "[12912 rows x 14 columns]"
            ]
          },
          "execution_count": 88,
          "metadata": {},
          "output_type": "execute_result"
        }
      ],
      "source": [
        " users"
      ]
    },
    {
      "cell_type": "code",
      "execution_count": null,
      "metadata": {
        "id": "hAeTHY9N0_SH",
        "outputId": "0d42a33d-25af-481a-85f3-796f347ce2ac"
      },
      "outputs": [
        {
          "name": "stdout",
          "output_type": "stream",
          "text": [
            "<class 'pandas.core.frame.DataFrame'>\n",
            "RangeIndex: 12912 entries, 0 to 12911\n",
            "Data columns (total 14 columns):\n",
            " #   Column            Non-Null Count  Dtype  \n",
            "---  ------            --------------  -----  \n",
            " 0   uid               12912 non-null  int64  \n",
            " 1   age               12912 non-null  int64  \n",
            " 2   attraction_coeff  12912 non-null  int64  \n",
            " 3   coins             170 non-null    float64\n",
            " 4   country           12912 non-null  object \n",
            " 5   visit_days        8894 non-null   object \n",
            " 6   gender            12912 non-null  int64  \n",
            " 7   age_filter_start  12912 non-null  int64  \n",
            " 8   age_filter_end    12912 non-null  int64  \n",
            " 9   views_count       12912 non-null  int64  \n",
            " 10  was_premium       1255 non-null   float64\n",
            " 11  is_premium        540 non-null    float64\n",
            " 12  total_revenue     12912 non-null  int64  \n",
            " 13  sample            12912 non-null  object \n",
            "dtypes: float64(3), int64(8), object(3)\n",
            "memory usage: 1.4+ MB\n"
          ]
        }
      ],
      "source": [
        " users.info()"
      ]
    },
    {
      "cell_type": "code",
      "execution_count": null,
      "metadata": {
        "id": "b0w1l1Lp0_SH",
        "outputId": "fc15c9a9-d7b8-4451-d064-1370ba86ba92"
      },
      "outputs": [
        {
          "data": {
            "text/html": [
              "<div>\n",
              "<style scoped>\n",
              "    .dataframe tbody tr th:only-of-type {\n",
              "        vertical-align: middle;\n",
              "    }\n",
              "\n",
              "    .dataframe tbody tr th {\n",
              "        vertical-align: top;\n",
              "    }\n",
              "\n",
              "    .dataframe thead th {\n",
              "        text-align: right;\n",
              "    }\n",
              "</style>\n",
              "<table border=\"1\" class=\"dataframe\">\n",
              "  <thead>\n",
              "    <tr style=\"text-align: right;\">\n",
              "      <th></th>\n",
              "      <th>uid</th>\n",
              "      <th>age</th>\n",
              "      <th>attraction_coeff</th>\n",
              "      <th>coins</th>\n",
              "      <th>country</th>\n",
              "      <th>visit_days</th>\n",
              "      <th>gender</th>\n",
              "      <th>age_filter_start</th>\n",
              "      <th>age_filter_end</th>\n",
              "      <th>views_count</th>\n",
              "      <th>was_premium</th>\n",
              "      <th>is_premium</th>\n",
              "      <th>total_revenue</th>\n",
              "      <th>sample</th>\n",
              "    </tr>\n",
              "  </thead>\n",
              "  <tbody>\n",
              "    <tr>\n",
              "      <th>count</th>\n",
              "      <td>1.291200e+04</td>\n",
              "      <td>12912.000000</td>\n",
              "      <td>12912.000000</td>\n",
              "      <td>170.000000</td>\n",
              "      <td>12912</td>\n",
              "      <td>8894</td>\n",
              "      <td>12912.000000</td>\n",
              "      <td>12912.000000</td>\n",
              "      <td>12912.000000</td>\n",
              "      <td>12912.000000</td>\n",
              "      <td>1255.0</td>\n",
              "      <td>540.0</td>\n",
              "      <td>12912.000000</td>\n",
              "      <td>12912</td>\n",
              "    </tr>\n",
              "    <tr>\n",
              "      <th>unique</th>\n",
              "      <td>NaN</td>\n",
              "      <td>NaN</td>\n",
              "      <td>NaN</td>\n",
              "      <td>NaN</td>\n",
              "      <td>72</td>\n",
              "      <td>2132</td>\n",
              "      <td>NaN</td>\n",
              "      <td>NaN</td>\n",
              "      <td>NaN</td>\n",
              "      <td>NaN</td>\n",
              "      <td>NaN</td>\n",
              "      <td>NaN</td>\n",
              "      <td>NaN</td>\n",
              "      <td>3</td>\n",
              "    </tr>\n",
              "    <tr>\n",
              "      <th>top</th>\n",
              "      <td>NaN</td>\n",
              "      <td>NaN</td>\n",
              "      <td>NaN</td>\n",
              "      <td>NaN</td>\n",
              "      <td>United States of America</td>\n",
              "      <td>1</td>\n",
              "      <td>NaN</td>\n",
              "      <td>NaN</td>\n",
              "      <td>NaN</td>\n",
              "      <td>NaN</td>\n",
              "      <td>NaN</td>\n",
              "      <td>NaN</td>\n",
              "      <td>NaN</td>\n",
              "      <td>c1</td>\n",
              "    </tr>\n",
              "    <tr>\n",
              "      <th>freq</th>\n",
              "      <td>NaN</td>\n",
              "      <td>NaN</td>\n",
              "      <td>NaN</td>\n",
              "      <td>NaN</td>\n",
              "      <td>4407</td>\n",
              "      <td>1704</td>\n",
              "      <td>NaN</td>\n",
              "      <td>NaN</td>\n",
              "      <td>NaN</td>\n",
              "      <td>NaN</td>\n",
              "      <td>NaN</td>\n",
              "      <td>NaN</td>\n",
              "      <td>NaN</td>\n",
              "      <td>4340</td>\n",
              "    </tr>\n",
              "    <tr>\n",
              "      <th>mean</th>\n",
              "      <td>8.917569e+08</td>\n",
              "      <td>32.010378</td>\n",
              "      <td>315.455545</td>\n",
              "      <td>688.958824</td>\n",
              "      <td>NaN</td>\n",
              "      <td>NaN</td>\n",
              "      <td>0.955158</td>\n",
              "      <td>26.815985</td>\n",
              "      <td>38.568463</td>\n",
              "      <td>46.641032</td>\n",
              "      <td>1.0</td>\n",
              "      <td>1.0</td>\n",
              "      <td>526.837283</td>\n",
              "      <td>NaN</td>\n",
              "    </tr>\n",
              "    <tr>\n",
              "      <th>std</th>\n",
              "      <td>1.610285e+06</td>\n",
              "      <td>10.224415</td>\n",
              "      <td>323.488766</td>\n",
              "      <td>7690.943033</td>\n",
              "      <td>NaN</td>\n",
              "      <td>NaN</td>\n",
              "      <td>0.206965</td>\n",
              "      <td>9.447197</td>\n",
              "      <td>15.511204</td>\n",
              "      <td>285.324194</td>\n",
              "      <td>0.0</td>\n",
              "      <td>0.0</td>\n",
              "      <td>5524.662716</td>\n",
              "      <td>NaN</td>\n",
              "    </tr>\n",
              "    <tr>\n",
              "      <th>min</th>\n",
              "      <td>8.910509e+08</td>\n",
              "      <td>16.000000</td>\n",
              "      <td>0.000000</td>\n",
              "      <td>1.000000</td>\n",
              "      <td>NaN</td>\n",
              "      <td>NaN</td>\n",
              "      <td>0.000000</td>\n",
              "      <td>13.000000</td>\n",
              "      <td>19.000000</td>\n",
              "      <td>0.000000</td>\n",
              "      <td>1.0</td>\n",
              "      <td>1.0</td>\n",
              "      <td>0.000000</td>\n",
              "      <td>NaN</td>\n",
              "    </tr>\n",
              "    <tr>\n",
              "      <th>25%</th>\n",
              "      <td>8.913565e+08</td>\n",
              "      <td>25.000000</td>\n",
              "      <td>0.000000</td>\n",
              "      <td>6.000000</td>\n",
              "      <td>NaN</td>\n",
              "      <td>NaN</td>\n",
              "      <td>1.000000</td>\n",
              "      <td>19.000000</td>\n",
              "      <td>28.000000</td>\n",
              "      <td>1.000000</td>\n",
              "      <td>1.0</td>\n",
              "      <td>1.0</td>\n",
              "      <td>0.000000</td>\n",
              "      <td>NaN</td>\n",
              "    </tr>\n",
              "    <tr>\n",
              "      <th>50%</th>\n",
              "      <td>8.917255e+08</td>\n",
              "      <td>30.000000</td>\n",
              "      <td>250.000000</td>\n",
              "      <td>10.000000</td>\n",
              "      <td>NaN</td>\n",
              "      <td>NaN</td>\n",
              "      <td>1.000000</td>\n",
              "      <td>25.000000</td>\n",
              "      <td>35.000000</td>\n",
              "      <td>6.000000</td>\n",
              "      <td>1.0</td>\n",
              "      <td>1.0</td>\n",
              "      <td>0.000000</td>\n",
              "      <td>NaN</td>\n",
              "    </tr>\n",
              "    <tr>\n",
              "      <th>75%</th>\n",
              "      <td>8.920860e+08</td>\n",
              "      <td>38.000000</td>\n",
              "      <td>529.000000</td>\n",
              "      <td>28.000000</td>\n",
              "      <td>NaN</td>\n",
              "      <td>NaN</td>\n",
              "      <td>1.000000</td>\n",
              "      <td>32.000000</td>\n",
              "      <td>45.000000</td>\n",
              "      <td>21.000000</td>\n",
              "      <td>1.0</td>\n",
              "      <td>1.0</td>\n",
              "      <td>0.000000</td>\n",
              "      <td>NaN</td>\n",
              "    </tr>\n",
              "    <tr>\n",
              "      <th>max</th>\n",
              "      <td>1.053059e+09</td>\n",
              "      <td>99.000000</td>\n",
              "      <td>1000.000000</td>\n",
              "      <td>99958.000000</td>\n",
              "      <td>NaN</td>\n",
              "      <td>NaN</td>\n",
              "      <td>1.000000</td>\n",
              "      <td>96.000000</td>\n",
              "      <td>102.000000</td>\n",
              "      <td>16157.000000</td>\n",
              "      <td>1.0</td>\n",
              "      <td>1.0</td>\n",
              "      <td>486330.000000</td>\n",
              "      <td>NaN</td>\n",
              "    </tr>\n",
              "  </tbody>\n",
              "</table>\n",
              "</div>"
            ],
            "text/plain": [
              "                 uid           age  attraction_coeff         coins  \\\n",
              "count   1.291200e+04  12912.000000      12912.000000    170.000000   \n",
              "unique           NaN           NaN               NaN           NaN   \n",
              "top              NaN           NaN               NaN           NaN   \n",
              "freq             NaN           NaN               NaN           NaN   \n",
              "mean    8.917569e+08     32.010378        315.455545    688.958824   \n",
              "std     1.610285e+06     10.224415        323.488766   7690.943033   \n",
              "min     8.910509e+08     16.000000          0.000000      1.000000   \n",
              "25%     8.913565e+08     25.000000          0.000000      6.000000   \n",
              "50%     8.917255e+08     30.000000        250.000000     10.000000   \n",
              "75%     8.920860e+08     38.000000        529.000000     28.000000   \n",
              "max     1.053059e+09     99.000000       1000.000000  99958.000000   \n",
              "\n",
              "                         country visit_days        gender  age_filter_start  \\\n",
              "count                      12912       8894  12912.000000      12912.000000   \n",
              "unique                        72       2132           NaN               NaN   \n",
              "top     United States of America          1           NaN               NaN   \n",
              "freq                        4407       1704           NaN               NaN   \n",
              "mean                         NaN        NaN      0.955158         26.815985   \n",
              "std                          NaN        NaN      0.206965          9.447197   \n",
              "min                          NaN        NaN      0.000000         13.000000   \n",
              "25%                          NaN        NaN      1.000000         19.000000   \n",
              "50%                          NaN        NaN      1.000000         25.000000   \n",
              "75%                          NaN        NaN      1.000000         32.000000   \n",
              "max                          NaN        NaN      1.000000         96.000000   \n",
              "\n",
              "        age_filter_end   views_count  was_premium  is_premium  total_revenue  \\\n",
              "count     12912.000000  12912.000000       1255.0       540.0   12912.000000   \n",
              "unique             NaN           NaN          NaN         NaN            NaN   \n",
              "top                NaN           NaN          NaN         NaN            NaN   \n",
              "freq               NaN           NaN          NaN         NaN            NaN   \n",
              "mean         38.568463     46.641032          1.0         1.0     526.837283   \n",
              "std          15.511204    285.324194          0.0         0.0    5524.662716   \n",
              "min          19.000000      0.000000          1.0         1.0       0.000000   \n",
              "25%          28.000000      1.000000          1.0         1.0       0.000000   \n",
              "50%          35.000000      6.000000          1.0         1.0       0.000000   \n",
              "75%          45.000000     21.000000          1.0         1.0       0.000000   \n",
              "max         102.000000  16157.000000          1.0         1.0  486330.000000   \n",
              "\n",
              "       sample  \n",
              "count   12912  \n",
              "unique      3  \n",
              "top        c1  \n",
              "freq     4340  \n",
              "mean      NaN  \n",
              "std       NaN  \n",
              "min       NaN  \n",
              "25%       NaN  \n",
              "50%       NaN  \n",
              "75%       NaN  \n",
              "max       NaN  "
            ]
          },
          "execution_count": 89,
          "metadata": {},
          "output_type": "execute_result"
        }
      ],
      "source": [
        "# посмотрим статистику\n",
        "users.describe(include='all')"
      ]
    },
    {
      "cell_type": "markdown",
      "metadata": {
        "id": "USCMoqtj0_SI"
      },
      "source": [
        "## Первичный осмотр данных\n",
        "\n",
        "В ходе первичного анализа не было выявлено явных логических несоответствий:\n",
        "\n",
        "- Возраст пользователей находится в допустимых пределах.\n",
        "- Коэффициент привлекательности укладывается в ожидаемый диапазон (от 0 до 1000).\n",
        "- Пользователи представлены из 72 стран; наибольшая доля приходится на **США** (примерно 34%).\n",
        "- Обнаружен выраженный дисбаланс по полу: примерно **1 мужчина на 20 женщин**.\n",
        "- Есть случаи, когда пользователи ищут партнёров старше 96 лет — такие случаи допустимы и не требуют исключения.\n",
        "\n",
        "\n",
        "\n",
        "## Анализ столбца `coins`\n",
        "\n",
        "- В выборке **отсутствуют значения, равные нулю**.\n",
        "- Пропущенные значения, вероятнее всего, означают, что пользователь не пользовался внутриигровой валютой, и их **целесообразно трактовать как нули**.\n"
      ]
    },
    {
      "cell_type": "code",
      "execution_count": null,
      "metadata": {
        "id": "7xk_yu0n0_SI"
      },
      "outputs": [],
      "source": [
        "# в столбце coins меняем пропущенные значения на нули\n",
        "users.coins.fillna(0, inplace = True)"
      ]
    },
    {
      "cell_type": "markdown",
      "metadata": {
        "id": "Hy5fu-A10_SI"
      },
      "source": [
        "###  Посмотрим колонки visit_days."
      ]
    },
    {
      "cell_type": "code",
      "execution_count": null,
      "metadata": {
        "id": "mVUkXMq50_SI"
      },
      "outputs": [],
      "source": [
        " # заменим нулями пропущенные значения\n",
        "users.visit_days.fillna(0, inplace = True)\n",
        " # приведём значения в списках к типу int\n",
        "users['visit_days'] = users['visit_days'].apply(\n",
        "    lambda x: [int(i) for i in str(x).replace('[','').replace(']','').split(',') if i.strip().isdigit()]\n",
        ")\n",
        "# добавляем ноль в начало списка для тех строк, которые не были пустыми\n",
        "for v_d in users.visit_days:\n",
        "    if v_d != [0]:\n",
        "        v_d.insert(0, 0)"
      ]
    },
    {
      "cell_type": "code",
      "execution_count": null,
      "metadata": {
        "id": "zDagjs7k0_SI",
        "outputId": "24b23742-0cef-45e0-871b-ed9566c37a85"
      },
      "outputs": [
        {
          "data": {
            "text/plain": [
              "0        [0, 1, 2, 3, 4, 5, 6, 7, 8, 9, 10, 11, 12, 16,...\n",
              "1                                                      [0]\n",
              "2        [0, 1, 3, 4, 6, 7, 8, 10, 11, 12, 13, 14, 15, ...\n",
              "3               [0, 1, 2, 3, 4, 5, 6, 7, 8, 9, 10, 11, 12]\n",
              "4                                                      [0]\n",
              "                               ...                        \n",
              "12907                                            [0, 1, 2]\n",
              "12908      [0, 1, 2, 3, 4, 5, 6, 8, 9, 10, 11, 12, 14, 16]\n",
              "12909                                                  [0]\n",
              "12910                   [0, 2, 3, 5, 7, 9, 10, 12, 14, 15]\n",
              "12911                                                  [0]\n",
              "Name: visit_days, Length: 12912, dtype: object"
            ]
          },
          "execution_count": 92,
          "metadata": {},
          "output_type": "execute_result"
        }
      ],
      "source": [
        " users.visit_days"
      ]
    },
    {
      "cell_type": "code",
      "execution_count": null,
      "metadata": {
        "id": "FIiH9voM0_SI",
        "outputId": "42a9a15e-1d1c-42f4-871c-c5491c38547d"
      },
      "outputs": [
        {
          "data": {
            "text/plain": [
              "31"
            ]
          },
          "execution_count": 93,
          "metadata": {},
          "output_type": "execute_result"
        }
      ],
      "source": [
        " # создадим новую колонку visit_counts, в которую запишем число посещений приложения после регистрации\n",
        "users['visit_count'] = users['visit_days'].apply(lambda x: len(x) - 1)\n",
        "users['visit_count'].max()"
      ]
    },
    {
      "cell_type": "code",
      "execution_count": null,
      "metadata": {
        "id": "V5zwowHO0_SJ",
        "outputId": "789acdf9-002d-4bd7-ca22-abac4184005c"
      },
      "outputs": [
        {
          "data": {
            "image/png": "[encoded data removed]",
            "text/plain": [
              "<Figure size 864x432 with 1 Axes>"
            ]
          },
          "metadata": {
            "needs_background": "light"
          },
          "output_type": "display_data"
        }
      ],
      "source": [
        "# Подсчёт распределения visit_count по выборкам\n",
        "visit_dist = (\n",
        "    users.groupby(['visit_count', 'sample'])\n",
        "    .size()\n",
        "    .reset_index(name='count')\n",
        ")\n",
        "\n",
        "total_by_group = visit_dist.groupby('sample')['count'].transform('sum')\n",
        "visit_dist['percent'] = (visit_dist['count'] / total_by_group * 100).round(2)\n",
        "plt.figure(figsize=(12, 6))\n",
        "sns.barplot(\n",
        "    data=visit_dist,\n",
        "    x='visit_count',\n",
        "    y='percent',\n",
        "    hue='sample',\n",
        "    order=sorted(users['visit_count'].unique())\n",
        ")\n",
        "\n",
        "plt.title(\"Распределение пользователей по числу визитов (%)\")\n",
        "plt.xlabel(\"Количество визитов\")\n",
        "plt.ylabel(\"Процент пользователей\")\n",
        "plt.legend(title=\"Выборка\")\n",
        "plt.tight_layout()\n",
        "plt.show()"
      ]
    },
    {
      "cell_type": "markdown",
      "metadata": {
        "id": "8bhnTpNx0_SJ"
      },
      "source": [
        "## Проверка различий в распределениях `visit_counts`\n",
        "\n",
        "Визуальный анализ показал, что распределения по количеству посещений (`visit_counts`) между группами существенно не отличаются.\n",
        "\n",
        "Для статистической проверки использовался **тест Манна–Уитни**.\n",
        "\n",
        "- **Нулевая гипотеза (H₀):** распределения одинаковы, статистически значимых различий между группами нет.\n",
        "- **Альтернативная гипотеза (H₁):** распределения различаются.\n",
        "- **Уровень значимости:** 0,05\n"
      ]
    },
    {
      "cell_type": "code",
      "execution_count": null,
      "metadata": {
        "id": "pKZn6Sn70_SJ",
        "outputId": "472200eb-b00b-466e-bbeb-21d211db851e"
      },
      "outputs": [
        {
          "name": "stdout",
          "output_type": "stream",
          "text": [
            "p-value = 0.9911566023816412\n"
          ]
        }
      ],
      "source": [
        "print('p-value =', st.mannwhitneyu(users.query(\"sample == 't'\")['visit_count'], users.query(\"sample == 'c1'\")['visit_count'])[1])"
      ]
    },
    {
      "cell_type": "code",
      "execution_count": null,
      "metadata": {
        "id": "UBpBwU_N0_SK",
        "outputId": "19f14254-fa91-413a-a113-5a37f789f073"
      },
      "outputs": [
        {
          "name": "stdout",
          "output_type": "stream",
          "text": [
            "p-value = 0.08805032202688529\n"
          ]
        }
      ],
      "source": [
        "print('p-value =', st.mannwhitneyu(users.query(\"sample == 't'\")['visit_count'], users.query(\"sample == 'c2'\")['visit_count'])[1])"
      ]
    },
    {
      "cell_type": "code",
      "execution_count": null,
      "metadata": {
        "id": "fMPQ1-XA0_SK",
        "outputId": "d1becde5-8065-4798-99ea-4b57bd6399d9"
      },
      "outputs": [
        {
          "name": "stdout",
          "output_type": "stream",
          "text": [
            "p-value = 0.0839835081866715\n"
          ]
        }
      ],
      "source": [
        "print('p-value =', st.mannwhitneyu(users.query(\"sample == 'c1'\")['visit_count'], users.query(\"sample == 'c2'\")['visit_count'])[1])"
      ]
    },
    {
      "cell_type": "markdown",
      "metadata": {
        "id": "L5cYpYuN0_SK"
      },
      "source": [
        "Полученные значения p-value для всех трех пар превышают установленный уровень значимости 0,05, что свидетельствует об отсутствии статистически значимых различий между выборками в распределении пользователей по возрасту.\n",
        "\n",
        "### Посмотрим колонки was_premium и is_premium"
      ]
    },
    {
      "cell_type": "code",
      "execution_count": null,
      "metadata": {
        "id": "pPb43LdU0_SK",
        "outputId": "790f9091-4b34-4fb0-872a-2a564614ea1a"
      },
      "outputs": [
        {
          "name": "stdout",
          "output_type": "stream",
          "text": [
            "[nan  1.]\n",
            "[nan  1.]\n"
          ]
        }
      ],
      "source": [
        "# посмотрим уникальные значения в колонках\n",
        "print(users.was_premium.unique())\n",
        "print(users.is_premium.unique())"
      ]
    },
    {
      "cell_type": "code",
      "execution_count": null,
      "metadata": {
        "id": "YCgmNxl90_SL",
        "outputId": "a4509f1b-ba6d-4a6d-e983-08044e7fa54d"
      },
      "outputs": [
        {
          "name": "stdout",
          "output_type": "stream",
          "text": [
            "[0 1]\n",
            "[0 1]\n"
          ]
        }
      ],
      "source": [
        "users.was_premium.fillna(0, inplace = True)\n",
        "users.is_premium.fillna(0, inplace = True)\n",
        "users.was_premium = users.was_premium.apply(lambda x: int(x))\n",
        "users.is_premium = users.is_premium.apply(lambda x: int(x))\n",
        "print(users.was_premium.unique())\n",
        "print(users.is_premium.unique())"
      ]
    },
    {
      "cell_type": "markdown",
      "metadata": {
        "id": "TAaB4l5l0_SL"
      },
      "source": [
        "### Посмотрим колонки gender"
      ]
    },
    {
      "cell_type": "code",
      "execution_count": null,
      "metadata": {
        "id": "P4rM9q3u0_SL",
        "outputId": "74287004-71ac-44a8-b104-ed9f92cc304f"
      },
      "outputs": [
        {
          "data": {
            "text/html": [
              "<div>\n",
              "<style scoped>\n",
              "    .dataframe tbody tr th:only-of-type {\n",
              "        vertical-align: middle;\n",
              "    }\n",
              "\n",
              "    .dataframe tbody tr th {\n",
              "        vertical-align: top;\n",
              "    }\n",
              "\n",
              "    .dataframe thead th {\n",
              "        text-align: right;\n",
              "    }\n",
              "</style>\n",
              "<table border=\"1\" class=\"dataframe\">\n",
              "  <thead>\n",
              "    <tr style=\"text-align: right;\">\n",
              "      <th>sample</th>\n",
              "      <th>c1</th>\n",
              "      <th>c2</th>\n",
              "      <th>t</th>\n",
              "    </tr>\n",
              "    <tr>\n",
              "      <th>gender</th>\n",
              "      <th></th>\n",
              "      <th></th>\n",
              "      <th></th>\n",
              "    </tr>\n",
              "  </thead>\n",
              "  <tbody>\n",
              "    <tr>\n",
              "      <th>0</th>\n",
              "      <td>182</td>\n",
              "      <td>195</td>\n",
              "      <td>202</td>\n",
              "    </tr>\n",
              "    <tr>\n",
              "      <th>1</th>\n",
              "      <td>4158</td>\n",
              "      <td>4069</td>\n",
              "      <td>4106</td>\n",
              "    </tr>\n",
              "  </tbody>\n",
              "</table>\n",
              "</div>"
            ],
            "text/plain": [
              "sample    c1    c2     t\n",
              "gender                  \n",
              "0        182   195   202\n",
              "1       4158  4069  4106"
            ]
          },
          "execution_count": 102,
          "metadata": {},
          "output_type": "execute_result"
        }
      ],
      "source": [
        "# создадим таблицу с числом пользователей с разбивкой по гендерам и выборкам\n",
        "gender_table = users.pivot_table(index = 'gender', columns = 'sample', values = 'uid', aggfunc = 'count')\n",
        "gender_table"
      ]
    },
    {
      "cell_type": "code",
      "execution_count": null,
      "metadata": {
        "id": "mTRR8kA70_SM",
        "outputId": "ee69aa50-60a9-4448-d939-024ec68251eb"
      },
      "outputs": [
        {
          "data": {
            "image/png": "[encoded data removed]",
            "text/plain": [
              "<Figure size 432x288 with 1 Axes>"
            ]
          },
          "metadata": {
            "needs_background": "light"
          },
          "output_type": "display_data"
        }
      ],
      "source": [
        "#fig, axs = plt.subplots(1, 1, figsize=(12, 7))\n",
        "sns.countplot(data=users, x=\"gender\", hue=\"sample\");"
      ]
    },
    {
      "cell_type": "markdown",
      "metadata": {
        "id": "w5DWQnvM0_SM"
      },
      "source": [
        "## Проверка различий в распределениях по полу\n",
        "\n",
        "Визуальный анализ показал, что распределения по полу между выборками не имеют очевидных отличий.\n",
        "\n",
        "Для статистической проверки использовался **хи-квадрат тест (χ²)**.\n",
        "\n",
        "- **Нулевая гипотеза (H₀):** различий в распределениях по полу между группами нет.\n",
        "- **Альтернативная гипотеза (H₁):** различия в распределениях есть.\n",
        "- **Уровень значимости:** 0,05\n"
      ]
    },
    {
      "cell_type": "code",
      "execution_count": null,
      "metadata": {
        "id": "DO9c1A4A0_SM",
        "outputId": "9eb67acb-3971-4107-fdf1-7d7573cb37e5"
      },
      "outputs": [
        {
          "name": "stdout",
          "output_type": "stream",
          "text": [
            "p-value = 0.28640382402109243\n"
          ]
        }
      ],
      "source": [
        "# сравним test и control_1\n",
        "print('p-value =', st.chi2_contingency(gender_table[['t', 'c1']])[1])"
      ]
    },
    {
      "cell_type": "code",
      "execution_count": null,
      "metadata": {
        "id": "t3ttdFiu0_SM",
        "outputId": "65ce3b56-0e93-412a-878b-65bb4bd91f22"
      },
      "outputs": [
        {
          "name": "stdout",
          "output_type": "stream",
          "text": [
            "p-value = 0.838641703357504\n"
          ]
        }
      ],
      "source": [
        " # сравним test и control_2\n",
        "print('p-value =', st.chi2_contingency(gender_table[['t', 'c2']])[1])"
      ]
    },
    {
      "cell_type": "code",
      "execution_count": null,
      "metadata": {
        "id": "sQJOYBGo0_SW",
        "outputId": "0d509a49-6e1d-4dfa-95e9-05ceb04cbee8"
      },
      "outputs": [
        {
          "name": "stdout",
          "output_type": "stream",
          "text": [
            "p-value = 0.41940247806709796\n"
          ]
        }
      ],
      "source": [
        " # сравним control_1 и control_2\n",
        "print('p-value =', st.chi2_contingency(gender_table[['c2', 'c1']])[1])"
      ]
    },
    {
      "cell_type": "markdown",
      "metadata": {
        "id": "Sc8fhFVm0_SX"
      },
      "source": [
        "Значимых различий между выборками в распределении пользователей по гендерам нет."
      ]
    },
    {
      "cell_type": "markdown",
      "metadata": {
        "id": "L1qCeYlw0_SX"
      },
      "source": [
        "### Посмотрим колонки uid"
      ]
    },
    {
      "cell_type": "code",
      "execution_count": null,
      "metadata": {
        "id": "53NvUmlg0_SX",
        "outputId": "abdb1bfb-55e3-4966-9c58-7498affc01be"
      },
      "outputs": [
        {
          "name": "stdout",
          "output_type": "stream",
          "text": [
            "0\n",
            "0\n",
            "0\n"
          ]
        }
      ],
      "source": [
        "# убедимся, что поле uid содержит уникальные значения\n",
        "print(users_test.uid.duplicated().sum())\n",
        "print(users_control_1.uid.duplicated().sum())\n",
        "print(users_control_2.uid.duplicated().sum())"
      ]
    },
    {
      "cell_type": "markdown",
      "metadata": {
        "id": "JzVmp4Fh0_SX"
      },
      "source": [
        "### Посмотрим колонки age"
      ]
    },
    {
      "cell_type": "code",
      "execution_count": null,
      "metadata": {
        "id": "cMWfXAVM0_SX",
        "outputId": "020b7a76-946a-4129-ee0e-f251c438b876"
      },
      "outputs": [
        {
          "data": {
            "image/png": "[encoded data removed]",
            "text/plain": [
              "<Figure size 864x432 with 1 Axes>"
            ]
          },
          "metadata": {
            "needs_background": "light"
          },
          "output_type": "display_data"
        }
      ],
      "source": [
        "plt.figure(figsize=(12, 6))\n",
        "\n",
        "for label, df in users.groupby('sample'):\n",
        "    sns.kdeplot(\n",
        "        data=df,\n",
        "        x=\"age\",\n",
        "        fill=True,\n",
        "        common_norm=False,\n",
        "        alpha=0.4,\n",
        "        linewidth=2,\n",
        "        label=label\n",
        "    )\n",
        "\n",
        "plt.title(\"Распределение пользователей по возрасту по выборкам\", fontsize=14)\n",
        "plt.xlabel(\"Возраст\")\n",
        "plt.ylabel(\"Плотность\")\n",
        "plt.legend(title=\"Выборка\")\n",
        "plt.tight_layout()\n",
        "plt.show()"
      ]
    },
    {
      "cell_type": "markdown",
      "metadata": {
        "id": "MnPWul5N0_SY"
      },
      "source": [
        "## Проверка различий в распределениях по возрасту\n",
        "\n",
        "Визуальный анализ не выявил заметных различий в распределениях возраста между группами.\n",
        "\n",
        "Для статистической проверки использовался **тест Манна–Уитни**.\n",
        "\n",
        "- **Нулевая гипотеза (H₀):** различий в распределениях по возрасту между группами нет.\n",
        "- **Альтернативная гипотеза (H₁):** различия есть.\n",
        "- **Уровень значимости:** 0,05\n"
      ]
    },
    {
      "cell_type": "code",
      "execution_count": null,
      "metadata": {
        "id": "xje0Zajr0_SZ",
        "outputId": "bf494089-61de-46e7-a4cb-c089a111322a"
      },
      "outputs": [
        {
          "name": "stdout",
          "output_type": "stream",
          "text": [
            "p-value = 0.30680267645865966\n"
          ]
        }
      ],
      "source": [
        "# сравним test и control_1\n",
        "print('p-value =', st.mannwhitneyu(users.query(\"sample == 't'\")['age'], users.query(\"sample == 'c1'\")['age'])[1])"
      ]
    },
    {
      "cell_type": "code",
      "execution_count": null,
      "metadata": {
        "id": "8B9tri8Q0_SZ",
        "outputId": "f566b651-1d88-418d-f95a-2ac06facf1d1"
      },
      "outputs": [
        {
          "name": "stdout",
          "output_type": "stream",
          "text": [
            "p-value = 0.45885860388639843\n"
          ]
        }
      ],
      "source": [
        "# сравним test и control_2\n",
        "print('p-value =', st.mannwhitneyu(users.query(\"sample == 't'\")['age'], users.query(\"sample == 'c2'\")['age'])[1])"
      ]
    },
    {
      "cell_type": "code",
      "execution_count": null,
      "metadata": {
        "id": "mIZB4_Ej0_SZ",
        "outputId": "bb1d4353-13ad-456f-f3ca-ae5121ac9a4b"
      },
      "outputs": [
        {
          "name": "stdout",
          "output_type": "stream",
          "text": [
            "p-value = 0.7919291369256963\n"
          ]
        }
      ],
      "source": [
        "# сравним control_2 и control_1\n",
        "print('p-value =', st.mannwhitneyu(users.query(\"sample == 'c1'\")['age'], users.query(\"sample == 'c2'\")['age'])[1])"
      ]
    },
    {
      "cell_type": "markdown",
      "metadata": {
        "id": "_dVWzeZm0_SZ"
      },
      "source": [
        "Полученные значения p-value для всех трех пар превышают установленный уровень значимости 0,05, что свидетельствует об отсутствии статистически значимых различий между выборками в распределении пользователей по возрасту.\n",
        "\n",
        "### Посмотрим колонки attraction_coeff"
      ]
    },
    {
      "cell_type": "code",
      "execution_count": null,
      "metadata": {
        "id": "DDaxfrBg0_SZ",
        "outputId": "c9081b7d-61fe-4e56-df03-57994de01c80"
      },
      "outputs": [
        {
          "data": {
            "image/png": "[encoded data removed]",
            "text/plain": [
              "<Figure size 864x432 with 1 Axes>"
            ]
          },
          "metadata": {
            "needs_background": "light"
          },
          "output_type": "display_data"
        }
      ],
      "source": [
        "plt.figure(figsize=(12, 6))\n",
        "for label, df in users.groupby('sample'):\n",
        "    sns.kdeplot(\n",
        "        data=df,\n",
        "        x=\"attraction_coeff\",\n",
        "        fill=True,\n",
        "        common_norm=False,\n",
        "        alpha=0.3,\n",
        "        linewidth=2,\n",
        "        label=label\n",
        "    )\n",
        "\n",
        "plt.title(\"Распределение пользователей по коэффициенту привлекательности\", fontsize=14)\n",
        "plt.xlabel(\"Коэффициент привлекательности\")\n",
        "plt.ylabel(\"Плотность\")\n",
        "plt.legend(title=\"Выборка\")\n",
        "plt.tight_layout()\n",
        "plt.show()"
      ]
    },
    {
      "cell_type": "markdown",
      "metadata": {
        "id": "ujx1-F9t0_Sa"
      },
      "source": [
        "## Проверка различий в распределениях коэффициента привлекательности\n",
        "\n",
        "Визуальный анализ показал, что распределения коэффициента привлекательности между группами не имеют явных отличий.\n",
        "\n",
        "Для статистической проверки использовался **тест Манна–Уитни**.\n",
        "\n",
        "- **Нулевая гипотеза (H₀):** распределения не отличаются, статистически значимых различий между группами нет.\n",
        "- **Альтернативная гипотеза (H₁):** различия в распределениях присутствуют.\n",
        "- **Уровень значимости:** 0,05\n"
      ]
    },
    {
      "cell_type": "code",
      "execution_count": null,
      "metadata": {
        "id": "H_wwga6k0_Sa",
        "outputId": "fc850ac6-f299-4f9f-cd2f-8efff8ee0f6f"
      },
      "outputs": [
        {
          "name": "stdout",
          "output_type": "stream",
          "text": [
            "p-value = 0.6352175892456173\n"
          ]
        }
      ],
      "source": [
        " # сравним test и control_1\n",
        "print('p-value =', st.mannwhitneyu(users.query(\"sample == 't'\")['attraction_coeff'], users.query(\"sample == 'c1'\")['attraction_coeff'])[1])"
      ]
    },
    {
      "cell_type": "code",
      "execution_count": null,
      "metadata": {
        "id": "cK_IoYRc0_Sa",
        "outputId": "c583d672-0565-4e22-c30c-b266d8314b05"
      },
      "outputs": [
        {
          "name": "stdout",
          "output_type": "stream",
          "text": [
            "p-value = 0.9378076869815641\n"
          ]
        }
      ],
      "source": [
        "# сравним test и control_2\n",
        "print('p-value =', st.mannwhitneyu(users.query(\"sample == 't'\")['attraction_coeff'], users.query(\"sample == 'c2'\")['attraction_coeff'])[1])"
      ]
    },
    {
      "cell_type": "code",
      "execution_count": null,
      "metadata": {
        "id": "8hb79pVB0_Sa",
        "outputId": "988e11ac-e99d-4f87-905b-3d5873d44051"
      },
      "outputs": [
        {
          "name": "stdout",
          "output_type": "stream",
          "text": [
            "p-value = 0.6876012572220559\n"
          ]
        }
      ],
      "source": [
        " # сравним control_2 и control_1\n",
        "print('p-value =', st.mannwhitneyu(users.query(\"sample == 'c1'\")['attraction_coeff'], users.query(\"sample == 'c2'\")['attraction_coeff'])[1])"
      ]
    },
    {
      "cell_type": "markdown",
      "metadata": {
        "id": "tTt5PjBE0_Sb"
      },
      "source": [
        "Полученные значения p-value для всех трёх пар выборок превышают установленный уровень значимости 0,05. Это указывает на отсутствие статистически значимых различий в распределениях коэффициента привлекательности между группами пользователей.\n",
        "\n",
        "\n",
        "### Посмотрим колонки country"
      ]
    },
    {
      "cell_type": "code",
      "execution_count": null,
      "metadata": {
        "id": "jMLFk3nO0_Sb",
        "outputId": "0dc72107-ec8e-436a-89ba-bbb6adf7c159"
      },
      "outputs": [
        {
          "data": {
            "text/plain": [
              "['Algeria',\n",
              " 'Argentina',\n",
              " 'Armenia',\n",
              " 'Australia',\n",
              " 'Austria',\n",
              " 'Azerbaijan',\n",
              " 'Belarus',\n",
              " 'Belgium',\n",
              " 'Bolivia',\n",
              " 'Brazil',\n",
              " 'Burkina Faso',\n",
              " 'Canada',\n",
              " 'Chile',\n",
              " 'China',\n",
              " 'Colombia',\n",
              " 'Costa Rica',\n",
              " 'Czech Republic',\n",
              " 'Dominican Republic',\n",
              " 'Egypt',\n",
              " 'France',\n",
              " 'Gambia',\n",
              " 'Georgia',\n",
              " 'Germany',\n",
              " 'Guatemala',\n",
              " 'Hungary',\n",
              " 'India',\n",
              " 'Indonesia',\n",
              " 'Iraq',\n",
              " 'Islamic Republic of Iran',\n",
              " 'Israel',\n",
              " 'Italy',\n",
              " 'Jamaica',\n",
              " 'Korea, Republic of',\n",
              " 'Kuwait',\n",
              " 'Kyrgyzstan',\n",
              " 'Latvia',\n",
              " 'Lithuania',\n",
              " 'Malaysia',\n",
              " 'Mali',\n",
              " 'Mexico',\n",
              " 'Moldova, Republic of',\n",
              " 'Monaco',\n",
              " 'Morocco',\n",
              " 'Nepal',\n",
              " 'New Zealand',\n",
              " 'Nicaragua',\n",
              " 'Pakistan',\n",
              " 'Panama',\n",
              " 'Paraguay',\n",
              " 'Peru',\n",
              " 'Philippines',\n",
              " 'Portugal',\n",
              " 'Puerto Rico',\n",
              " 'Qatar',\n",
              " 'Romania',\n",
              " 'Russian Federation',\n",
              " 'Singapore',\n",
              " 'Somalia',\n",
              " 'Spain',\n",
              " 'Sweden',\n",
              " 'Switzerland',\n",
              " 'Tajikistan',\n",
              " 'Tunisia',\n",
              " 'Turkey',\n",
              " 'Uganda',\n",
              " 'Ukraine',\n",
              " 'United Arab Emirates',\n",
              " 'United Kingdom (Great Britain)',\n",
              " 'United States of America',\n",
              " 'Uruguay',\n",
              " 'Uzbekistan',\n",
              " 'Venezuela']"
            ]
          },
          "execution_count": 116,
          "metadata": {},
          "output_type": "execute_result"
        }
      ],
      "source": [
        " # проверим названия стран на наличие дубликатов\n",
        "sorted(list(users['country'].unique()))"
      ]
    },
    {
      "cell_type": "code",
      "execution_count": null,
      "metadata": {
        "id": "eXAYNvKx0_Sb",
        "outputId": "b2d8368b-c71f-406a-83da-1c17cb9716f9"
      },
      "outputs": [
        {
          "data": {
            "text/plain": [
              "72"
            ]
          },
          "execution_count": 117,
          "metadata": {},
          "output_type": "execute_result"
        }
      ],
      "source": [
        " users['country'].nunique()"
      ]
    },
    {
      "cell_type": "code",
      "execution_count": null,
      "metadata": {
        "id": "obkCBSjt0_Sb",
        "outputId": "48bd5da8-4d5d-40f8-b1fe-48929106610c"
      },
      "outputs": [
        {
          "data": {
            "text/html": [
              "<div>\n",
              "<style scoped>\n",
              "    .dataframe tbody tr th:only-of-type {\n",
              "        vertical-align: middle;\n",
              "    }\n",
              "\n",
              "    .dataframe tbody tr th {\n",
              "        vertical-align: top;\n",
              "    }\n",
              "\n",
              "    .dataframe thead th {\n",
              "        text-align: right;\n",
              "    }\n",
              "</style>\n",
              "<table border=\"1\" class=\"dataframe\">\n",
              "  <thead>\n",
              "    <tr style=\"text-align: right;\">\n",
              "      <th>sample</th>\n",
              "      <th>c1</th>\n",
              "      <th>c2</th>\n",
              "      <th>t</th>\n",
              "    </tr>\n",
              "    <tr>\n",
              "      <th>country</th>\n",
              "      <th></th>\n",
              "      <th></th>\n",
              "      <th></th>\n",
              "    </tr>\n",
              "  </thead>\n",
              "  <tbody>\n",
              "    <tr>\n",
              "      <th>United States of America</th>\n",
              "      <td>1471.0</td>\n",
              "      <td>1486.0</td>\n",
              "      <td>1450.0</td>\n",
              "    </tr>\n",
              "    <tr>\n",
              "      <th>Argentina</th>\n",
              "      <td>389.0</td>\n",
              "      <td>397.0</td>\n",
              "      <td>396.0</td>\n",
              "    </tr>\n",
              "    <tr>\n",
              "      <th>France</th>\n",
              "      <td>370.0</td>\n",
              "      <td>376.0</td>\n",
              "      <td>359.0</td>\n",
              "    </tr>\n",
              "    <tr>\n",
              "      <th>Italy</th>\n",
              "      <td>338.0</td>\n",
              "      <td>293.0</td>\n",
              "      <td>323.0</td>\n",
              "    </tr>\n",
              "    <tr>\n",
              "      <th>Spain</th>\n",
              "      <td>342.0</td>\n",
              "      <td>310.0</td>\n",
              "      <td>301.0</td>\n",
              "    </tr>\n",
              "    <tr>\n",
              "      <th>Chile</th>\n",
              "      <td>287.0</td>\n",
              "      <td>286.0</td>\n",
              "      <td>272.0</td>\n",
              "    </tr>\n",
              "    <tr>\n",
              "      <th>United Arab Emirates</th>\n",
              "      <td>207.0</td>\n",
              "      <td>211.0</td>\n",
              "      <td>226.0</td>\n",
              "    </tr>\n",
              "    <tr>\n",
              "      <th>Germany</th>\n",
              "      <td>188.0</td>\n",
              "      <td>202.0</td>\n",
              "      <td>209.0</td>\n",
              "    </tr>\n",
              "    <tr>\n",
              "      <th>United Kingdom (Great Britain)</th>\n",
              "      <td>146.0</td>\n",
              "      <td>146.0</td>\n",
              "      <td>169.0</td>\n",
              "    </tr>\n",
              "    <tr>\n",
              "      <th>Canada</th>\n",
              "      <td>134.0</td>\n",
              "      <td>134.0</td>\n",
              "      <td>137.0</td>\n",
              "    </tr>\n",
              "    <tr>\n",
              "      <th>Israel</th>\n",
              "      <td>109.0</td>\n",
              "      <td>78.0</td>\n",
              "      <td>106.0</td>\n",
              "    </tr>\n",
              "    <tr>\n",
              "      <th>Belgium</th>\n",
              "      <td>108.0</td>\n",
              "      <td>90.0</td>\n",
              "      <td>92.0</td>\n",
              "    </tr>\n",
              "    <tr>\n",
              "      <th>Portugal</th>\n",
              "      <td>100.0</td>\n",
              "      <td>100.0</td>\n",
              "      <td>91.0</td>\n",
              "    </tr>\n",
              "    <tr>\n",
              "      <th>Australia</th>\n",
              "      <td>50.0</td>\n",
              "      <td>51.0</td>\n",
              "      <td>62.0</td>\n",
              "    </tr>\n",
              "    <tr>\n",
              "      <th>Switzerland</th>\n",
              "      <td>42.0</td>\n",
              "      <td>35.0</td>\n",
              "      <td>35.0</td>\n",
              "    </tr>\n",
              "    <tr>\n",
              "      <th>Ukraine</th>\n",
              "      <td>8.0</td>\n",
              "      <td>18.0</td>\n",
              "      <td>15.0</td>\n",
              "    </tr>\n",
              "    <tr>\n",
              "      <th>Mexico</th>\n",
              "      <td>4.0</td>\n",
              "      <td>4.0</td>\n",
              "      <td>7.0</td>\n",
              "    </tr>\n",
              "    <tr>\n",
              "      <th>Russian Federation</th>\n",
              "      <td>6.0</td>\n",
              "      <td>8.0</td>\n",
              "      <td>7.0</td>\n",
              "    </tr>\n",
              "    <tr>\n",
              "      <th>Turkey</th>\n",
              "      <td>8.0</td>\n",
              "      <td>5.0</td>\n",
              "      <td>5.0</td>\n",
              "    </tr>\n",
              "    <tr>\n",
              "      <th>India</th>\n",
              "      <td>6.0</td>\n",
              "      <td>2.0</td>\n",
              "      <td>4.0</td>\n",
              "    </tr>\n",
              "    <tr>\n",
              "      <th>Indonesia</th>\n",
              "      <td>NaN</td>\n",
              "      <td>NaN</td>\n",
              "      <td>4.0</td>\n",
              "    </tr>\n",
              "    <tr>\n",
              "      <th>Morocco</th>\n",
              "      <td>NaN</td>\n",
              "      <td>5.0</td>\n",
              "      <td>3.0</td>\n",
              "    </tr>\n",
              "    <tr>\n",
              "      <th>Tunisia</th>\n",
              "      <td>3.0</td>\n",
              "      <td>NaN</td>\n",
              "      <td>3.0</td>\n",
              "    </tr>\n",
              "    <tr>\n",
              "      <th>Latvia</th>\n",
              "      <td>NaN</td>\n",
              "      <td>NaN</td>\n",
              "      <td>2.0</td>\n",
              "    </tr>\n",
              "    <tr>\n",
              "      <th>Algeria</th>\n",
              "      <td>2.0</td>\n",
              "      <td>NaN</td>\n",
              "      <td>2.0</td>\n",
              "    </tr>\n",
              "    <tr>\n",
              "      <th>Tajikistan</th>\n",
              "      <td>NaN</td>\n",
              "      <td>1.0</td>\n",
              "      <td>2.0</td>\n",
              "    </tr>\n",
              "    <tr>\n",
              "      <th>Pakistan</th>\n",
              "      <td>NaN</td>\n",
              "      <td>2.0</td>\n",
              "      <td>2.0</td>\n",
              "    </tr>\n",
              "    <tr>\n",
              "      <th>Romania</th>\n",
              "      <td>1.0</td>\n",
              "      <td>NaN</td>\n",
              "      <td>1.0</td>\n",
              "    </tr>\n",
              "    <tr>\n",
              "      <th>Puerto Rico</th>\n",
              "      <td>2.0</td>\n",
              "      <td>NaN</td>\n",
              "      <td>1.0</td>\n",
              "    </tr>\n",
              "    <tr>\n",
              "      <th>Singapore</th>\n",
              "      <td>NaN</td>\n",
              "      <td>NaN</td>\n",
              "      <td>1.0</td>\n",
              "    </tr>\n",
              "    <tr>\n",
              "      <th>Peru</th>\n",
              "      <td>1.0</td>\n",
              "      <td>1.0</td>\n",
              "      <td>1.0</td>\n",
              "    </tr>\n",
              "    <tr>\n",
              "      <th>Uruguay</th>\n",
              "      <td>NaN</td>\n",
              "      <td>1.0</td>\n",
              "      <td>1.0</td>\n",
              "    </tr>\n",
              "    <tr>\n",
              "      <th>Philippines</th>\n",
              "      <td>1.0</td>\n",
              "      <td>NaN</td>\n",
              "      <td>1.0</td>\n",
              "    </tr>\n",
              "    <tr>\n",
              "      <th>Korea, Republic of</th>\n",
              "      <td>NaN</td>\n",
              "      <td>NaN</td>\n",
              "      <td>1.0</td>\n",
              "    </tr>\n",
              "    <tr>\n",
              "      <th>Nepal</th>\n",
              "      <td>NaN</td>\n",
              "      <td>NaN</td>\n",
              "      <td>1.0</td>\n",
              "    </tr>\n",
              "    <tr>\n",
              "      <th>Egypt</th>\n",
              "      <td>2.0</td>\n",
              "      <td>NaN</td>\n",
              "      <td>1.0</td>\n",
              "    </tr>\n",
              "  </tbody>\n",
              "</table>\n",
              "</div>"
            ],
            "text/plain": [
              "sample                              c1      c2       t\n",
              "country                                               \n",
              "United States of America        1471.0  1486.0  1450.0\n",
              "Argentina                        389.0   397.0   396.0\n",
              "France                           370.0   376.0   359.0\n",
              "Italy                            338.0   293.0   323.0\n",
              "Spain                            342.0   310.0   301.0\n",
              "Chile                            287.0   286.0   272.0\n",
              "United Arab Emirates             207.0   211.0   226.0\n",
              "Germany                          188.0   202.0   209.0\n",
              "United Kingdom (Great Britain)   146.0   146.0   169.0\n",
              "Canada                           134.0   134.0   137.0\n",
              "Israel                           109.0    78.0   106.0\n",
              "Belgium                          108.0    90.0    92.0\n",
              "Portugal                         100.0   100.0    91.0\n",
              "Australia                         50.0    51.0    62.0\n",
              "Switzerland                       42.0    35.0    35.0\n",
              "Ukraine                            8.0    18.0    15.0\n",
              "Mexico                             4.0     4.0     7.0\n",
              "Russian Federation                 6.0     8.0     7.0\n",
              "Turkey                             8.0     5.0     5.0\n",
              "India                              6.0     2.0     4.0\n",
              "Indonesia                          NaN     NaN     4.0\n",
              "Morocco                            NaN     5.0     3.0\n",
              "Tunisia                            3.0     NaN     3.0\n",
              "Latvia                             NaN     NaN     2.0\n",
              "Algeria                            2.0     NaN     2.0\n",
              "Tajikistan                         NaN     1.0     2.0\n",
              "Pakistan                           NaN     2.0     2.0\n",
              "Romania                            1.0     NaN     1.0\n",
              "Puerto Rico                        2.0     NaN     1.0\n",
              "Singapore                          NaN     NaN     1.0\n",
              "Peru                               1.0     1.0     1.0\n",
              "Uruguay                            NaN     1.0     1.0\n",
              "Philippines                        1.0     NaN     1.0\n",
              "Korea, Republic of                 NaN     NaN     1.0\n",
              "Nepal                              NaN     NaN     1.0\n",
              "Egypt                              2.0     NaN     1.0"
            ]
          },
          "execution_count": 118,
          "metadata": {},
          "output_type": "execute_result"
        }
      ],
      "source": [
        " # посмотрим на распределение пользователей по странам, разбивке по странам и выборкам, сначала выводим первые 36 стран\n",
        "users.pivot_table(index = 'country', columns = 'sample', values = 'uid', aggfunc = 'count') \\\n",
        "    .sort_values(by = 't', ascending = False) \\\n",
        "    .head(36)"
      ]
    },
    {
      "cell_type": "code",
      "execution_count": null,
      "metadata": {
        "id": "JYdQb-iv0_Sb",
        "outputId": "3aec05f0-697a-4a58-9d5a-0dfad92f2b26"
      },
      "outputs": [
        {
          "data": {
            "text/html": [
              "<div>\n",
              "<style scoped>\n",
              "    .dataframe tbody tr th:only-of-type {\n",
              "        vertical-align: middle;\n",
              "    }\n",
              "\n",
              "    .dataframe tbody tr th {\n",
              "        vertical-align: top;\n",
              "    }\n",
              "\n",
              "    .dataframe thead th {\n",
              "        text-align: right;\n",
              "    }\n",
              "</style>\n",
              "<table border=\"1\" class=\"dataframe\">\n",
              "  <thead>\n",
              "    <tr style=\"text-align: right;\">\n",
              "      <th>sample</th>\n",
              "      <th>c1</th>\n",
              "      <th>c2</th>\n",
              "      <th>t</th>\n",
              "    </tr>\n",
              "    <tr>\n",
              "      <th>country</th>\n",
              "      <th></th>\n",
              "      <th></th>\n",
              "      <th></th>\n",
              "    </tr>\n",
              "  </thead>\n",
              "  <tbody>\n",
              "    <tr>\n",
              "      <th>Azerbaijan</th>\n",
              "      <td>NaN</td>\n",
              "      <td>NaN</td>\n",
              "      <td>1.0</td>\n",
              "    </tr>\n",
              "    <tr>\n",
              "      <th>Bolivia</th>\n",
              "      <td>NaN</td>\n",
              "      <td>NaN</td>\n",
              "      <td>1.0</td>\n",
              "    </tr>\n",
              "    <tr>\n",
              "      <th>Brazil</th>\n",
              "      <td>NaN</td>\n",
              "      <td>NaN</td>\n",
              "      <td>1.0</td>\n",
              "    </tr>\n",
              "    <tr>\n",
              "      <th>Colombia</th>\n",
              "      <td>1.0</td>\n",
              "      <td>2.0</td>\n",
              "      <td>1.0</td>\n",
              "    </tr>\n",
              "    <tr>\n",
              "      <th>Costa Rica</th>\n",
              "      <td>1.0</td>\n",
              "      <td>1.0</td>\n",
              "      <td>1.0</td>\n",
              "    </tr>\n",
              "    <tr>\n",
              "      <th>Dominican Republic</th>\n",
              "      <td>2.0</td>\n",
              "      <td>1.0</td>\n",
              "      <td>1.0</td>\n",
              "    </tr>\n",
              "    <tr>\n",
              "      <th>Gambia</th>\n",
              "      <td>NaN</td>\n",
              "      <td>NaN</td>\n",
              "      <td>1.0</td>\n",
              "    </tr>\n",
              "    <tr>\n",
              "      <th>Monaco</th>\n",
              "      <td>NaN</td>\n",
              "      <td>NaN</td>\n",
              "      <td>1.0</td>\n",
              "    </tr>\n",
              "    <tr>\n",
              "      <th>Georgia</th>\n",
              "      <td>NaN</td>\n",
              "      <td>1.0</td>\n",
              "      <td>1.0</td>\n",
              "    </tr>\n",
              "    <tr>\n",
              "      <th>Guatemala</th>\n",
              "      <td>NaN</td>\n",
              "      <td>NaN</td>\n",
              "      <td>1.0</td>\n",
              "    </tr>\n",
              "    <tr>\n",
              "      <th>Hungary</th>\n",
              "      <td>NaN</td>\n",
              "      <td>1.0</td>\n",
              "      <td>1.0</td>\n",
              "    </tr>\n",
              "    <tr>\n",
              "      <th>Iraq</th>\n",
              "      <td>NaN</td>\n",
              "      <td>NaN</td>\n",
              "      <td>1.0</td>\n",
              "    </tr>\n",
              "    <tr>\n",
              "      <th>Islamic Republic of Iran</th>\n",
              "      <td>NaN</td>\n",
              "      <td>NaN</td>\n",
              "      <td>1.0</td>\n",
              "    </tr>\n",
              "    <tr>\n",
              "      <th>Kyrgyzstan</th>\n",
              "      <td>1.0</td>\n",
              "      <td>1.0</td>\n",
              "      <td>1.0</td>\n",
              "    </tr>\n",
              "    <tr>\n",
              "      <th>Uzbekistan</th>\n",
              "      <td>NaN</td>\n",
              "      <td>NaN</td>\n",
              "      <td>1.0</td>\n",
              "    </tr>\n",
              "    <tr>\n",
              "      <th>Armenia</th>\n",
              "      <td>1.0</td>\n",
              "      <td>NaN</td>\n",
              "      <td>NaN</td>\n",
              "    </tr>\n",
              "    <tr>\n",
              "      <th>Austria</th>\n",
              "      <td>NaN</td>\n",
              "      <td>2.0</td>\n",
              "      <td>NaN</td>\n",
              "    </tr>\n",
              "    <tr>\n",
              "      <th>Belarus</th>\n",
              "      <td>NaN</td>\n",
              "      <td>1.0</td>\n",
              "      <td>NaN</td>\n",
              "    </tr>\n",
              "    <tr>\n",
              "      <th>Burkina Faso</th>\n",
              "      <td>1.0</td>\n",
              "      <td>NaN</td>\n",
              "      <td>NaN</td>\n",
              "    </tr>\n",
              "    <tr>\n",
              "      <th>China</th>\n",
              "      <td>1.0</td>\n",
              "      <td>1.0</td>\n",
              "      <td>NaN</td>\n",
              "    </tr>\n",
              "    <tr>\n",
              "      <th>Czech Republic</th>\n",
              "      <td>NaN</td>\n",
              "      <td>1.0</td>\n",
              "      <td>NaN</td>\n",
              "    </tr>\n",
              "    <tr>\n",
              "      <th>Jamaica</th>\n",
              "      <td>1.0</td>\n",
              "      <td>NaN</td>\n",
              "      <td>NaN</td>\n",
              "    </tr>\n",
              "    <tr>\n",
              "      <th>Kuwait</th>\n",
              "      <td>NaN</td>\n",
              "      <td>1.0</td>\n",
              "      <td>NaN</td>\n",
              "    </tr>\n",
              "    <tr>\n",
              "      <th>Lithuania</th>\n",
              "      <td>NaN</td>\n",
              "      <td>1.0</td>\n",
              "      <td>NaN</td>\n",
              "    </tr>\n",
              "    <tr>\n",
              "      <th>Malaysia</th>\n",
              "      <td>NaN</td>\n",
              "      <td>1.0</td>\n",
              "      <td>NaN</td>\n",
              "    </tr>\n",
              "    <tr>\n",
              "      <th>Mali</th>\n",
              "      <td>NaN</td>\n",
              "      <td>1.0</td>\n",
              "      <td>NaN</td>\n",
              "    </tr>\n",
              "    <tr>\n",
              "      <th>Moldova, Republic of</th>\n",
              "      <td>1.0</td>\n",
              "      <td>NaN</td>\n",
              "      <td>NaN</td>\n",
              "    </tr>\n",
              "    <tr>\n",
              "      <th>New Zealand</th>\n",
              "      <td>NaN</td>\n",
              "      <td>1.0</td>\n",
              "      <td>NaN</td>\n",
              "    </tr>\n",
              "    <tr>\n",
              "      <th>Nicaragua</th>\n",
              "      <td>NaN</td>\n",
              "      <td>1.0</td>\n",
              "      <td>NaN</td>\n",
              "    </tr>\n",
              "    <tr>\n",
              "      <th>Panama</th>\n",
              "      <td>1.0</td>\n",
              "      <td>NaN</td>\n",
              "      <td>NaN</td>\n",
              "    </tr>\n",
              "    <tr>\n",
              "      <th>Paraguay</th>\n",
              "      <td>NaN</td>\n",
              "      <td>1.0</td>\n",
              "      <td>NaN</td>\n",
              "    </tr>\n",
              "    <tr>\n",
              "      <th>Qatar</th>\n",
              "      <td>1.0</td>\n",
              "      <td>1.0</td>\n",
              "      <td>NaN</td>\n",
              "    </tr>\n",
              "    <tr>\n",
              "      <th>Somalia</th>\n",
              "      <td>NaN</td>\n",
              "      <td>1.0</td>\n",
              "      <td>NaN</td>\n",
              "    </tr>\n",
              "    <tr>\n",
              "      <th>Sweden</th>\n",
              "      <td>1.0</td>\n",
              "      <td>NaN</td>\n",
              "      <td>NaN</td>\n",
              "    </tr>\n",
              "    <tr>\n",
              "      <th>Uganda</th>\n",
              "      <td>NaN</td>\n",
              "      <td>1.0</td>\n",
              "      <td>NaN</td>\n",
              "    </tr>\n",
              "    <tr>\n",
              "      <th>Venezuela</th>\n",
              "      <td>2.0</td>\n",
              "      <td>NaN</td>\n",
              "      <td>NaN</td>\n",
              "    </tr>\n",
              "  </tbody>\n",
              "</table>\n",
              "</div>"
            ],
            "text/plain": [
              "sample                     c1   c2    t\n",
              "country                                \n",
              "Azerbaijan                NaN  NaN  1.0\n",
              "Bolivia                   NaN  NaN  1.0\n",
              "Brazil                    NaN  NaN  1.0\n",
              "Colombia                  1.0  2.0  1.0\n",
              "Costa Rica                1.0  1.0  1.0\n",
              "Dominican Republic        2.0  1.0  1.0\n",
              "Gambia                    NaN  NaN  1.0\n",
              "Monaco                    NaN  NaN  1.0\n",
              "Georgia                   NaN  1.0  1.0\n",
              "Guatemala                 NaN  NaN  1.0\n",
              "Hungary                   NaN  1.0  1.0\n",
              "Iraq                      NaN  NaN  1.0\n",
              "Islamic Republic of Iran  NaN  NaN  1.0\n",
              "Kyrgyzstan                1.0  1.0  1.0\n",
              "Uzbekistan                NaN  NaN  1.0\n",
              "Armenia                   1.0  NaN  NaN\n",
              "Austria                   NaN  2.0  NaN\n",
              "Belarus                   NaN  1.0  NaN\n",
              "Burkina Faso              1.0  NaN  NaN\n",
              "China                     1.0  1.0  NaN\n",
              "Czech Republic            NaN  1.0  NaN\n",
              "Jamaica                   1.0  NaN  NaN\n",
              "Kuwait                    NaN  1.0  NaN\n",
              "Lithuania                 NaN  1.0  NaN\n",
              "Malaysia                  NaN  1.0  NaN\n",
              "Mali                      NaN  1.0  NaN\n",
              "Moldova, Republic of      1.0  NaN  NaN\n",
              "New Zealand               NaN  1.0  NaN\n",
              "Nicaragua                 NaN  1.0  NaN\n",
              "Panama                    1.0  NaN  NaN\n",
              "Paraguay                  NaN  1.0  NaN\n",
              "Qatar                     1.0  1.0  NaN\n",
              "Somalia                   NaN  1.0  NaN\n",
              "Sweden                    1.0  NaN  NaN\n",
              "Uganda                    NaN  1.0  NaN\n",
              "Venezuela                 2.0  NaN  NaN"
            ]
          },
          "execution_count": 119,
          "metadata": {},
          "output_type": "execute_result"
        }
      ],
      "source": [
        "# ... затем остальные 36\n",
        "users.pivot_table(index = 'country', columns = 'sample', values = 'uid', aggfunc = 'count') \\\n",
        "    .sort_values(by = 't', ascending = False) \\\n",
        "    .tail(36)"
      ]
    },
    {
      "cell_type": "markdown",
      "metadata": {
        "id": "VVOJmobl0_Sc"
      },
      "source": [
        "## География пользователей\n",
        "\n",
        "Были выделены **топ-15 стран** по количеству пользователей. Некоторые страны оказались представлены не во всех трёх выборках, однако нет оснований полагать, что пользователи из какой-либо страны изначально имели ограничения на попадание в одну из групп.\n",
        "\n",
        "Для упрощения анализа:\n",
        "- Страны, не вошедшие в топ-15, были **сгруппированы по регионам**.\n",
        "- **Новая Зеландия была объединена с Австралией**.\n"
      ]
    },
    {
      "cell_type": "code",
      "execution_count": null,
      "metadata": {
        "id": "25ezzIJr0_Sc"
      },
      "outputs": [],
      "source": [
        "# Сформируем словарь регионов:\n",
        "# - ключ: название региона\n",
        "# - значение: список стран в этом регионе\n",
        "# Включим все страны, не попавшие в ТОП-15 по числу пользователей.\n",
        "# Объединим Новую Зеландию с Австралией в регион \"Австралия+\".\n",
        "# В результате словарь должен содержать 58 стран.\n",
        "regions = {\n",
        "    'Middle_East+':   ['Algeria', 'Burkina Faso', 'Egypt', 'Gambia', 'Mali', 'Morocco', 'Somalia', 'Tunisia', 'Uganda',\n",
        "                       'Iraq', 'Islamic Republic of Iran', 'Kuwait', 'Qatar', 'Turkey'],\n",
        "    'Latin_America':  ['Bolivia', 'Brazil', 'Colombia', 'Costa Rica', 'Dominican Republic', 'Guatemala', 'Jamaica', 'Mexico',\n",
        "                       'Nicaragua', 'Panama', 'Paraguay', 'Peru', 'Puerto Rico', 'Uruguay', 'Venezuela'],\n",
        "    'USSR':           ['Armenia', 'Azerbaijan', 'Belarus', 'Georgia', 'Kyrgyzstan', 'Latvia', 'Lithuania',\n",
        "                       'Moldova, Republic of', 'Russian Federation', 'Tajikistan', 'Ukraine', 'Uzbekistan'],\n",
        "    'Europe':         ['Austria', 'Czech Republic', 'Hungary', 'Monaco', 'Romania', 'Sweden'],\n",
        "    'Asia':           ['China', 'India', 'Indonesia', 'Korea, Republic of', 'Malaysia', 'Nepal', 'Pakistan', 'Philippines',\n",
        "                       'Singapore'],\n",
        "    'Australia+':     ['New Zealand', 'Australia']\n",
        "}"
      ]
    },
    {
      "cell_type": "code",
      "execution_count": null,
      "metadata": {
        "id": "JYYaA_3Y0_Sc",
        "outputId": "fae60093-79a5-4895-fae6-19e917e0daa2"
      },
      "outputs": [
        {
          "data": {
            "text/plain": [
              "58"
            ]
          },
          "execution_count": 122,
          "metadata": {},
          "output_type": "execute_result"
        }
      ],
      "source": [
        "len(regions['Middle_East+'] + regions['Latin_America'] + regions['USSR'] + regions['Europe'] + regions['Asia'] + regions['Australia+'])"
      ]
    },
    {
      "cell_type": "code",
      "execution_count": null,
      "metadata": {
        "id": "N0FJdOzQ0_Sc",
        "outputId": "4b4c7168-cbfa-42b7-f6d3-aa932d6489b3"
      },
      "outputs": [
        {
          "data": {
            "text/html": [
              "<div>\n",
              "<style scoped>\n",
              "    .dataframe tbody tr th:only-of-type {\n",
              "        vertical-align: middle;\n",
              "    }\n",
              "\n",
              "    .dataframe tbody tr th {\n",
              "        vertical-align: top;\n",
              "    }\n",
              "\n",
              "    .dataframe thead th {\n",
              "        text-align: right;\n",
              "    }\n",
              "</style>\n",
              "<table border=\"1\" class=\"dataframe\">\n",
              "  <thead>\n",
              "    <tr style=\"text-align: right;\">\n",
              "      <th>sample</th>\n",
              "      <th>c1</th>\n",
              "      <th>c2</th>\n",
              "      <th>t</th>\n",
              "    </tr>\n",
              "    <tr>\n",
              "      <th>region</th>\n",
              "      <th></th>\n",
              "      <th></th>\n",
              "      <th></th>\n",
              "    </tr>\n",
              "  </thead>\n",
              "  <tbody>\n",
              "    <tr>\n",
              "      <th>United States of America</th>\n",
              "      <td>1471</td>\n",
              "      <td>1486</td>\n",
              "      <td>1450</td>\n",
              "    </tr>\n",
              "    <tr>\n",
              "      <th>Argentina</th>\n",
              "      <td>389</td>\n",
              "      <td>397</td>\n",
              "      <td>396</td>\n",
              "    </tr>\n",
              "    <tr>\n",
              "      <th>France</th>\n",
              "      <td>370</td>\n",
              "      <td>376</td>\n",
              "      <td>359</td>\n",
              "    </tr>\n",
              "    <tr>\n",
              "      <th>Italy</th>\n",
              "      <td>338</td>\n",
              "      <td>293</td>\n",
              "      <td>323</td>\n",
              "    </tr>\n",
              "    <tr>\n",
              "      <th>Spain</th>\n",
              "      <td>342</td>\n",
              "      <td>310</td>\n",
              "      <td>301</td>\n",
              "    </tr>\n",
              "    <tr>\n",
              "      <th>Chile</th>\n",
              "      <td>287</td>\n",
              "      <td>286</td>\n",
              "      <td>272</td>\n",
              "    </tr>\n",
              "    <tr>\n",
              "      <th>United Arab Emirates</th>\n",
              "      <td>207</td>\n",
              "      <td>211</td>\n",
              "      <td>226</td>\n",
              "    </tr>\n",
              "    <tr>\n",
              "      <th>Germany</th>\n",
              "      <td>188</td>\n",
              "      <td>202</td>\n",
              "      <td>209</td>\n",
              "    </tr>\n",
              "    <tr>\n",
              "      <th>United Kingdom (Great Britain)</th>\n",
              "      <td>146</td>\n",
              "      <td>146</td>\n",
              "      <td>169</td>\n",
              "    </tr>\n",
              "    <tr>\n",
              "      <th>Canada</th>\n",
              "      <td>134</td>\n",
              "      <td>134</td>\n",
              "      <td>137</td>\n",
              "    </tr>\n",
              "    <tr>\n",
              "      <th>Israel</th>\n",
              "      <td>109</td>\n",
              "      <td>78</td>\n",
              "      <td>106</td>\n",
              "    </tr>\n",
              "    <tr>\n",
              "      <th>Belgium</th>\n",
              "      <td>108</td>\n",
              "      <td>90</td>\n",
              "      <td>92</td>\n",
              "    </tr>\n",
              "    <tr>\n",
              "      <th>Portugal</th>\n",
              "      <td>100</td>\n",
              "      <td>100</td>\n",
              "      <td>91</td>\n",
              "    </tr>\n",
              "    <tr>\n",
              "      <th>Australia+</th>\n",
              "      <td>50</td>\n",
              "      <td>52</td>\n",
              "      <td>62</td>\n",
              "    </tr>\n",
              "    <tr>\n",
              "      <th>Switzerland</th>\n",
              "      <td>42</td>\n",
              "      <td>35</td>\n",
              "      <td>35</td>\n",
              "    </tr>\n",
              "    <tr>\n",
              "      <th>USSR</th>\n",
              "      <td>17</td>\n",
              "      <td>31</td>\n",
              "      <td>30</td>\n",
              "    </tr>\n",
              "    <tr>\n",
              "      <th>Middle_East+</th>\n",
              "      <td>17</td>\n",
              "      <td>15</td>\n",
              "      <td>17</td>\n",
              "    </tr>\n",
              "    <tr>\n",
              "      <th>Latin_America</th>\n",
              "      <td>15</td>\n",
              "      <td>12</td>\n",
              "      <td>16</td>\n",
              "    </tr>\n",
              "    <tr>\n",
              "      <th>Asia</th>\n",
              "      <td>8</td>\n",
              "      <td>6</td>\n",
              "      <td>14</td>\n",
              "    </tr>\n",
              "    <tr>\n",
              "      <th>Europe</th>\n",
              "      <td>2</td>\n",
              "      <td>4</td>\n",
              "      <td>3</td>\n",
              "    </tr>\n",
              "  </tbody>\n",
              "</table>\n",
              "</div>"
            ],
            "text/plain": [
              "sample                            c1    c2     t\n",
              "region                                          \n",
              "United States of America        1471  1486  1450\n",
              "Argentina                        389   397   396\n",
              "France                           370   376   359\n",
              "Italy                            338   293   323\n",
              "Spain                            342   310   301\n",
              "Chile                            287   286   272\n",
              "United Arab Emirates             207   211   226\n",
              "Germany                          188   202   209\n",
              "United Kingdom (Great Britain)   146   146   169\n",
              "Canada                           134   134   137\n",
              "Israel                           109    78   106\n",
              "Belgium                          108    90    92\n",
              "Portugal                         100   100    91\n",
              "Australia+                        50    52    62\n",
              "Switzerland                       42    35    35\n",
              "USSR                              17    31    30\n",
              "Middle_East+                      17    15    17\n",
              "Latin_America                     15    12    16\n",
              "Asia                               8     6    14\n",
              "Europe                             2     4     3"
            ]
          },
          "execution_count": 123,
          "metadata": {},
          "output_type": "execute_result"
        }
      ],
      "source": [
        "# создадим словарь\n",
        "country_to_region = {}\n",
        "for region, countries in regions.items():\n",
        "    for country in countries:\n",
        "        country_to_region[country] = region\n",
        "# создадим колонку region\n",
        "users['region'] = users['country'].map(country_to_region).fillna(users['country'])\n",
        "# создадим таблицу с числом пользователей с разбивкой по регионам и выборкам\n",
        "region_table = users.pivot_table(index = 'region', columns = 'sample', values = 'uid', aggfunc = 'count')\n",
        "region_table.sort_values(by = 't', ascending = False)"
      ]
    },
    {
      "cell_type": "code",
      "execution_count": null,
      "metadata": {
        "id": "rcW-KyKS0_Sc",
        "outputId": "6719cb45-ca56-4aa7-a0c1-1bf7865e04ee"
      },
      "outputs": [
        {
          "data": {
            "image/png": "[encoded data removed]",
            "text/plain": [
              "<Figure size 864x360 with 1 Axes>"
            ]
          },
          "metadata": {
            "needs_background": "light"
          },
          "output_type": "display_data"
        }
      ],
      "source": [
        "region\n",
        "region_counts = users['region'].value_counts()\n",
        "region_frequency_map = region_counts.to_dict()\n",
        "users['region_frequency'] = users['region'].map(region_frequency_map)\n",
        "users.sort_values('region_frequency', ascending=False, inplace = True)\n",
        "users.drop('region_frequency', axis=1, inplace=True)\n",
        "\n",
        "# визуализируем распределение по регионам\n",
        "plt.figure(figsize = (12, 5))\n",
        "plt.xticks(rotation=90)\n",
        "sns.countplot(data=users, x=\"region\", hue=\"sample\");"
      ]
    },
    {
      "cell_type": "markdown",
      "metadata": {
        "id": "0cC-luae0_Sc"
      },
      "source": [
        "## Проверка различий в распределениях по регионам\n",
        "\n",
        "Визуальный анализ не выявил существенных отличий в распределениях пользователей по регионам между выборками.\n",
        "\n",
        "Для статистической проверки использовался **хи-квадрат тест (χ²)**.\n",
        "\n",
        "- **Нулевая гипотеза (H₀):** статистически значимых различий в распределениях по регионам между группами нет.\n",
        "- **Альтернативная гипотеза (H₁):** различия в распределениях имеются.\n",
        "- **Уровень значимости:** 0,05\n"
      ]
    },
    {
      "cell_type": "code",
      "execution_count": null,
      "metadata": {
        "id": "i0Wnns4O0_Sd",
        "outputId": "e83dc5aa-ac36-4dc3-e678-ea307fe99455"
      },
      "outputs": [
        {
          "name": "stdout",
          "output_type": "stream",
          "text": [
            "p-value = 0.6299122507023047\n"
          ]
        }
      ],
      "source": [
        " # сравним test и control_1\n",
        "print('p-value =', st.chi2_contingency(region_table[['t', 'c1']])[1])"
      ]
    },
    {
      "cell_type": "code",
      "execution_count": null,
      "metadata": {
        "id": "HASZVCIF0_Sd",
        "outputId": "68d76f29-8e61-480a-d159-dafb4da2a123"
      },
      "outputs": [
        {
          "name": "stdout",
          "output_type": "stream",
          "text": [
            "p-value = 0.7512444934705236\n"
          ]
        }
      ],
      "source": [
        "# сравним test и control_2\n",
        "print('p-value =', st.chi2_contingency(region_table[['t', 'c2']])[1])"
      ]
    },
    {
      "cell_type": "code",
      "execution_count": null,
      "metadata": {
        "id": "9KM5uyho0_Sd",
        "outputId": "351048fd-6b56-4aa4-8cc2-432b3ae4f515"
      },
      "outputs": [
        {
          "name": "stdout",
          "output_type": "stream",
          "text": [
            "p-value = 0.5356176673789813\n"
          ]
        }
      ],
      "source": [
        "# сравним control_1 и control_2\n",
        "print('p-value =', st.chi2_contingency(region_table[['c2', 'c1']])[1])"
      ]
    },
    {
      "cell_type": "markdown",
      "metadata": {
        "id": "brgyY49y0_Sd"
      },
      "source": [
        "### Посмотрим колонки views_count.\n",
        "\n",
        "Для визуализации разобьём распределение по границе views_count = 200"
      ]
    },
    {
      "cell_type": "code",
      "execution_count": null,
      "metadata": {
        "scrolled": true,
        "id": "r0Zi2D4F0_Sd",
        "outputId": "24d62553-030b-4126-9f72-a128bf48b507"
      },
      "outputs": [
        {
          "data": {
            "image/png": "[encoded data removed]",
            "text/plain": [
              "<Figure size 864x504 with 1 Axes>"
            ]
          },
          "metadata": {
            "needs_background": "light"
          },
          "output_type": "display_data"
        }
      ],
      "source": [
        "fig, axs = plt.subplots(1, 1, figsize=(12, 7))\n",
        "sns.histplot(data=users[users.views_count < 200], x=\"views_count\", hue=\"sample\");"
      ]
    },
    {
      "cell_type": "markdown",
      "metadata": {
        "id": "_i-C-J5K0_Sd"
      },
      "source": [
        "## Проверка различий в распределениях количества полученных оценок\n",
        "\n",
        "Визуальный анализ показал, что распределения количества полученных оценок между выборками не имеют заметных отличий.\n",
        "\n",
        "Для статистической проверки использовался **тест Манна–Уитни**.\n",
        "\n",
        "- **Нулевая гипотеза (H₀):** распределения по количеству полученных оценок между группами не отличаются.\n",
        "- **Альтернативная гипотеза (H₁):** имеются статистически значимые различия.\n",
        "- **Уровень значимости:** 0,05\n"
      ]
    },
    {
      "cell_type": "code",
      "execution_count": null,
      "metadata": {
        "id": "JQw2PxpB0_Se",
        "outputId": "62123a5a-fc61-42f9-f8fa-9205c0f4ae37"
      },
      "outputs": [
        {
          "name": "stdout",
          "output_type": "stream",
          "text": [
            "p-value = 0.6944227626371243\n"
          ]
        }
      ],
      "source": [
        "# сравним test и control_1\n",
        "print('p-value =', st.mannwhitneyu(users.query(\"sample == 't'\")['views_count'], users.query(\"sample == 'c1'\")['views_count'])[1])"
      ]
    },
    {
      "cell_type": "code",
      "execution_count": null,
      "metadata": {
        "id": "PkWHTrHi0_Se",
        "outputId": "9081cb56-342a-43f3-e251-5182ce54ffd1"
      },
      "outputs": [
        {
          "name": "stdout",
          "output_type": "stream",
          "text": [
            "p-value = 0.21730170064760956\n"
          ]
        }
      ],
      "source": [
        "# сравним test и control_2\n",
        "print('p-value =', st.mannwhitneyu(users.query(\"sample == 't'\")['views_count'], users.query(\"sample == 'c2'\")['views_count'])[1])"
      ]
    },
    {
      "cell_type": "code",
      "execution_count": null,
      "metadata": {
        "id": "7BUkSos10_Se",
        "outputId": "615be252-a5e3-443f-fe4e-881fa51bedba"
      },
      "outputs": [
        {
          "name": "stdout",
          "output_type": "stream",
          "text": [
            "p-value = 0.4067256310455556\n"
          ]
        }
      ],
      "source": [
        "# сравним control_2 и control_1\n",
        "print('p-value =', st.mannwhitneyu(users.query(\"sample == 'c1'\")['views_count'], users.query(\"sample == 'c2'\")['views_count'])[1])"
      ]
    },
    {
      "cell_type": "markdown",
      "metadata": {
        "id": "6vdNZq5z0_Se"
      },
      "source": [
        "## Проверка различий по количеству полученных оценок\n",
        "\n",
        "Полученные значения p-value для всех трёх пар выборок превышают установленный уровень значимости 0,05. Это указывает на отсутствие статистически значимых различий в распределениях количества полученных оценок между группами пользователей.\n",
        "\n",
        "---\n",
        "\n",
        "## Описание таблицы `transactions`\n",
        "\n",
        "Таблица `transactions` содержит информацию о платёжных действиях пользователей:\n",
        "\n",
        "- `uid` — идентификатор пользователя  \n",
        "- `country` — страна  \n",
        "- `joined_at` — дата и время регистрации  \n",
        "- `paid_at` — дата и время покупки  \n",
        "- `revenue` — нормированная выручка  \n",
        "- `payment_id` — идентификатор платежа  \n",
        "- `from_page` — страница, с которой пользователь перешёл к оплате  \n",
        "- `product_type` — тип продукта:\n",
        "  - `trial_premium` — пробная премиум-подписка  \n",
        "  - `premium_no_trial` — премиум-подписка без пробного периода  \n",
        "  - `coins` — покупка за внутреннюю валюту  \n",
        "  - `other_type` — прочие типы продуктов\n"
      ]
    },
    {
      "cell_type": "code",
      "execution_count": null,
      "metadata": {
        "id": "Ee8o8eYk0_Se",
        "outputId": "7963ce21-f17b-468a-e946-a118f27c1975"
      },
      "outputs": [
        {
          "data": {
            "text/html": [
              "<div>\n",
              "<style scoped>\n",
              "    .dataframe tbody tr th:only-of-type {\n",
              "        vertical-align: middle;\n",
              "    }\n",
              "\n",
              "    .dataframe tbody tr th {\n",
              "        vertical-align: top;\n",
              "    }\n",
              "\n",
              "    .dataframe thead th {\n",
              "        text-align: right;\n",
              "    }\n",
              "</style>\n",
              "<table border=\"1\" class=\"dataframe\">\n",
              "  <thead>\n",
              "    <tr style=\"text-align: right;\">\n",
              "      <th></th>\n",
              "      <th>uid</th>\n",
              "      <th>country</th>\n",
              "      <th>joined_at</th>\n",
              "      <th>paid_at</th>\n",
              "      <th>revenue</th>\n",
              "      <th>payment_id</th>\n",
              "      <th>from_page</th>\n",
              "      <th>product_type</th>\n",
              "      <th>sample</th>\n",
              "    </tr>\n",
              "  </thead>\n",
              "  <tbody>\n",
              "    <tr>\n",
              "      <th>0</th>\n",
              "      <td>891345942.0</td>\n",
              "      <td>Italy</td>\n",
              "      <td>2017-05-11 13:00:00</td>\n",
              "      <td>2017-11-13 15:04:00</td>\n",
              "      <td>12909.0</td>\n",
              "      <td>147.0</td>\n",
              "      <td>trial_vip_popup</td>\n",
              "      <td>trial_premium</td>\n",
              "      <td>t</td>\n",
              "    </tr>\n",
              "    <tr>\n",
              "      <th>1</th>\n",
              "      <td>892054251.0</td>\n",
              "      <td>United States of America</td>\n",
              "      <td>2017-10-22 00:33:00</td>\n",
              "      <td>2017-10-30 01:37:00</td>\n",
              "      <td>13923.0</td>\n",
              "      <td>147.0</td>\n",
              "      <td>trial_vip_popup</td>\n",
              "      <td>trial_premium</td>\n",
              "      <td>t</td>\n",
              "    </tr>\n",
              "    <tr>\n",
              "      <th>2</th>\n",
              "      <td>892236423.0</td>\n",
              "      <td>United States of America</td>\n",
              "      <td>2017-10-18 01:09:00</td>\n",
              "      <td>2017-10-23 00:15:00</td>\n",
              "      <td>3783.0</td>\n",
              "      <td>67.0</td>\n",
              "      <td>menu</td>\n",
              "      <td>other_type</td>\n",
              "      <td>t</td>\n",
              "    </tr>\n",
              "    <tr>\n",
              "      <th>3</th>\n",
              "      <td>892236423.0</td>\n",
              "      <td>United States of America</td>\n",
              "      <td>2017-10-18 01:09:00</td>\n",
              "      <td>2017-10-27 22:38:00</td>\n",
              "      <td>3783.0</td>\n",
              "      <td>67.0</td>\n",
              "      <td>menu</td>\n",
              "      <td>other_type</td>\n",
              "      <td>t</td>\n",
              "    </tr>\n",
              "    <tr>\n",
              "      <th>4</th>\n",
              "      <td>892168170.0</td>\n",
              "      <td>United States of America</td>\n",
              "      <td>2017-10-19 17:10:00</td>\n",
              "      <td>2017-10-27 19:10:00</td>\n",
              "      <td>9087.0</td>\n",
              "      <td>147.0</td>\n",
              "      <td>trial_vip_popup</td>\n",
              "      <td>trial_premium</td>\n",
              "      <td>t</td>\n",
              "    </tr>\n",
              "    <tr>\n",
              "      <th>...</th>\n",
              "      <td>...</td>\n",
              "      <td>...</td>\n",
              "      <td>...</td>\n",
              "      <td>...</td>\n",
              "      <td>...</td>\n",
              "      <td>...</td>\n",
              "      <td>...</td>\n",
              "      <td>...</td>\n",
              "      <td>...</td>\n",
              "    </tr>\n",
              "    <tr>\n",
              "      <th>1603</th>\n",
              "      <td>891985866.0</td>\n",
              "      <td>Belgium</td>\n",
              "      <td>2017-10-23 13:19:00</td>\n",
              "      <td>2017-10-30 15:35:00</td>\n",
              "      <td>16640.0</td>\n",
              "      <td>147.0</td>\n",
              "      <td>trial_vip_popup</td>\n",
              "      <td>trial_premium</td>\n",
              "      <td>c2</td>\n",
              "    </tr>\n",
              "    <tr>\n",
              "      <th>1604</th>\n",
              "      <td>891491145.0</td>\n",
              "      <td>United States of America</td>\n",
              "      <td>2017-02-11 18:13:00</td>\n",
              "      <td>2017-09-11 20:32:00</td>\n",
              "      <td>12727.0</td>\n",
              "      <td>147.0</td>\n",
              "      <td>send_message</td>\n",
              "      <td>trial_premium</td>\n",
              "      <td>c2</td>\n",
              "    </tr>\n",
              "    <tr>\n",
              "      <th>1605</th>\n",
              "      <td>892053750.0</td>\n",
              "      <td>United States of America</td>\n",
              "      <td>2017-10-22 00:46:00</td>\n",
              "      <td>2017-10-28 08:17:00</td>\n",
              "      <td>1261.0</td>\n",
              "      <td>19.0</td>\n",
              "      <td>autorefill</td>\n",
              "      <td>coins</td>\n",
              "      <td>c2</td>\n",
              "    </tr>\n",
              "    <tr>\n",
              "      <th>1606</th>\n",
              "      <td>891668253.0</td>\n",
              "      <td>Chile</td>\n",
              "      <td>2017-10-29 23:08:00</td>\n",
              "      <td>2017-11-15 00:57:00</td>\n",
              "      <td>9997.0</td>\n",
              "      <td>147.0</td>\n",
              "      <td>trial_vip_popup</td>\n",
              "      <td>trial_premium</td>\n",
              "      <td>c2</td>\n",
              "    </tr>\n",
              "    <tr>\n",
              "      <th>1607</th>\n",
              "      <td>891459291.0</td>\n",
              "      <td>Spain</td>\n",
              "      <td>2017-03-11 11:43:00</td>\n",
              "      <td>2017-03-11 11:57:00</td>\n",
              "      <td>6292.0</td>\n",
              "      <td>147.0</td>\n",
              "      <td>autoreply_message</td>\n",
              "      <td>premium_no_trial</td>\n",
              "      <td>c2</td>\n",
              "    </tr>\n",
              "  </tbody>\n",
              "</table>\n",
              "<p>1608 rows × 9 columns</p>\n",
              "</div>"
            ],
            "text/plain": [
              "              uid                   country            joined_at  \\\n",
              "0     891345942.0                     Italy  2017-05-11 13:00:00   \n",
              "1     892054251.0  United States of America  2017-10-22 00:33:00   \n",
              "2     892236423.0  United States of America  2017-10-18 01:09:00   \n",
              "3     892236423.0  United States of America  2017-10-18 01:09:00   \n",
              "4     892168170.0  United States of America  2017-10-19 17:10:00   \n",
              "...           ...                       ...                  ...   \n",
              "1603  891985866.0                   Belgium  2017-10-23 13:19:00   \n",
              "1604  891491145.0  United States of America  2017-02-11 18:13:00   \n",
              "1605  892053750.0  United States of America  2017-10-22 00:46:00   \n",
              "1606  891668253.0                     Chile  2017-10-29 23:08:00   \n",
              "1607  891459291.0                     Spain  2017-03-11 11:43:00   \n",
              "\n",
              "                  paid_at  revenue  payment_id          from_page  \\\n",
              "0     2017-11-13 15:04:00  12909.0       147.0    trial_vip_popup   \n",
              "1     2017-10-30 01:37:00  13923.0       147.0    trial_vip_popup   \n",
              "2     2017-10-23 00:15:00   3783.0        67.0               menu   \n",
              "3     2017-10-27 22:38:00   3783.0        67.0               menu   \n",
              "4     2017-10-27 19:10:00   9087.0       147.0    trial_vip_popup   \n",
              "...                   ...      ...         ...                ...   \n",
              "1603  2017-10-30 15:35:00  16640.0       147.0    trial_vip_popup   \n",
              "1604  2017-09-11 20:32:00  12727.0       147.0       send_message   \n",
              "1605  2017-10-28 08:17:00   1261.0        19.0         autorefill   \n",
              "1606  2017-11-15 00:57:00   9997.0       147.0    trial_vip_popup   \n",
              "1607  2017-03-11 11:57:00   6292.0       147.0  autoreply_message   \n",
              "\n",
              "          product_type sample  \n",
              "0        trial_premium      t  \n",
              "1        trial_premium      t  \n",
              "2           other_type      t  \n",
              "3           other_type      t  \n",
              "4        trial_premium      t  \n",
              "...                ...    ...  \n",
              "1603     trial_premium     c2  \n",
              "1604     trial_premium     c2  \n",
              "1605             coins     c2  \n",
              "1606     trial_premium     c2  \n",
              "1607  premium_no_trial     c2  \n",
              "\n",
              "[1608 rows x 9 columns]"
            ]
          },
          "execution_count": 135,
          "metadata": {},
          "output_type": "execute_result"
        }
      ],
      "source": [
        "transactions"
      ]
    },
    {
      "cell_type": "code",
      "execution_count": null,
      "metadata": {
        "id": "IAvVtn-B0_Sf",
        "outputId": "7644bd8f-5145-4b84-dbe1-6248d246fea2"
      },
      "outputs": [
        {
          "name": "stdout",
          "output_type": "stream",
          "text": [
            "<class 'pandas.core.frame.DataFrame'>\n",
            "RangeIndex: 1608 entries, 0 to 1607\n",
            "Data columns (total 9 columns):\n",
            " #   Column        Non-Null Count  Dtype  \n",
            "---  ------        --------------  -----  \n",
            " 0   uid           978 non-null    float64\n",
            " 1   country       978 non-null    object \n",
            " 2   joined_at     1608 non-null   object \n",
            " 3   paid_at       1608 non-null   object \n",
            " 4   revenue       978 non-null    float64\n",
            " 5   payment_id    978 non-null    float64\n",
            " 6   from_page     978 non-null    object \n",
            " 7   product_type  978 non-null    object \n",
            " 8   sample        1608 non-null   object \n",
            "dtypes: float64(3), object(6)\n",
            "memory usage: 113.2+ KB\n"
          ]
        }
      ],
      "source": [
        " # посмотрим типы данных и пропущенные знаечния\n",
        "transactions.info()"
      ]
    },
    {
      "cell_type": "markdown",
      "metadata": {
        "id": "rKTGYsdz0_Sf"
      },
      "source": [
        " Колонки joined_at и paid_at приводим к типу datetime.\n",
        " Колонки uid, revenue и payment_id к типу int. Убрать пропущенные значения."
      ]
    },
    {
      "cell_type": "code",
      "execution_count": null,
      "metadata": {
        "id": "qDyLUBQi0_Sf",
        "outputId": "f1f2c731-3f41-4843-9922-d66e0f5d0b4e"
      },
      "outputs": [
        {
          "name": "stdout",
          "output_type": "stream",
          "text": [
            "<class 'pandas.core.frame.DataFrame'>\n",
            "Int64Index: 978 entries, 0 to 1607\n",
            "Data columns (total 9 columns):\n",
            " #   Column        Non-Null Count  Dtype  \n",
            "---  ------        --------------  -----  \n",
            " 0   uid           978 non-null    float64\n",
            " 1   country       978 non-null    object \n",
            " 2   joined_at     978 non-null    object \n",
            " 3   paid_at       978 non-null    object \n",
            " 4   revenue       978 non-null    float64\n",
            " 5   payment_id    978 non-null    float64\n",
            " 6   from_page     978 non-null    object \n",
            " 7   product_type  978 non-null    object \n",
            " 8   sample        978 non-null    object \n",
            "dtypes: float64(3), object(6)\n",
            "memory usage: 76.4+ KB\n"
          ]
        }
      ],
      "source": [
        "# удалим строки, содержащие пропущенные значения и посмотрим результат\n",
        "transactions.dropna(inplace = True)\n",
        "transactions.info()\n"
      ]
    },
    {
      "cell_type": "code",
      "execution_count": null,
      "metadata": {
        "id": "o-iPm3OF0_Sf",
        "outputId": "3332d0e1-b81f-47bf-9f1d-765f88757254"
      },
      "outputs": [
        {
          "name": "stdout",
          "output_type": "stream",
          "text": [
            "<class 'pandas.core.frame.DataFrame'>\n",
            "Int64Index: 978 entries, 0 to 1607\n",
            "Data columns (total 9 columns):\n",
            " #   Column        Non-Null Count  Dtype         \n",
            "---  ------        --------------  -----         \n",
            " 0   uid           978 non-null    int64         \n",
            " 1   country       978 non-null    object        \n",
            " 2   joined_at     978 non-null    datetime64[ns]\n",
            " 3   paid_at       978 non-null    datetime64[ns]\n",
            " 4   revenue       978 non-null    int64         \n",
            " 5   payment_id    978 non-null    int64         \n",
            " 6   from_page     978 non-null    object        \n",
            " 7   product_type  978 non-null    object        \n",
            " 8   sample        978 non-null    object        \n",
            "dtypes: datetime64[ns](2), int64(3), object(4)\n",
            "memory usage: 76.4+ KB\n"
          ]
        }
      ],
      "source": [
        "# приведём данные к типам int и datetime\n",
        "transactions['uid'] = transactions['uid'].apply(lambda x: int(x))\n",
        "transactions['revenue'] = transactions['revenue'].apply(lambda x: int(x))\n",
        "transactions['payment_id'] = transactions['payment_id'].apply(lambda x: int(x))\n",
        "transactions['joined_at'] = pd.to_datetime(transactions['joined_at'])\n",
        "transactions['paid_at'] = pd.to_datetime(transactions['paid_at'])\n",
        "transactions.info()"
      ]
    },
    {
      "cell_type": "code",
      "execution_count": null,
      "metadata": {
        "id": "TKIBbdth0_Sg",
        "outputId": "e54c9c60-2a1e-47b9-ae1f-019d29b86a22"
      },
      "outputs": [
        {
          "data": {
            "text/plain": [
              "33"
            ]
          },
          "execution_count": 139,
          "metadata": {},
          "output_type": "execute_result"
        }
      ],
      "source": [
        "transactions.duplicated().sum()"
      ]
    },
    {
      "cell_type": "code",
      "execution_count": null,
      "metadata": {
        "scrolled": true,
        "id": "hrdIZV200_Sg",
        "outputId": "24ba4618-b766-4fa9-896b-0eb5162c57e4"
      },
      "outputs": [
        {
          "data": {
            "text/html": [
              "<div>\n",
              "<style scoped>\n",
              "    .dataframe tbody tr th:only-of-type {\n",
              "        vertical-align: middle;\n",
              "    }\n",
              "\n",
              "    .dataframe tbody tr th {\n",
              "        vertical-align: top;\n",
              "    }\n",
              "\n",
              "    .dataframe thead th {\n",
              "        text-align: right;\n",
              "    }\n",
              "</style>\n",
              "<table border=\"1\" class=\"dataframe\">\n",
              "  <thead>\n",
              "    <tr style=\"text-align: right;\">\n",
              "      <th></th>\n",
              "      <th>uid</th>\n",
              "      <th>country</th>\n",
              "      <th>joined_at</th>\n",
              "      <th>paid_at</th>\n",
              "      <th>revenue</th>\n",
              "      <th>payment_id</th>\n",
              "      <th>from_page</th>\n",
              "      <th>product_type</th>\n",
              "      <th>sample</th>\n",
              "    </tr>\n",
              "  </thead>\n",
              "  <tbody>\n",
              "    <tr>\n",
              "      <th>count</th>\n",
              "      <td>9.450000e+02</td>\n",
              "      <td>945</td>\n",
              "      <td>945</td>\n",
              "      <td>945</td>\n",
              "      <td>945.000000</td>\n",
              "      <td>945.000000</td>\n",
              "      <td>945</td>\n",
              "      <td>945</td>\n",
              "      <td>945</td>\n",
              "    </tr>\n",
              "    <tr>\n",
              "      <th>unique</th>\n",
              "      <td>NaN</td>\n",
              "      <td>23</td>\n",
              "      <td>NaN</td>\n",
              "      <td>NaN</td>\n",
              "      <td>NaN</td>\n",
              "      <td>NaN</td>\n",
              "      <td>28</td>\n",
              "      <td>4</td>\n",
              "      <td>3</td>\n",
              "    </tr>\n",
              "    <tr>\n",
              "      <th>top</th>\n",
              "      <td>NaN</td>\n",
              "      <td>United States of America</td>\n",
              "      <td>NaN</td>\n",
              "      <td>NaN</td>\n",
              "      <td>NaN</td>\n",
              "      <td>NaN</td>\n",
              "      <td>empty_likes</td>\n",
              "      <td>coins</td>\n",
              "      <td>c1</td>\n",
              "    </tr>\n",
              "    <tr>\n",
              "      <th>freq</th>\n",
              "      <td>NaN</td>\n",
              "      <td>294</td>\n",
              "      <td>NaN</td>\n",
              "      <td>NaN</td>\n",
              "      <td>NaN</td>\n",
              "      <td>NaN</td>\n",
              "      <td>254</td>\n",
              "      <td>358</td>\n",
              "      <td>356</td>\n",
              "    </tr>\n",
              "    <tr>\n",
              "      <th>mean</th>\n",
              "      <td>8.920329e+08</td>\n",
              "      <td>NaN</td>\n",
              "      <td>2017-09-04 11:10:45.968253952</td>\n",
              "      <td>2017-09-04 08:06:32.317460224</td>\n",
              "      <td>7127.012698</td>\n",
              "      <td>96.546032</td>\n",
              "      <td>NaN</td>\n",
              "      <td>NaN</td>\n",
              "      <td>NaN</td>\n",
              "    </tr>\n",
              "    <tr>\n",
              "      <th>min</th>\n",
              "      <td>8.910681e+08</td>\n",
              "      <td>NaN</td>\n",
              "      <td>2015-01-19 11:49:00</td>\n",
              "      <td>2016-12-14 16:16:00</td>\n",
              "      <td>26.000000</td>\n",
              "      <td>0.000000</td>\n",
              "      <td>NaN</td>\n",
              "      <td>NaN</td>\n",
              "      <td>NaN</td>\n",
              "    </tr>\n",
              "    <tr>\n",
              "      <th>25%</th>\n",
              "      <td>8.914785e+08</td>\n",
              "      <td>NaN</td>\n",
              "      <td>2017-08-11 06:54:00</td>\n",
              "      <td>2017-07-11 12:47:00</td>\n",
              "      <td>2730.000000</td>\n",
              "      <td>19.000000</td>\n",
              "      <td>NaN</td>\n",
              "      <td>NaN</td>\n",
              "      <td>NaN</td>\n",
              "    </tr>\n",
              "    <tr>\n",
              "      <th>50%</th>\n",
              "      <td>8.918616e+08</td>\n",
              "      <td>NaN</td>\n",
              "      <td>2017-10-18 22:22:00</td>\n",
              "      <td>2017-10-20 12:37:00</td>\n",
              "      <td>6292.000000</td>\n",
              "      <td>146.000000</td>\n",
              "      <td>NaN</td>\n",
              "      <td>NaN</td>\n",
              "      <td>NaN</td>\n",
              "    </tr>\n",
              "    <tr>\n",
              "      <th>75%</th>\n",
              "      <td>8.921398e+08</td>\n",
              "      <td>NaN</td>\n",
              "      <td>2017-10-24 14:22:00</td>\n",
              "      <td>2017-10-28 16:45:00</td>\n",
              "      <td>9087.000000</td>\n",
              "      <td>147.000000</td>\n",
              "      <td>NaN</td>\n",
              "      <td>NaN</td>\n",
              "      <td>NaN</td>\n",
              "    </tr>\n",
              "    <tr>\n",
              "      <th>max</th>\n",
              "      <td>9.609370e+08</td>\n",
              "      <td>NaN</td>\n",
              "      <td>2017-10-31 23:40:00</td>\n",
              "      <td>2017-12-11 23:28:00</td>\n",
              "      <td>113477.000000</td>\n",
              "      <td>147.000000</td>\n",
              "      <td>NaN</td>\n",
              "      <td>NaN</td>\n",
              "      <td>NaN</td>\n",
              "    </tr>\n",
              "    <tr>\n",
              "      <th>std</th>\n",
              "      <td>3.909647e+06</td>\n",
              "      <td>NaN</td>\n",
              "      <td>NaN</td>\n",
              "      <td>NaN</td>\n",
              "      <td>8689.031007</td>\n",
              "      <td>57.678226</td>\n",
              "      <td>NaN</td>\n",
              "      <td>NaN</td>\n",
              "      <td>NaN</td>\n",
              "    </tr>\n",
              "  </tbody>\n",
              "</table>\n",
              "</div>"
            ],
            "text/plain": [
              "                 uid                   country                      joined_at  \\\n",
              "count   9.450000e+02                       945                            945   \n",
              "unique           NaN                        23                            NaN   \n",
              "top              NaN  United States of America                            NaN   \n",
              "freq             NaN                       294                            NaN   \n",
              "mean    8.920329e+08                       NaN  2017-09-04 11:10:45.968253952   \n",
              "min     8.910681e+08                       NaN            2015-01-19 11:49:00   \n",
              "25%     8.914785e+08                       NaN            2017-08-11 06:54:00   \n",
              "50%     8.918616e+08                       NaN            2017-10-18 22:22:00   \n",
              "75%     8.921398e+08                       NaN            2017-10-24 14:22:00   \n",
              "max     9.609370e+08                       NaN            2017-10-31 23:40:00   \n",
              "std     3.909647e+06                       NaN                            NaN   \n",
              "\n",
              "                              paid_at        revenue  payment_id    from_page  \\\n",
              "count                             945     945.000000  945.000000          945   \n",
              "unique                            NaN            NaN         NaN           28   \n",
              "top                               NaN            NaN         NaN  empty_likes   \n",
              "freq                              NaN            NaN         NaN          254   \n",
              "mean    2017-09-04 08:06:32.317460224    7127.012698   96.546032          NaN   \n",
              "min               2016-12-14 16:16:00      26.000000    0.000000          NaN   \n",
              "25%               2017-07-11 12:47:00    2730.000000   19.000000          NaN   \n",
              "50%               2017-10-20 12:37:00    6292.000000  146.000000          NaN   \n",
              "75%               2017-10-28 16:45:00    9087.000000  147.000000          NaN   \n",
              "max               2017-12-11 23:28:00  113477.000000  147.000000          NaN   \n",
              "std                               NaN    8689.031007   57.678226          NaN   \n",
              "\n",
              "       product_type sample  \n",
              "count           945    945  \n",
              "unique            4      3  \n",
              "top           coins     c1  \n",
              "freq            358    356  \n",
              "mean            NaN    NaN  \n",
              "min             NaN    NaN  \n",
              "25%             NaN    NaN  \n",
              "50%             NaN    NaN  \n",
              "75%             NaN    NaN  \n",
              "max             NaN    NaN  \n",
              "std             NaN    NaN  "
            ]
          },
          "execution_count": 142,
          "metadata": {},
          "output_type": "execute_result"
        }
      ],
      "source": [
        "transactions.drop_duplicates(inplace = True)\n",
        "transactions.describe(include = 'all', datetime_is_numeric=True)"
      ]
    },
    {
      "cell_type": "markdown",
      "metadata": {
        "id": "wsUvorxz0_Sg"
      },
      "source": [
        "## Анализ аномалий по дате регистрации и оплаты\n",
        "\n",
        "\n",
        "### Проверка логики дат: `joined_at` vs `paid_at`\n",
        "\n",
        "Проверим, существуют ли записи, в которых **дата регистрации (`joined_at`) позже даты платежа (`paid_at`)**, что нарушает хронологию событий и может указывать на ошибки в данных.\n"
      ]
    },
    {
      "cell_type": "code",
      "execution_count": null,
      "metadata": {
        "id": "7zPVzxiO0_Sg",
        "outputId": "e2f007fa-7447-4d91-d0c6-4eabcdac60ab"
      },
      "outputs": [
        {
          "data": {
            "text/html": [
              "<div>\n",
              "<style scoped>\n",
              "    .dataframe tbody tr th:only-of-type {\n",
              "        vertical-align: middle;\n",
              "    }\n",
              "\n",
              "    .dataframe tbody tr th {\n",
              "        vertical-align: top;\n",
              "    }\n",
              "\n",
              "    .dataframe thead th {\n",
              "        text-align: right;\n",
              "    }\n",
              "</style>\n",
              "<table border=\"1\" class=\"dataframe\">\n",
              "  <thead>\n",
              "    <tr style=\"text-align: right;\">\n",
              "      <th></th>\n",
              "      <th>uid</th>\n",
              "      <th>country</th>\n",
              "      <th>joined_at</th>\n",
              "      <th>paid_at</th>\n",
              "      <th>revenue</th>\n",
              "      <th>payment_id</th>\n",
              "      <th>from_page</th>\n",
              "      <th>product_type</th>\n",
              "      <th>sample</th>\n",
              "    </tr>\n",
              "  </thead>\n",
              "  <tbody>\n",
              "    <tr>\n",
              "      <th>0</th>\n",
              "      <td>891861048</td>\n",
              "      <td>Canada</td>\n",
              "      <td>2017-10-26 02:55:00</td>\n",
              "      <td>2017-10-11 19:00:00</td>\n",
              "      <td>3588</td>\n",
              "      <td>68</td>\n",
              "      <td>none</td>\n",
              "      <td>premium_no_trial</td>\n",
              "      <td>t</td>\n",
              "    </tr>\n",
              "    <tr>\n",
              "      <th>1</th>\n",
              "      <td>891806280</td>\n",
              "      <td>United States of America</td>\n",
              "      <td>2017-10-27 08:56:00</td>\n",
              "      <td>2017-03-11 10:57:00</td>\n",
              "      <td>8242</td>\n",
              "      <td>147</td>\n",
              "      <td>trial_vip_popup</td>\n",
              "      <td>trial_premium</td>\n",
              "      <td>t</td>\n",
              "    </tr>\n",
              "    <tr>\n",
              "      <th>2</th>\n",
              "      <td>891786216</td>\n",
              "      <td>Spain</td>\n",
              "      <td>2017-10-27 18:20:00</td>\n",
              "      <td>2017-03-11 20:20:00</td>\n",
              "      <td>12818</td>\n",
              "      <td>147</td>\n",
              "      <td>trial_vip_popup</td>\n",
              "      <td>trial_premium</td>\n",
              "      <td>t</td>\n",
              "    </tr>\n",
              "    <tr>\n",
              "      <th>3</th>\n",
              "      <td>892057347</td>\n",
              "      <td>France</td>\n",
              "      <td>2017-10-21 23:15:00</td>\n",
              "      <td>2017-08-11 01:56:00</td>\n",
              "      <td>1209</td>\n",
              "      <td>19</td>\n",
              "      <td>none</td>\n",
              "      <td>coins</td>\n",
              "      <td>t</td>\n",
              "    </tr>\n",
              "    <tr>\n",
              "      <th>4</th>\n",
              "      <td>891589239</td>\n",
              "      <td>Italy</td>\n",
              "      <td>2017-10-31 14:16:00</td>\n",
              "      <td>2017-09-11 15:44:00</td>\n",
              "      <td>6305</td>\n",
              "      <td>19</td>\n",
              "      <td>empty_likes</td>\n",
              "      <td>coins</td>\n",
              "      <td>t</td>\n",
              "    </tr>\n",
              "    <tr>\n",
              "      <th>...</th>\n",
              "      <td>...</td>\n",
              "      <td>...</td>\n",
              "      <td>...</td>\n",
              "      <td>...</td>\n",
              "      <td>...</td>\n",
              "      <td>...</td>\n",
              "      <td>...</td>\n",
              "      <td>...</td>\n",
              "      <td>...</td>\n",
              "    </tr>\n",
              "    <tr>\n",
              "      <th>157</th>\n",
              "      <td>891606141</td>\n",
              "      <td>United States of America</td>\n",
              "      <td>2017-10-31 04:43:00</td>\n",
              "      <td>2017-03-11 21:13:00</td>\n",
              "      <td>3783</td>\n",
              "      <td>67</td>\n",
              "      <td>empty_likes</td>\n",
              "      <td>other_type</td>\n",
              "      <td>c2</td>\n",
              "    </tr>\n",
              "    <tr>\n",
              "      <th>158</th>\n",
              "      <td>891691062</td>\n",
              "      <td>Belgium</td>\n",
              "      <td>2017-10-29 16:19:00</td>\n",
              "      <td>2017-05-11 18:35:00</td>\n",
              "      <td>16614</td>\n",
              "      <td>147</td>\n",
              "      <td>popular_users_block</td>\n",
              "      <td>trial_premium</td>\n",
              "      <td>c2</td>\n",
              "    </tr>\n",
              "    <tr>\n",
              "      <th>159</th>\n",
              "      <td>892075512</td>\n",
              "      <td>United States of America</td>\n",
              "      <td>2017-10-21 16:58:00</td>\n",
              "      <td>2017-08-11 12:18:00</td>\n",
              "      <td>9958</td>\n",
              "      <td>147</td>\n",
              "      <td>trial_vip_popup</td>\n",
              "      <td>trial_premium</td>\n",
              "      <td>c2</td>\n",
              "    </tr>\n",
              "    <tr>\n",
              "      <th>160</th>\n",
              "      <td>891722802</td>\n",
              "      <td>United States of America</td>\n",
              "      <td>2017-10-29 02:08:00</td>\n",
              "      <td>2017-05-11 05:49:00</td>\n",
              "      <td>12727</td>\n",
              "      <td>147</td>\n",
              "      <td>trial_vip_popup</td>\n",
              "      <td>trial_premium</td>\n",
              "      <td>c2</td>\n",
              "    </tr>\n",
              "    <tr>\n",
              "      <th>161</th>\n",
              "      <td>891673269</td>\n",
              "      <td>United Arab Emirates</td>\n",
              "      <td>2017-10-29 21:40:00</td>\n",
              "      <td>2017-05-11 23:49:00</td>\n",
              "      <td>13247</td>\n",
              "      <td>147</td>\n",
              "      <td>dating</td>\n",
              "      <td>trial_premium</td>\n",
              "      <td>c2</td>\n",
              "    </tr>\n",
              "  </tbody>\n",
              "</table>\n",
              "<p>162 rows × 9 columns</p>\n",
              "</div>"
            ],
            "text/plain": [
              "           uid                   country           joined_at  \\\n",
              "0    891861048                    Canada 2017-10-26 02:55:00   \n",
              "1    891806280  United States of America 2017-10-27 08:56:00   \n",
              "2    891786216                     Spain 2017-10-27 18:20:00   \n",
              "3    892057347                    France 2017-10-21 23:15:00   \n",
              "4    891589239                     Italy 2017-10-31 14:16:00   \n",
              "..         ...                       ...                 ...   \n",
              "157  891606141  United States of America 2017-10-31 04:43:00   \n",
              "158  891691062                   Belgium 2017-10-29 16:19:00   \n",
              "159  892075512  United States of America 2017-10-21 16:58:00   \n",
              "160  891722802  United States of America 2017-10-29 02:08:00   \n",
              "161  891673269      United Arab Emirates 2017-10-29 21:40:00   \n",
              "\n",
              "                paid_at  revenue  payment_id            from_page  \\\n",
              "0   2017-10-11 19:00:00     3588          68                 none   \n",
              "1   2017-03-11 10:57:00     8242         147      trial_vip_popup   \n",
              "2   2017-03-11 20:20:00    12818         147      trial_vip_popup   \n",
              "3   2017-08-11 01:56:00     1209          19                 none   \n",
              "4   2017-09-11 15:44:00     6305          19          empty_likes   \n",
              "..                  ...      ...         ...                  ...   \n",
              "157 2017-03-11 21:13:00     3783          67          empty_likes   \n",
              "158 2017-05-11 18:35:00    16614         147  popular_users_block   \n",
              "159 2017-08-11 12:18:00     9958         147      trial_vip_popup   \n",
              "160 2017-05-11 05:49:00    12727         147      trial_vip_popup   \n",
              "161 2017-05-11 23:49:00    13247         147               dating   \n",
              "\n",
              "         product_type sample  \n",
              "0    premium_no_trial      t  \n",
              "1       trial_premium      t  \n",
              "2       trial_premium      t  \n",
              "3               coins      t  \n",
              "4               coins      t  \n",
              "..                ...    ...  \n",
              "157        other_type     c2  \n",
              "158     trial_premium     c2  \n",
              "159     trial_premium     c2  \n",
              "160     trial_premium     c2  \n",
              "161     trial_premium     c2  \n",
              "\n",
              "[162 rows x 9 columns]"
            ]
          },
          "execution_count": 143,
          "metadata": {},
          "output_type": "execute_result"
        }
      ],
      "source": [
        "transactions.query(\"paid_at - joined_at < '0 days 00:00:00'\").reset_index(drop=True)"
      ]
    },
    {
      "cell_type": "markdown",
      "metadata": {
        "id": "YS2Dq2Rg0_Sh"
      },
      "source": [
        "### Анализ столбцов `joined_at` и `paid_at`\n",
        "\n",
        "Проверим, существуют ли случаи, когда дата регистрации (`joined_at`) наступает **позже** даты оплаты (`paid_at`), что противоречит\n"
      ]
    },
    {
      "cell_type": "code",
      "execution_count": null,
      "metadata": {
        "id": "TyBNidKZ0_Sh",
        "outputId": "a1201aed-eb8c-46e0-d069-f98bd849ab3e"
      },
      "outputs": [
        {
          "data": {
            "text/html": [
              "<div>\n",
              "<style scoped>\n",
              "    .dataframe tbody tr th:only-of-type {\n",
              "        vertical-align: middle;\n",
              "    }\n",
              "\n",
              "    .dataframe tbody tr th {\n",
              "        vertical-align: top;\n",
              "    }\n",
              "\n",
              "    .dataframe thead th {\n",
              "        text-align: right;\n",
              "    }\n",
              "</style>\n",
              "<table border=\"1\" class=\"dataframe\">\n",
              "  <thead>\n",
              "    <tr style=\"text-align: right;\">\n",
              "      <th></th>\n",
              "      <th>uid</th>\n",
              "      <th>country</th>\n",
              "      <th>joined_at</th>\n",
              "      <th>paid_at</th>\n",
              "      <th>revenue</th>\n",
              "      <th>payment_id</th>\n",
              "      <th>from_page</th>\n",
              "      <th>product_type</th>\n",
              "      <th>sample</th>\n",
              "    </tr>\n",
              "  </thead>\n",
              "  <tbody>\n",
              "    <tr>\n",
              "      <th>0</th>\n",
              "      <td>891861048</td>\n",
              "      <td>Canada</td>\n",
              "      <td>2017-10-26 02:55:00</td>\n",
              "      <td>2017-10-11 19:00:00</td>\n",
              "      <td>3588</td>\n",
              "      <td>68</td>\n",
              "      <td>none</td>\n",
              "      <td>premium_no_trial</td>\n",
              "      <td>t</td>\n",
              "    </tr>\n",
              "    <tr>\n",
              "      <th>1</th>\n",
              "      <td>891806280</td>\n",
              "      <td>United States of America</td>\n",
              "      <td>2017-10-27 08:56:00</td>\n",
              "      <td>2017-03-11 10:57:00</td>\n",
              "      <td>8242</td>\n",
              "      <td>147</td>\n",
              "      <td>trial_vip_popup</td>\n",
              "      <td>trial_premium</td>\n",
              "      <td>t</td>\n",
              "    </tr>\n",
              "    <tr>\n",
              "      <th>2</th>\n",
              "      <td>891786216</td>\n",
              "      <td>Spain</td>\n",
              "      <td>2017-10-27 18:20:00</td>\n",
              "      <td>2017-03-11 20:20:00</td>\n",
              "      <td>12818</td>\n",
              "      <td>147</td>\n",
              "      <td>trial_vip_popup</td>\n",
              "      <td>trial_premium</td>\n",
              "      <td>t</td>\n",
              "    </tr>\n",
              "    <tr>\n",
              "      <th>3</th>\n",
              "      <td>892057347</td>\n",
              "      <td>France</td>\n",
              "      <td>2017-10-21 23:15:00</td>\n",
              "      <td>2017-08-11 01:56:00</td>\n",
              "      <td>1209</td>\n",
              "      <td>19</td>\n",
              "      <td>none</td>\n",
              "      <td>coins</td>\n",
              "      <td>t</td>\n",
              "    </tr>\n",
              "    <tr>\n",
              "      <th>4</th>\n",
              "      <td>891589239</td>\n",
              "      <td>Italy</td>\n",
              "      <td>2017-10-31 14:16:00</td>\n",
              "      <td>2017-09-11 15:44:00</td>\n",
              "      <td>6305</td>\n",
              "      <td>19</td>\n",
              "      <td>empty_likes</td>\n",
              "      <td>coins</td>\n",
              "      <td>t</td>\n",
              "    </tr>\n",
              "    <tr>\n",
              "      <th>...</th>\n",
              "      <td>...</td>\n",
              "      <td>...</td>\n",
              "      <td>...</td>\n",
              "      <td>...</td>\n",
              "      <td>...</td>\n",
              "      <td>...</td>\n",
              "      <td>...</td>\n",
              "      <td>...</td>\n",
              "      <td>...</td>\n",
              "    </tr>\n",
              "    <tr>\n",
              "      <th>157</th>\n",
              "      <td>891606141</td>\n",
              "      <td>United States of America</td>\n",
              "      <td>2017-10-31 04:43:00</td>\n",
              "      <td>2017-03-11 21:13:00</td>\n",
              "      <td>3783</td>\n",
              "      <td>67</td>\n",
              "      <td>empty_likes</td>\n",
              "      <td>other_type</td>\n",
              "      <td>c2</td>\n",
              "    </tr>\n",
              "    <tr>\n",
              "      <th>158</th>\n",
              "      <td>891691062</td>\n",
              "      <td>Belgium</td>\n",
              "      <td>2017-10-29 16:19:00</td>\n",
              "      <td>2017-05-11 18:35:00</td>\n",
              "      <td>16614</td>\n",
              "      <td>147</td>\n",
              "      <td>popular_users_block</td>\n",
              "      <td>trial_premium</td>\n",
              "      <td>c2</td>\n",
              "    </tr>\n",
              "    <tr>\n",
              "      <th>159</th>\n",
              "      <td>892075512</td>\n",
              "      <td>United States of America</td>\n",
              "      <td>2017-10-21 16:58:00</td>\n",
              "      <td>2017-08-11 12:18:00</td>\n",
              "      <td>9958</td>\n",
              "      <td>147</td>\n",
              "      <td>trial_vip_popup</td>\n",
              "      <td>trial_premium</td>\n",
              "      <td>c2</td>\n",
              "    </tr>\n",
              "    <tr>\n",
              "      <th>160</th>\n",
              "      <td>891722802</td>\n",
              "      <td>United States of America</td>\n",
              "      <td>2017-10-29 02:08:00</td>\n",
              "      <td>2017-05-11 05:49:00</td>\n",
              "      <td>12727</td>\n",
              "      <td>147</td>\n",
              "      <td>trial_vip_popup</td>\n",
              "      <td>trial_premium</td>\n",
              "      <td>c2</td>\n",
              "    </tr>\n",
              "    <tr>\n",
              "      <th>161</th>\n",
              "      <td>891673269</td>\n",
              "      <td>United Arab Emirates</td>\n",
              "      <td>2017-10-29 21:40:00</td>\n",
              "      <td>2017-05-11 23:49:00</td>\n",
              "      <td>13247</td>\n",
              "      <td>147</td>\n",
              "      <td>dating</td>\n",
              "      <td>trial_premium</td>\n",
              "      <td>c2</td>\n",
              "    </tr>\n",
              "  </tbody>\n",
              "</table>\n",
              "<p>162 rows × 9 columns</p>\n",
              "</div>"
            ],
            "text/plain": [
              "           uid                   country           joined_at  \\\n",
              "0    891861048                    Canada 2017-10-26 02:55:00   \n",
              "1    891806280  United States of America 2017-10-27 08:56:00   \n",
              "2    891786216                     Spain 2017-10-27 18:20:00   \n",
              "3    892057347                    France 2017-10-21 23:15:00   \n",
              "4    891589239                     Italy 2017-10-31 14:16:00   \n",
              "..         ...                       ...                 ...   \n",
              "157  891606141  United States of America 2017-10-31 04:43:00   \n",
              "158  891691062                   Belgium 2017-10-29 16:19:00   \n",
              "159  892075512  United States of America 2017-10-21 16:58:00   \n",
              "160  891722802  United States of America 2017-10-29 02:08:00   \n",
              "161  891673269      United Arab Emirates 2017-10-29 21:40:00   \n",
              "\n",
              "                paid_at  revenue  payment_id            from_page  \\\n",
              "0   2017-10-11 19:00:00     3588          68                 none   \n",
              "1   2017-03-11 10:57:00     8242         147      trial_vip_popup   \n",
              "2   2017-03-11 20:20:00    12818         147      trial_vip_popup   \n",
              "3   2017-08-11 01:56:00     1209          19                 none   \n",
              "4   2017-09-11 15:44:00     6305          19          empty_likes   \n",
              "..                  ...      ...         ...                  ...   \n",
              "157 2017-03-11 21:13:00     3783          67          empty_likes   \n",
              "158 2017-05-11 18:35:00    16614         147  popular_users_block   \n",
              "159 2017-08-11 12:18:00     9958         147      trial_vip_popup   \n",
              "160 2017-05-11 05:49:00    12727         147      trial_vip_popup   \n",
              "161 2017-05-11 23:49:00    13247         147               dating   \n",
              "\n",
              "         product_type sample  \n",
              "0    premium_no_trial      t  \n",
              "1       trial_premium      t  \n",
              "2       trial_premium      t  \n",
              "3               coins      t  \n",
              "4               coins      t  \n",
              "..                ...    ...  \n",
              "157        other_type     c2  \n",
              "158     trial_premium     c2  \n",
              "159     trial_premium     c2  \n",
              "160     trial_premium     c2  \n",
              "161     trial_premium     c2  \n",
              "\n",
              "[162 rows x 9 columns]"
            ]
          },
          "execution_count": 144,
          "metadata": {},
          "output_type": "execute_result"
        }
      ],
      "source": [
        "transactions.query(\"paid_at - joined_at < '0 days 00:00:00'\").reset_index(drop=True)"
      ]
    },
    {
      "cell_type": "markdown",
      "metadata": {
        "id": "9XbLGTiL0_Sh"
      },
      "source": [
        " В таблице transactions 162 записи, где время регистрации позже времени платежа."
      ]
    },
    {
      "cell_type": "code",
      "execution_count": null,
      "metadata": {
        "id": "omvUU5-00_Sh",
        "outputId": "ca4d645c-157e-410d-87e6-cf1f624c8e85"
      },
      "outputs": [
        {
          "data": {
            "text/html": [
              "<div>\n",
              "<style scoped>\n",
              "    .dataframe tbody tr th:only-of-type {\n",
              "        vertical-align: middle;\n",
              "    }\n",
              "\n",
              "    .dataframe tbody tr th {\n",
              "        vertical-align: top;\n",
              "    }\n",
              "\n",
              "    .dataframe thead th {\n",
              "        text-align: right;\n",
              "    }\n",
              "</style>\n",
              "<table border=\"1\" class=\"dataframe\">\n",
              "  <thead>\n",
              "    <tr style=\"text-align: right;\">\n",
              "      <th></th>\n",
              "      <th>uid</th>\n",
              "      <th>country</th>\n",
              "      <th>joined_at</th>\n",
              "      <th>paid_at</th>\n",
              "      <th>revenue</th>\n",
              "      <th>payment_id</th>\n",
              "      <th>from_page</th>\n",
              "      <th>product_type</th>\n",
              "      <th>sample</th>\n",
              "      <th>delta_paid</th>\n",
              "    </tr>\n",
              "  </thead>\n",
              "  <tbody>\n",
              "    <tr>\n",
              "      <th>1300</th>\n",
              "      <td>891609360</td>\n",
              "      <td>Italy</td>\n",
              "      <td>2017-10-31 02:07:00</td>\n",
              "      <td>2017-01-11 23:19:00</td>\n",
              "      <td>3913</td>\n",
              "      <td>146</td>\n",
              "      <td>empty_likes</td>\n",
              "      <td>coins</td>\n",
              "      <td>c2</td>\n",
              "      <td>-293 days +21:12:00</td>\n",
              "    </tr>\n",
              "    <tr>\n",
              "      <th>1329</th>\n",
              "      <td>891664350</td>\n",
              "      <td>Germany</td>\n",
              "      <td>2017-10-30 00:21:00</td>\n",
              "      <td>2017-01-11 22:36:00</td>\n",
              "      <td>2327</td>\n",
              "      <td>67</td>\n",
              "      <td>empty_mutual</td>\n",
              "      <td>other_type</td>\n",
              "      <td>c2</td>\n",
              "      <td>-292 days +22:15:00</td>\n",
              "    </tr>\n",
              "    <tr>\n",
              "      <th>1454</th>\n",
              "      <td>891664350</td>\n",
              "      <td>Germany</td>\n",
              "      <td>2017-10-30 00:21:00</td>\n",
              "      <td>2017-01-11 22:36:00</td>\n",
              "      <td>6279</td>\n",
              "      <td>147</td>\n",
              "      <td>left_sidebar_menu</td>\n",
              "      <td>premium_no_trial</td>\n",
              "      <td>c2</td>\n",
              "      <td>-292 days +22:15:00</td>\n",
              "    </tr>\n",
              "    <tr>\n",
              "      <th>339</th>\n",
              "      <td>891822480</td>\n",
              "      <td>Italy</td>\n",
              "      <td>2017-10-26 22:27:00</td>\n",
              "      <td>2017-01-11 16:50:00</td>\n",
              "      <td>1898</td>\n",
              "      <td>19</td>\n",
              "      <td>none</td>\n",
              "      <td>coins</td>\n",
              "      <td>c1</td>\n",
              "      <td>-289 days +18:23:00</td>\n",
              "    </tr>\n",
              "    <tr>\n",
              "      <th>184</th>\n",
              "      <td>891861594</td>\n",
              "      <td>Chile</td>\n",
              "      <td>2017-10-26 02:25:00</td>\n",
              "      <td>2017-01-11 04:37:00</td>\n",
              "      <td>4004</td>\n",
              "      <td>19</td>\n",
              "      <td>empty_likes</td>\n",
              "      <td>coins</td>\n",
              "      <td>t</td>\n",
              "      <td>-288 days +02:12:00</td>\n",
              "    </tr>\n",
              "    <tr>\n",
              "      <th>...</th>\n",
              "      <td>...</td>\n",
              "      <td>...</td>\n",
              "      <td>...</td>\n",
              "      <td>...</td>\n",
              "      <td>...</td>\n",
              "      <td>...</td>\n",
              "      <td>...</td>\n",
              "      <td>...</td>\n",
              "      <td>...</td>\n",
              "      <td>...</td>\n",
              "    </tr>\n",
              "    <tr>\n",
              "      <th>266</th>\n",
              "      <td>891478452</td>\n",
              "      <td>United Arab Emirates</td>\n",
              "      <td>2017-02-11 23:29:00</td>\n",
              "      <td>2017-12-11 00:11:00</td>\n",
              "      <td>8697</td>\n",
              "      <td>147</td>\n",
              "      <td>autoreply_message</td>\n",
              "      <td>premium_no_trial</td>\n",
              "      <td>t</td>\n",
              "      <td>302 days 00:42:00</td>\n",
              "    </tr>\n",
              "    <tr>\n",
              "      <th>523</th>\n",
              "      <td>891529926</td>\n",
              "      <td>United States of America</td>\n",
              "      <td>2017-01-11 19:54:00</td>\n",
              "      <td>2017-11-14 12:52:00</td>\n",
              "      <td>9087</td>\n",
              "      <td>147</td>\n",
              "      <td>trial_vip_popup</td>\n",
              "      <td>trial_premium</td>\n",
              "      <td>c1</td>\n",
              "      <td>306 days 16:58:00</td>\n",
              "    </tr>\n",
              "    <tr>\n",
              "      <th>497</th>\n",
              "      <td>960936960</td>\n",
              "      <td>Russian Federation</td>\n",
              "      <td>2015-01-19 11:49:00</td>\n",
              "      <td>2016-12-14 16:16:00</td>\n",
              "      <td>143</td>\n",
              "      <td>0</td>\n",
              "      <td>refund_WP</td>\n",
              "      <td>other_type</td>\n",
              "      <td>c1</td>\n",
              "      <td>695 days 04:27:00</td>\n",
              "    </tr>\n",
              "    <tr>\n",
              "      <th>338</th>\n",
              "      <td>960936960</td>\n",
              "      <td>Russian Federation</td>\n",
              "      <td>2015-01-19 11:49:00</td>\n",
              "      <td>2016-12-14 17:30:00</td>\n",
              "      <td>26</td>\n",
              "      <td>0</td>\n",
              "      <td>refund_VP</td>\n",
              "      <td>other_type</td>\n",
              "      <td>c1</td>\n",
              "      <td>695 days 05:41:00</td>\n",
              "    </tr>\n",
              "    <tr>\n",
              "      <th>374</th>\n",
              "      <td>960936960</td>\n",
              "      <td>Russian Federation</td>\n",
              "      <td>2015-01-19 11:49:00</td>\n",
              "      <td>2016-12-14 17:35:00</td>\n",
              "      <td>637</td>\n",
              "      <td>0</td>\n",
              "      <td>refung_AP</td>\n",
              "      <td>other_type</td>\n",
              "      <td>c1</td>\n",
              "      <td>695 days 05:46:00</td>\n",
              "    </tr>\n",
              "  </tbody>\n",
              "</table>\n",
              "<p>945 rows × 10 columns</p>\n",
              "</div>"
            ],
            "text/plain": [
              "            uid                   country           joined_at  \\\n",
              "1300  891609360                     Italy 2017-10-31 02:07:00   \n",
              "1329  891664350                   Germany 2017-10-30 00:21:00   \n",
              "1454  891664350                   Germany 2017-10-30 00:21:00   \n",
              "339   891822480                     Italy 2017-10-26 22:27:00   \n",
              "184   891861594                     Chile 2017-10-26 02:25:00   \n",
              "...         ...                       ...                 ...   \n",
              "266   891478452      United Arab Emirates 2017-02-11 23:29:00   \n",
              "523   891529926  United States of America 2017-01-11 19:54:00   \n",
              "497   960936960        Russian Federation 2015-01-19 11:49:00   \n",
              "338   960936960        Russian Federation 2015-01-19 11:49:00   \n",
              "374   960936960        Russian Federation 2015-01-19 11:49:00   \n",
              "\n",
              "                 paid_at  revenue  payment_id          from_page  \\\n",
              "1300 2017-01-11 23:19:00     3913         146        empty_likes   \n",
              "1329 2017-01-11 22:36:00     2327          67       empty_mutual   \n",
              "1454 2017-01-11 22:36:00     6279         147  left_sidebar_menu   \n",
              "339  2017-01-11 16:50:00     1898          19               none   \n",
              "184  2017-01-11 04:37:00     4004          19        empty_likes   \n",
              "...                  ...      ...         ...                ...   \n",
              "266  2017-12-11 00:11:00     8697         147  autoreply_message   \n",
              "523  2017-11-14 12:52:00     9087         147    trial_vip_popup   \n",
              "497  2016-12-14 16:16:00      143           0          refund_WP   \n",
              "338  2016-12-14 17:30:00       26           0          refund_VP   \n",
              "374  2016-12-14 17:35:00      637           0          refung_AP   \n",
              "\n",
              "          product_type sample          delta_paid  \n",
              "1300             coins     c2 -293 days +21:12:00  \n",
              "1329        other_type     c2 -292 days +22:15:00  \n",
              "1454  premium_no_trial     c2 -292 days +22:15:00  \n",
              "339              coins     c1 -289 days +18:23:00  \n",
              "184              coins      t -288 days +02:12:00  \n",
              "...                ...    ...                 ...  \n",
              "266   premium_no_trial      t   302 days 00:42:00  \n",
              "523      trial_premium     c1   306 days 16:58:00  \n",
              "497         other_type     c1   695 days 04:27:00  \n",
              "338         other_type     c1   695 days 05:41:00  \n",
              "374         other_type     c1   695 days 05:46:00  \n",
              "\n",
              "[945 rows x 10 columns]"
            ]
          },
          "execution_count": 145,
          "metadata": {},
          "output_type": "execute_result"
        }
      ],
      "source": [
        "# отсортируем данные по разнице во времени между оплатой и регистрацией\n",
        "transactions['delta_paid'] = transactions['paid_at'] - transactions['joined_at']\n",
        "transactions.sort_values(by = 'delta_paid')"
      ]
    },
    {
      "cell_type": "code",
      "execution_count": null,
      "metadata": {
        "id": "-jSDxouJ0_Sh",
        "outputId": "b98ad461-08aa-4139-e5d8-32f8d71ab62c"
      },
      "outputs": [
        {
          "data": {
            "text/html": [
              "<div>\n",
              "<style scoped>\n",
              "    .dataframe tbody tr th:only-of-type {\n",
              "        vertical-align: middle;\n",
              "    }\n",
              "\n",
              "    .dataframe tbody tr th {\n",
              "        vertical-align: top;\n",
              "    }\n",
              "\n",
              "    .dataframe thead th {\n",
              "        text-align: right;\n",
              "    }\n",
              "</style>\n",
              "<table border=\"1\" class=\"dataframe\">\n",
              "  <thead>\n",
              "    <tr style=\"text-align: right;\">\n",
              "      <th></th>\n",
              "      <th>uid</th>\n",
              "      <th>country</th>\n",
              "      <th>joined_at</th>\n",
              "      <th>paid_at</th>\n",
              "      <th>revenue</th>\n",
              "      <th>payment_id</th>\n",
              "      <th>from_page</th>\n",
              "      <th>product_type</th>\n",
              "      <th>sample</th>\n",
              "      <th>delta_paid</th>\n",
              "    </tr>\n",
              "  </thead>\n",
              "  <tbody>\n",
              "    <tr>\n",
              "      <th>338</th>\n",
              "      <td>960936960</td>\n",
              "      <td>Russian Federation</td>\n",
              "      <td>2015-01-19 11:49:00</td>\n",
              "      <td>2016-12-14 17:30:00</td>\n",
              "      <td>26</td>\n",
              "      <td>0</td>\n",
              "      <td>refund_VP</td>\n",
              "      <td>other_type</td>\n",
              "      <td>c1</td>\n",
              "      <td>695 days 05:41:00</td>\n",
              "    </tr>\n",
              "    <tr>\n",
              "      <th>374</th>\n",
              "      <td>960936960</td>\n",
              "      <td>Russian Federation</td>\n",
              "      <td>2015-01-19 11:49:00</td>\n",
              "      <td>2016-12-14 17:35:00</td>\n",
              "      <td>637</td>\n",
              "      <td>0</td>\n",
              "      <td>refung_AP</td>\n",
              "      <td>other_type</td>\n",
              "      <td>c1</td>\n",
              "      <td>695 days 05:46:00</td>\n",
              "    </tr>\n",
              "    <tr>\n",
              "      <th>497</th>\n",
              "      <td>960936960</td>\n",
              "      <td>Russian Federation</td>\n",
              "      <td>2015-01-19 11:49:00</td>\n",
              "      <td>2016-12-14 16:16:00</td>\n",
              "      <td>143</td>\n",
              "      <td>0</td>\n",
              "      <td>refund_WP</td>\n",
              "      <td>other_type</td>\n",
              "      <td>c1</td>\n",
              "      <td>695 days 04:27:00</td>\n",
              "    </tr>\n",
              "  </tbody>\n",
              "</table>\n",
              "</div>"
            ],
            "text/plain": [
              "           uid             country           joined_at             paid_at  \\\n",
              "338  960936960  Russian Federation 2015-01-19 11:49:00 2016-12-14 17:30:00   \n",
              "374  960936960  Russian Federation 2015-01-19 11:49:00 2016-12-14 17:35:00   \n",
              "497  960936960  Russian Federation 2015-01-19 11:49:00 2016-12-14 16:16:00   \n",
              "\n",
              "     revenue  payment_id  from_page product_type sample        delta_paid  \n",
              "338       26           0  refund_VP   other_type     c1 695 days 05:41:00  \n",
              "374      637           0  refung_AP   other_type     c1 695 days 05:46:00  \n",
              "497      143           0  refund_WP   other_type     c1 695 days 04:27:00  "
            ]
          },
          "execution_count": 146,
          "metadata": {},
          "output_type": "execute_result"
        }
      ],
      "source": [
        "transactions.query(\"(paid_at.dt.year < 2017) or (joined_at.dt.year < 2017)\")"
      ]
    },
    {
      "cell_type": "markdown",
      "metadata": {
        "id": "Z9EvLuhB0_Sh"
      },
      "source": [
        "Также стоит отметить, что в данных присутствует пользователь, зарегистрированный в **январе 2015 года**, тогда как большинство пользователей зарегистрированы в **2017 году**. Это выделяет его как потенциального выброса по дате регистрации.\n",
        "\n",
        "Проверим, есть ли другие пользователи, зарегистрированные **вне 2017 года**.\n",
        "\n",
        "Анализ показал, что все остальные пользователи зарегистрированы в 2017 году.  \n",
        "Уточним, что пользователь с аномально ранней датой регистрации входит в выборку **`control_1`**.\n"
      ]
    },
    {
      "cell_type": "code",
      "execution_count": null,
      "metadata": {
        "id": "T5_swvk90_Si",
        "outputId": "14ff497f-fe38-4682-b7af-e632200745d0"
      },
      "outputs": [
        {
          "data": {
            "text/html": [
              "<div>\n",
              "<style scoped>\n",
              "    .dataframe tbody tr th:only-of-type {\n",
              "        vertical-align: middle;\n",
              "    }\n",
              "\n",
              "    .dataframe tbody tr th {\n",
              "        vertical-align: top;\n",
              "    }\n",
              "\n",
              "    .dataframe thead th {\n",
              "        text-align: right;\n",
              "    }\n",
              "</style>\n",
              "<table border=\"1\" class=\"dataframe\">\n",
              "  <thead>\n",
              "    <tr style=\"text-align: right;\">\n",
              "      <th></th>\n",
              "      <th>uid</th>\n",
              "      <th>paid_at</th>\n",
              "      <th>count</th>\n",
              "      <th>page_nunique</th>\n",
              "    </tr>\n",
              "  </thead>\n",
              "  <tbody>\n",
              "    <tr>\n",
              "      <th>0</th>\n",
              "      <td>891367521</td>\n",
              "      <td>2017-10-11 01:52:00</td>\n",
              "      <td>3</td>\n",
              "      <td>2</td>\n",
              "    </tr>\n",
              "    <tr>\n",
              "      <th>1</th>\n",
              "      <td>891664350</td>\n",
              "      <td>2017-01-11 22:36:00</td>\n",
              "      <td>2</td>\n",
              "      <td>2</td>\n",
              "    </tr>\n",
              "    <tr>\n",
              "      <th>2</th>\n",
              "      <td>891343671</td>\n",
              "      <td>2017-05-11 14:02:00</td>\n",
              "      <td>2</td>\n",
              "      <td>2</td>\n",
              "    </tr>\n",
              "    <tr>\n",
              "      <th>3</th>\n",
              "      <td>892230228</td>\n",
              "      <td>2017-10-22 23:23:00</td>\n",
              "      <td>2</td>\n",
              "      <td>2</td>\n",
              "    </tr>\n",
              "    <tr>\n",
              "      <th>4</th>\n",
              "      <td>892230228</td>\n",
              "      <td>2017-10-24 06:11:00</td>\n",
              "      <td>2</td>\n",
              "      <td>2</td>\n",
              "    </tr>\n",
              "    <tr>\n",
              "      <th>5</th>\n",
              "      <td>892069554</td>\n",
              "      <td>2017-10-23 13:48:00</td>\n",
              "      <td>2</td>\n",
              "      <td>2</td>\n",
              "    </tr>\n",
              "    <tr>\n",
              "      <th>6</th>\n",
              "      <td>892207959</td>\n",
              "      <td>2017-10-22 04:49:00</td>\n",
              "      <td>2</td>\n",
              "      <td>2</td>\n",
              "    </tr>\n",
              "    <tr>\n",
              "      <th>7</th>\n",
              "      <td>891707061</td>\n",
              "      <td>2017-10-11 13:14:00</td>\n",
              "      <td>2</td>\n",
              "      <td>2</td>\n",
              "    </tr>\n",
              "    <tr>\n",
              "      <th>8</th>\n",
              "      <td>892045743</td>\n",
              "      <td>2017-10-23 20:17:00</td>\n",
              "      <td>2</td>\n",
              "      <td>2</td>\n",
              "    </tr>\n",
              "    <tr>\n",
              "      <th>9</th>\n",
              "      <td>891365490</td>\n",
              "      <td>2017-06-11 00:28:00</td>\n",
              "      <td>2</td>\n",
              "      <td>2</td>\n",
              "    </tr>\n",
              "    <tr>\n",
              "      <th>10</th>\n",
              "      <td>892128138</td>\n",
              "      <td>2017-11-15 02:15:00</td>\n",
              "      <td>2</td>\n",
              "      <td>2</td>\n",
              "    </tr>\n",
              "    <tr>\n",
              "      <th>11</th>\n",
              "      <td>892065108</td>\n",
              "      <td>2017-10-11 15:27:00</td>\n",
              "      <td>2</td>\n",
              "      <td>1</td>\n",
              "    </tr>\n",
              "    <tr>\n",
              "      <th>12</th>\n",
              "      <td>892069554</td>\n",
              "      <td>2017-03-11 10:44:00</td>\n",
              "      <td>2</td>\n",
              "      <td>1</td>\n",
              "    </tr>\n",
              "    <tr>\n",
              "      <th>13</th>\n",
              "      <td>892069554</td>\n",
              "      <td>2017-10-22 01:11:00</td>\n",
              "      <td>2</td>\n",
              "      <td>1</td>\n",
              "    </tr>\n",
              "    <tr>\n",
              "      <th>14</th>\n",
              "      <td>892101909</td>\n",
              "      <td>2017-10-21 03:39:00</td>\n",
              "      <td>2</td>\n",
              "      <td>1</td>\n",
              "    </tr>\n",
              "    <tr>\n",
              "      <th>15</th>\n",
              "      <td>891983730</td>\n",
              "      <td>2017-10-29 09:25:00</td>\n",
              "      <td>2</td>\n",
              "      <td>1</td>\n",
              "    </tr>\n",
              "    <tr>\n",
              "      <th>16</th>\n",
              "      <td>892333905</td>\n",
              "      <td>2017-10-17 02:23:00</td>\n",
              "      <td>2</td>\n",
              "      <td>1</td>\n",
              "    </tr>\n",
              "    <tr>\n",
              "      <th>17</th>\n",
              "      <td>892333905</td>\n",
              "      <td>2017-10-16 02:08:00</td>\n",
              "      <td>4</td>\n",
              "      <td>1</td>\n",
              "    </tr>\n",
              "    <tr>\n",
              "      <th>18</th>\n",
              "      <td>892435536</td>\n",
              "      <td>2017-10-14 16:50:00</td>\n",
              "      <td>2</td>\n",
              "      <td>1</td>\n",
              "    </tr>\n",
              "    <tr>\n",
              "      <th>19</th>\n",
              "      <td>892190826</td>\n",
              "      <td>2017-10-20 16:12:00</td>\n",
              "      <td>2</td>\n",
              "      <td>1</td>\n",
              "    </tr>\n",
              "    <tr>\n",
              "      <th>20</th>\n",
              "      <td>892236423</td>\n",
              "      <td>2017-10-23 00:14:00</td>\n",
              "      <td>3</td>\n",
              "      <td>1</td>\n",
              "    </tr>\n",
              "    <tr>\n",
              "      <th>21</th>\n",
              "      <td>892236423</td>\n",
              "      <td>2017-10-22 22:08:00</td>\n",
              "      <td>3</td>\n",
              "      <td>1</td>\n",
              "    </tr>\n",
              "    <tr>\n",
              "      <th>22</th>\n",
              "      <td>891333651</td>\n",
              "      <td>2017-09-11 15:34:00</td>\n",
              "      <td>2</td>\n",
              "      <td>1</td>\n",
              "    </tr>\n",
              "    <tr>\n",
              "      <th>23</th>\n",
              "      <td>891320823</td>\n",
              "      <td>2017-10-11 17:52:00</td>\n",
              "      <td>2</td>\n",
              "      <td>1</td>\n",
              "    </tr>\n",
              "    <tr>\n",
              "      <th>24</th>\n",
              "      <td>891367521</td>\n",
              "      <td>2017-06-11 17:43:00</td>\n",
              "      <td>2</td>\n",
              "      <td>1</td>\n",
              "    </tr>\n",
              "    <tr>\n",
              "      <th>25</th>\n",
              "      <td>891178380</td>\n",
              "      <td>2017-11-14 04:33:00</td>\n",
              "      <td>2</td>\n",
              "      <td>1</td>\n",
              "    </tr>\n",
              "    <tr>\n",
              "      <th>26</th>\n",
              "      <td>891208638</td>\n",
              "      <td>2017-08-11 19:01:00</td>\n",
              "      <td>2</td>\n",
              "      <td>1</td>\n",
              "    </tr>\n",
              "    <tr>\n",
              "      <th>27</th>\n",
              "      <td>891216033</td>\n",
              "      <td>2017-07-11 12:47:00</td>\n",
              "      <td>2</td>\n",
              "      <td>1</td>\n",
              "    </tr>\n",
              "    <tr>\n",
              "      <th>28</th>\n",
              "      <td>891296583</td>\n",
              "      <td>2017-11-11 08:29:00</td>\n",
              "      <td>3</td>\n",
              "      <td>1</td>\n",
              "    </tr>\n",
              "    <tr>\n",
              "      <th>29</th>\n",
              "      <td>891219540</td>\n",
              "      <td>2017-07-11 10:58:00</td>\n",
              "      <td>2</td>\n",
              "      <td>1</td>\n",
              "    </tr>\n",
              "    <tr>\n",
              "      <th>30</th>\n",
              "      <td>891254103</td>\n",
              "      <td>2017-10-11 20:48:00</td>\n",
              "      <td>2</td>\n",
              "      <td>1</td>\n",
              "    </tr>\n",
              "    <tr>\n",
              "      <th>31</th>\n",
              "      <td>891725043</td>\n",
              "      <td>2017-10-29 07:48:00</td>\n",
              "      <td>2</td>\n",
              "      <td>1</td>\n",
              "    </tr>\n",
              "    <tr>\n",
              "      <th>32</th>\n",
              "      <td>891739737</td>\n",
              "      <td>2017-12-11 03:25:00</td>\n",
              "      <td>2</td>\n",
              "      <td>1</td>\n",
              "    </tr>\n",
              "    <tr>\n",
              "      <th>33</th>\n",
              "      <td>891805089</td>\n",
              "      <td>2017-10-29 15:26:00</td>\n",
              "      <td>2</td>\n",
              "      <td>1</td>\n",
              "    </tr>\n",
              "    <tr>\n",
              "      <th>34</th>\n",
              "      <td>891606141</td>\n",
              "      <td>2017-03-11 21:13:00</td>\n",
              "      <td>2</td>\n",
              "      <td>1</td>\n",
              "    </tr>\n",
              "    <tr>\n",
              "      <th>35</th>\n",
              "      <td>891606141</td>\n",
              "      <td>2017-03-11 21:14:00</td>\n",
              "      <td>2</td>\n",
              "      <td>1</td>\n",
              "    </tr>\n",
              "    <tr>\n",
              "      <th>36</th>\n",
              "      <td>891637005</td>\n",
              "      <td>2017-02-11 13:48:00</td>\n",
              "      <td>2</td>\n",
              "      <td>1</td>\n",
              "    </tr>\n",
              "  </tbody>\n",
              "</table>\n",
              "</div>"
            ],
            "text/plain": [
              "          uid             paid_at  count  page_nunique\n",
              "0   891367521 2017-10-11 01:52:00      3             2\n",
              "1   891664350 2017-01-11 22:36:00      2             2\n",
              "2   891343671 2017-05-11 14:02:00      2             2\n",
              "3   892230228 2017-10-22 23:23:00      2             2\n",
              "4   892230228 2017-10-24 06:11:00      2             2\n",
              "5   892069554 2017-10-23 13:48:00      2             2\n",
              "6   892207959 2017-10-22 04:49:00      2             2\n",
              "7   891707061 2017-10-11 13:14:00      2             2\n",
              "8   892045743 2017-10-23 20:17:00      2             2\n",
              "9   891365490 2017-06-11 00:28:00      2             2\n",
              "10  892128138 2017-11-15 02:15:00      2             2\n",
              "11  892065108 2017-10-11 15:27:00      2             1\n",
              "12  892069554 2017-03-11 10:44:00      2             1\n",
              "13  892069554 2017-10-22 01:11:00      2             1\n",
              "14  892101909 2017-10-21 03:39:00      2             1\n",
              "15  891983730 2017-10-29 09:25:00      2             1\n",
              "16  892333905 2017-10-17 02:23:00      2             1\n",
              "17  892333905 2017-10-16 02:08:00      4             1\n",
              "18  892435536 2017-10-14 16:50:00      2             1\n",
              "19  892190826 2017-10-20 16:12:00      2             1\n",
              "20  892236423 2017-10-23 00:14:00      3             1\n",
              "21  892236423 2017-10-22 22:08:00      3             1\n",
              "22  891333651 2017-09-11 15:34:00      2             1\n",
              "23  891320823 2017-10-11 17:52:00      2             1\n",
              "24  891367521 2017-06-11 17:43:00      2             1\n",
              "25  891178380 2017-11-14 04:33:00      2             1\n",
              "26  891208638 2017-08-11 19:01:00      2             1\n",
              "27  891216033 2017-07-11 12:47:00      2             1\n",
              "28  891296583 2017-11-11 08:29:00      3             1\n",
              "29  891219540 2017-07-11 10:58:00      2             1\n",
              "30  891254103 2017-10-11 20:48:00      2             1\n",
              "31  891725043 2017-10-29 07:48:00      2             1\n",
              "32  891739737 2017-12-11 03:25:00      2             1\n",
              "33  891805089 2017-10-29 15:26:00      2             1\n",
              "34  891606141 2017-03-11 21:13:00      2             1\n",
              "35  891606141 2017-03-11 21:14:00      2             1\n",
              "36  891637005 2017-02-11 13:48:00      2             1"
            ]
          },
          "execution_count": 147,
          "metadata": {},
          "output_type": "execute_result"
        }
      ],
      "source": [
        "# посмотрим, есть ли такие paid_at на которые приходятся две и более транзакции у одного пользователя\n",
        "transactions.groupby(['uid', 'paid_at']) \\\n",
        "    .agg(count = ('from_page', 'count'), page_nunique = ('from_page', 'nunique')) \\\n",
        "    .sort_values(by = 'page_nunique', ascending = False) \\\n",
        "    .query(\"count > 1\") \\\n",
        "    .reset_index()"
      ]
    },
    {
      "cell_type": "markdown",
      "metadata": {
        "id": "nyGo-3y20_Si"
      },
      "source": [
        "## Аномалии в таблице `transactions`\n",
        "\n",
        "В данных зафиксированы случаи **одновременных транзакций** (с точностью до секунды) у отдельных пользователей — до **четырёх транзакций на одного пользователя**.  \n",
        "Кроме того, **11 пар транзакций** были совершены с **разных страниц** (`from_page`), что может указывать на технические сбои или особенности реализации платёжной системы.\n",
        "\n",
        "### Предположение\n",
        "\n",
        "Поскольку мы не располагаем точной информацией о причинах таких транзакций, и они **не оказывают существенного влияния на исследуемые метрики**, мы **принимаем допущение**, что на результаты анализа они не влияют.\n",
        "\n",
        "\n",
        "## Противоречия в колонках `joined_at` и `paid_at`\n",
        "\n",
        "В данных также присутствуют противоречия:\n",
        "\n",
        "- Встречаются пользователи с датой регистрации (`joined_at`), противоречащей условиям задачи, где указано, что **все пользователи — новые**.\n",
        "- Имеются случаи, где **регистрация произошла позже оплаты**, что логически невозможно.\n",
        "\n",
        "Однако в отсутствие дополнительной информации о природе этих аномалий и учитывая, что они **не влияют напрямую на ключевые метрики**, мы **оставляем данные без изменений**.\n",
        "\n",
        "\n",
        "\n",
        "## Неполнота таблицы `transactions`\n",
        "\n",
        "Важно отметить, что в таблице `transactions` отсутствуют **неплатящие пользователи**. Это означает, что удаление строк из этой таблицы (например, для очистки) приведёт к **смещению метрик**, поскольку из выборки исчезнут только платящие пользователи.\n",
        "\n",
        "**Вывод:** в целях сохранения целостности анализа мы **не вносим изменения в таблицу `transactions`**, несмотря на выявленные аномалии.\n"
      ]
    },
    {
      "cell_type": "code",
      "execution_count": null,
      "metadata": {
        "id": "HnJ04x3N0_Si"
      },
      "outputs": [],
      "source": [
        "# удалим временные столбцы\n",
        "transactions.drop('delta_paid', axis=1, inplace=True)"
      ]
    },
    {
      "cell_type": "markdown",
      "metadata": {
        "id": "-yUdm_qc0_Sj"
      },
      "source": [
        "### Посмотрим столбцы uid и country"
      ]
    },
    {
      "cell_type": "code",
      "execution_count": null,
      "metadata": {
        "id": "VxpXqID20_Sj",
        "outputId": "847da062-b83b-4b6e-98af-874c5237b96b"
      },
      "outputs": [
        {
          "name": "stdout",
          "output_type": "stream",
          "text": [
            "526\n",
            "526\n"
          ]
        }
      ],
      "source": [
        "# убедимся, что пары ('uid', 'country') уникальны\n",
        "print(transactions.groupby(['uid', 'country']).revenue.count().shape[0])\n",
        "print(transactions.uid.nunique())"
      ]
    },
    {
      "cell_type": "code",
      "execution_count": null,
      "metadata": {
        "id": "GZDXcZvs0_Sj",
        "outputId": "cd456823-5fe1-4faa-f732-13e173629b36"
      },
      "outputs": [
        {
          "name": "stdout",
          "output_type": "stream",
          "text": [
            "945\n",
            "945\n",
            "945\n"
          ]
        }
      ],
      "source": [
        "# убедимся, что у всех пар ('uid', 'country') из таблицы transactions есть соответствие в таблице users\n",
        "print(transactions.merge(users, on = ['uid', 'country']).shape[0])\n",
        "print(transactions.merge(users, on = 'uid').shape[0])\n",
        "print(transactions.shape[0])"
      ]
    },
    {
      "cell_type": "markdown",
      "metadata": {
        "id": "E4ZMQg-L0_Sj"
      },
      "source": [
        "###Посмотрим колонку payment_id"
      ]
    },
    {
      "cell_type": "code",
      "execution_count": null,
      "metadata": {
        "id": "IP03nEG_0_Sj",
        "outputId": "349d8870-b1e5-4dc4-9024-3423e08c716b"
      },
      "outputs": [
        {
          "data": {
            "text/html": [
              "<div>\n",
              "<style scoped>\n",
              "    .dataframe tbody tr th:only-of-type {\n",
              "        vertical-align: middle;\n",
              "    }\n",
              "\n",
              "    .dataframe tbody tr th {\n",
              "        vertical-align: top;\n",
              "    }\n",
              "\n",
              "    .dataframe thead th {\n",
              "        text-align: right;\n",
              "    }\n",
              "</style>\n",
              "<table border=\"1\" class=\"dataframe\">\n",
              "  <thead>\n",
              "    <tr style=\"text-align: right;\">\n",
              "      <th>sample</th>\n",
              "      <th>c1</th>\n",
              "      <th>c2</th>\n",
              "      <th>t</th>\n",
              "    </tr>\n",
              "    <tr>\n",
              "      <th>payment_id</th>\n",
              "      <th></th>\n",
              "      <th></th>\n",
              "      <th></th>\n",
              "    </tr>\n",
              "  </thead>\n",
              "  <tbody>\n",
              "    <tr>\n",
              "      <th>147</th>\n",
              "      <td>155.0</td>\n",
              "      <td>145.0</td>\n",
              "      <td>125.0</td>\n",
              "    </tr>\n",
              "    <tr>\n",
              "      <th>19</th>\n",
              "      <td>108.0</td>\n",
              "      <td>91.0</td>\n",
              "      <td>74.0</td>\n",
              "    </tr>\n",
              "    <tr>\n",
              "      <th>146</th>\n",
              "      <td>32.0</td>\n",
              "      <td>30.0</td>\n",
              "      <td>30.0</td>\n",
              "    </tr>\n",
              "    <tr>\n",
              "      <th>67</th>\n",
              "      <td>35.0</td>\n",
              "      <td>42.0</td>\n",
              "      <td>22.0</td>\n",
              "    </tr>\n",
              "    <tr>\n",
              "      <th>68</th>\n",
              "      <td>18.0</td>\n",
              "      <td>14.0</td>\n",
              "      <td>14.0</td>\n",
              "    </tr>\n",
              "    <tr>\n",
              "      <th>0</th>\n",
              "      <td>5.0</td>\n",
              "      <td>1.0</td>\n",
              "      <td>1.0</td>\n",
              "    </tr>\n",
              "    <tr>\n",
              "      <th>127</th>\n",
              "      <td>3.0</td>\n",
              "      <td>NaN</td>\n",
              "      <td>NaN</td>\n",
              "    </tr>\n",
              "  </tbody>\n",
              "</table>\n",
              "</div>"
            ],
            "text/plain": [
              "sample         c1     c2      t\n",
              "payment_id                     \n",
              "147         155.0  145.0  125.0\n",
              "19          108.0   91.0   74.0\n",
              "146          32.0   30.0   30.0\n",
              "67           35.0   42.0   22.0\n",
              "68           18.0   14.0   14.0\n",
              "0             5.0    1.0    1.0\n",
              "127           3.0    NaN    NaN"
            ]
          },
          "execution_count": 151,
          "metadata": {},
          "output_type": "execute_result"
        }
      ],
      "source": [
        "# приведём payment_id к строковому типу\n",
        "transactions['payment_id'] = transactions['payment_id'].apply(lambda x: str(x))\n",
        "\n",
        "# создадим таблицу с распределением payment_id и выборкам\n",
        "payment_table = transactions.pivot_table(index = 'payment_id', columns = 'sample', values = 'uid', aggfunc = 'count')\n",
        "payment_table.sort_values(by = 't', ascending = False)"
      ]
    },
    {
      "cell_type": "markdown",
      "metadata": {
        "id": "izq_PlEa0_Sj"
      },
      "source": [
        "## Анализ поля `payment_id`\n",
        "\n",
        "Из таблицы видно, что поле `payment_id`, несмотря на заявленную роль уникального идентификатора платежа, **не является уникальным**. Это делает невозможной его однозначную интерпретацию.\n",
        "\n",
        "В связи с этим **дальнейшая обработка и анализ будут проводиться без использования поля `payment_id`**.\n",
        "\n",
        "\n",
        "\n",
        "## Обработка значения `payment_id`\n",
        "\n",
        "Тем не менее, для проверки однородности распределения значений по этому полю создадим дополнительную колонку `payment_id_new`, в которой значения:\n",
        "\n",
        "- `payment_id = '127'`  \n",
        "- `payment_id = '0'`\n",
        "\n",
        "будут объединены в общее значение:\n",
        "\n",
        "- `payment_id_new = '0, 127'`\n"
      ]
    },
    {
      "cell_type": "code",
      "execution_count": null,
      "metadata": {
        "id": "Dqfme33Y0_Sk",
        "outputId": "6f7b6ff2-4ba5-49d5-8f73-96086cbffed7"
      },
      "outputs": [
        {
          "data": {
            "text/html": [
              "<div>\n",
              "<style scoped>\n",
              "    .dataframe tbody tr th:only-of-type {\n",
              "        vertical-align: middle;\n",
              "    }\n",
              "\n",
              "    .dataframe tbody tr th {\n",
              "        vertical-align: top;\n",
              "    }\n",
              "\n",
              "    .dataframe thead th {\n",
              "        text-align: right;\n",
              "    }\n",
              "</style>\n",
              "<table border=\"1\" class=\"dataframe\">\n",
              "  <thead>\n",
              "    <tr style=\"text-align: right;\">\n",
              "      <th>sample</th>\n",
              "      <th>c1</th>\n",
              "      <th>c2</th>\n",
              "      <th>t</th>\n",
              "    </tr>\n",
              "    <tr>\n",
              "      <th>payment_id_new</th>\n",
              "      <th></th>\n",
              "      <th></th>\n",
              "      <th></th>\n",
              "    </tr>\n",
              "  </thead>\n",
              "  <tbody>\n",
              "    <tr>\n",
              "      <th>147</th>\n",
              "      <td>155</td>\n",
              "      <td>145</td>\n",
              "      <td>125</td>\n",
              "    </tr>\n",
              "    <tr>\n",
              "      <th>19</th>\n",
              "      <td>108</td>\n",
              "      <td>91</td>\n",
              "      <td>74</td>\n",
              "    </tr>\n",
              "    <tr>\n",
              "      <th>146</th>\n",
              "      <td>32</td>\n",
              "      <td>30</td>\n",
              "      <td>30</td>\n",
              "    </tr>\n",
              "    <tr>\n",
              "      <th>67</th>\n",
              "      <td>35</td>\n",
              "      <td>42</td>\n",
              "      <td>22</td>\n",
              "    </tr>\n",
              "    <tr>\n",
              "      <th>68</th>\n",
              "      <td>18</td>\n",
              "      <td>14</td>\n",
              "      <td>14</td>\n",
              "    </tr>\n",
              "    <tr>\n",
              "      <th>0, 127</th>\n",
              "      <td>8</td>\n",
              "      <td>1</td>\n",
              "      <td>1</td>\n",
              "    </tr>\n",
              "  </tbody>\n",
              "</table>\n",
              "</div>"
            ],
            "text/plain": [
              "sample           c1   c2    t\n",
              "payment_id_new               \n",
              "147             155  145  125\n",
              "19              108   91   74\n",
              "146              32   30   30\n",
              "67               35   42   22\n",
              "68               18   14   14\n",
              "0, 127            8    1    1"
            ]
          },
          "execution_count": 152,
          "metadata": {},
          "output_type": "execute_result"
        }
      ],
      "source": [
        "payment_map = {'0': '0, 127', '127': '0, 127'}\n",
        "transactions['payment_id_new'] = transactions['payment_id'].map(payment_map).fillna(transactions['payment_id'])\n",
        "\n",
        "# ещё раз создадим таблицу с распределением payment_id и выборкам\n",
        "payment_table = transactions.pivot_table(index = 'payment_id_new', columns = 'sample', values = 'uid', aggfunc = 'count')\n",
        "payment_table.sort_values(by = 't', ascending = False)"
      ]
    },
    {
      "cell_type": "code",
      "execution_count": null,
      "metadata": {
        "id": "SNnicC8P0_Sk",
        "outputId": "f9562fce-60f0-45b5-97c2-520c60183a0b"
      },
      "outputs": [
        {
          "data": {
            "image/png": "[encoded data removed]",
            "text/plain": [
              "<Figure size 864x360 with 1 Axes>"
            ]
          },
          "metadata": {
            "needs_background": "light"
          },
          "output_type": "display_data"
        }
      ],
      "source": [
        "# отсртируем датафрейм users по частоте значений из колонки payment_id\n",
        "payment_counts = transactions['payment_id_new'].value_counts()\n",
        "payment_frequency_map = payment_counts.to_dict()\n",
        "transactions['payment_frequency'] = transactions['payment_id_new'].map(payment_frequency_map)\n",
        "transactions.sort_values('payment_frequency', ascending=False, inplace = True)\n",
        "\n",
        "# посмотрим на графике распределение payment_id\n",
        "plt.figure(figsize = (12, 5))\n",
        "sns.countplot(data=transactions, x=\"payment_id_new\", hue=\"sample\");"
      ]
    },
    {
      "cell_type": "markdown",
      "metadata": {
        "id": "801a2gLN0_Sl"
      },
      "source": [
        " Распределения визуально не отличаются."
      ]
    },
    {
      "cell_type": "code",
      "execution_count": null,
      "metadata": {
        "id": "gQSAgjmk0_Sl",
        "outputId": "3ce0dd18-2d05-4d39-89b1-4e6b80cf10c5"
      },
      "outputs": [
        {
          "name": "stdout",
          "output_type": "stream",
          "text": [
            "p-value = 0.548787020524394\n"
          ]
        }
      ],
      "source": [
        " # сравним test и control_2\n",
        "print('p-value =', st.chi2_contingency(payment_table[['t', 'c2']])[1])"
      ]
    },
    {
      "cell_type": "code",
      "execution_count": null,
      "metadata": {
        "id": "rbDwag6o0_Sl",
        "outputId": "a0db7111-81b1-4abc-b69d-bedf1be09418"
      },
      "outputs": [
        {
          "name": "stdout",
          "output_type": "stream",
          "text": [
            "p-value = 0.3433396086375376\n"
          ]
        }
      ],
      "source": [
        "# сравним test и control_1\n",
        "print('p-value =', st.chi2_contingency(payment_table[['t', 'c1']])[1])"
      ]
    },
    {
      "cell_type": "code",
      "execution_count": null,
      "metadata": {
        "id": "VEWrg68L0_Sl",
        "outputId": "8c627121-42c2-4902-fa23-d2d1659a6d4b"
      },
      "outputs": [
        {
          "name": "stdout",
          "output_type": "stream",
          "text": [
            "p-value = 0.23256117298919868\n"
          ]
        }
      ],
      "source": [
        "# сравним control_2 и control_1\n",
        "print('p-value =', st.chi2_contingency(payment_table[['c1', 'c2']])[1])"
      ]
    },
    {
      "cell_type": "markdown",
      "metadata": {
        "id": "55tgpBSo0_Sm"
      },
      "source": [
        "Отсутствие статистически значимых различий в распределениях пользователей по значению `payment_id_new` между группами.\n"
      ]
    },
    {
      "cell_type": "code",
      "execution_count": null,
      "metadata": {
        "id": "DXYS6-BZ0_Sm"
      },
      "outputs": [],
      "source": [
        " # удалим временные столбцы\n",
        "transactions.drop(['payment_frequency', 'payment_id_new'], axis=1, inplace=True)"
      ]
    },
    {
      "cell_type": "markdown",
      "metadata": {
        "id": "BKmnbDbv0_Sm"
      },
      "source": [
        "###  Посмотрим колонку from_page"
      ]
    },
    {
      "cell_type": "code",
      "execution_count": null,
      "metadata": {
        "id": "2HgS29E_0_Sm",
        "outputId": "5105b11d-3108-492c-9754-7a4fc554539a"
      },
      "outputs": [
        {
          "data": {
            "text/html": [
              "<div>\n",
              "<style scoped>\n",
              "    .dataframe tbody tr th:only-of-type {\n",
              "        vertical-align: middle;\n",
              "    }\n",
              "\n",
              "    .dataframe tbody tr th {\n",
              "        vertical-align: top;\n",
              "    }\n",
              "\n",
              "    .dataframe thead th {\n",
              "        text-align: right;\n",
              "    }\n",
              "</style>\n",
              "<table border=\"1\" class=\"dataframe\">\n",
              "  <thead>\n",
              "    <tr style=\"text-align: right;\">\n",
              "      <th>sample</th>\n",
              "      <th>c1</th>\n",
              "      <th>c2</th>\n",
              "      <th>t</th>\n",
              "    </tr>\n",
              "    <tr>\n",
              "      <th>from_page</th>\n",
              "      <th></th>\n",
              "      <th></th>\n",
              "      <th></th>\n",
              "    </tr>\n",
              "  </thead>\n",
              "  <tbody>\n",
              "    <tr>\n",
              "      <th>empty_likes</th>\n",
              "      <td>90.0</td>\n",
              "      <td>96.0</td>\n",
              "      <td>68.0</td>\n",
              "    </tr>\n",
              "    <tr>\n",
              "      <th>trial_vip_popup</th>\n",
              "      <td>56.0</td>\n",
              "      <td>45.0</td>\n",
              "      <td>48.0</td>\n",
              "    </tr>\n",
              "    <tr>\n",
              "      <th>none</th>\n",
              "      <td>34.0</td>\n",
              "      <td>32.0</td>\n",
              "      <td>34.0</td>\n",
              "    </tr>\n",
              "    <tr>\n",
              "      <th>autoreply_message</th>\n",
              "      <td>29.0</td>\n",
              "      <td>24.0</td>\n",
              "      <td>27.0</td>\n",
              "    </tr>\n",
              "    <tr>\n",
              "      <th>menu</th>\n",
              "      <td>28.0</td>\n",
              "      <td>14.0</td>\n",
              "      <td>24.0</td>\n",
              "    </tr>\n",
              "    <tr>\n",
              "      <th>promo_09</th>\n",
              "      <td>21.0</td>\n",
              "      <td>22.0</td>\n",
              "      <td>18.0</td>\n",
              "    </tr>\n",
              "    <tr>\n",
              "      <th>popular_users_chat</th>\n",
              "      <td>4.0</td>\n",
              "      <td>1.0</td>\n",
              "      <td>10.0</td>\n",
              "    </tr>\n",
              "    <tr>\n",
              "      <th>left_sidebar_menu</th>\n",
              "      <td>15.0</td>\n",
              "      <td>25.0</td>\n",
              "      <td>7.0</td>\n",
              "    </tr>\n",
              "    <tr>\n",
              "      <th>dating</th>\n",
              "      <td>9.0</td>\n",
              "      <td>10.0</td>\n",
              "      <td>5.0</td>\n",
              "    </tr>\n",
              "    <tr>\n",
              "      <th>autorefill</th>\n",
              "      <td>23.0</td>\n",
              "      <td>20.0</td>\n",
              "      <td>5.0</td>\n",
              "    </tr>\n",
              "    <tr>\n",
              "      <th>fans</th>\n",
              "      <td>7.0</td>\n",
              "      <td>3.0</td>\n",
              "      <td>4.0</td>\n",
              "    </tr>\n",
              "    <tr>\n",
              "      <th>gifts</th>\n",
              "      <td>7.0</td>\n",
              "      <td>8.0</td>\n",
              "      <td>3.0</td>\n",
              "    </tr>\n",
              "    <tr>\n",
              "      <th>super_popup</th>\n",
              "      <td>2.0</td>\n",
              "      <td>NaN</td>\n",
              "      <td>2.0</td>\n",
              "    </tr>\n",
              "    <tr>\n",
              "      <th>popular_users_block</th>\n",
              "      <td>8.0</td>\n",
              "      <td>9.0</td>\n",
              "      <td>2.0</td>\n",
              "    </tr>\n",
              "    <tr>\n",
              "      <th>sympathy</th>\n",
              "      <td>4.0</td>\n",
              "      <td>1.0</td>\n",
              "      <td>2.0</td>\n",
              "    </tr>\n",
              "    <tr>\n",
              "      <th>send_message</th>\n",
              "      <td>3.0</td>\n",
              "      <td>4.0</td>\n",
              "      <td>1.0</td>\n",
              "    </tr>\n",
              "    <tr>\n",
              "      <th>ad_to_photo</th>\n",
              "      <td>2.0</td>\n",
              "      <td>7.0</td>\n",
              "      <td>1.0</td>\n",
              "    </tr>\n",
              "    <tr>\n",
              "      <th>likes</th>\n",
              "      <td>NaN</td>\n",
              "      <td>NaN</td>\n",
              "      <td>1.0</td>\n",
              "    </tr>\n",
              "    <tr>\n",
              "      <th>empty_mutual</th>\n",
              "      <td>NaN</td>\n",
              "      <td>1.0</td>\n",
              "      <td>1.0</td>\n",
              "    </tr>\n",
              "    <tr>\n",
              "      <th>delivery_vip</th>\n",
              "      <td>NaN</td>\n",
              "      <td>NaN</td>\n",
              "      <td>1.0</td>\n",
              "    </tr>\n",
              "    <tr>\n",
              "      <th>coins_popup</th>\n",
              "      <td>2.0</td>\n",
              "      <td>NaN</td>\n",
              "      <td>1.0</td>\n",
              "    </tr>\n",
              "    <tr>\n",
              "      <th>user_profile</th>\n",
              "      <td>3.0</td>\n",
              "      <td>1.0</td>\n",
              "      <td>1.0</td>\n",
              "    </tr>\n",
              "    <tr>\n",
              "      <th>admins</th>\n",
              "      <td>2.0</td>\n",
              "      <td>NaN</td>\n",
              "      <td>NaN</td>\n",
              "    </tr>\n",
              "    <tr>\n",
              "      <th>empty_admins</th>\n",
              "      <td>2.0</td>\n",
              "      <td>NaN</td>\n",
              "      <td>NaN</td>\n",
              "    </tr>\n",
              "    <tr>\n",
              "      <th>no_sympathy</th>\n",
              "      <td>2.0</td>\n",
              "      <td>NaN</td>\n",
              "      <td>NaN</td>\n",
              "    </tr>\n",
              "    <tr>\n",
              "      <th>refund_VP</th>\n",
              "      <td>1.0</td>\n",
              "      <td>NaN</td>\n",
              "      <td>NaN</td>\n",
              "    </tr>\n",
              "    <tr>\n",
              "      <th>refund_WP</th>\n",
              "      <td>1.0</td>\n",
              "      <td>NaN</td>\n",
              "      <td>NaN</td>\n",
              "    </tr>\n",
              "    <tr>\n",
              "      <th>refung_AP</th>\n",
              "      <td>1.0</td>\n",
              "      <td>NaN</td>\n",
              "      <td>NaN</td>\n",
              "    </tr>\n",
              "  </tbody>\n",
              "</table>\n",
              "</div>"
            ],
            "text/plain": [
              "sample                 c1    c2     t\n",
              "from_page                            \n",
              "empty_likes          90.0  96.0  68.0\n",
              "trial_vip_popup      56.0  45.0  48.0\n",
              "none                 34.0  32.0  34.0\n",
              "autoreply_message    29.0  24.0  27.0\n",
              "menu                 28.0  14.0  24.0\n",
              "promo_09             21.0  22.0  18.0\n",
              "popular_users_chat    4.0   1.0  10.0\n",
              "left_sidebar_menu    15.0  25.0   7.0\n",
              "dating                9.0  10.0   5.0\n",
              "autorefill           23.0  20.0   5.0\n",
              "fans                  7.0   3.0   4.0\n",
              "gifts                 7.0   8.0   3.0\n",
              "super_popup           2.0   NaN   2.0\n",
              "popular_users_block   8.0   9.0   2.0\n",
              "sympathy              4.0   1.0   2.0\n",
              "send_message          3.0   4.0   1.0\n",
              "ad_to_photo           2.0   7.0   1.0\n",
              "likes                 NaN   NaN   1.0\n",
              "empty_mutual          NaN   1.0   1.0\n",
              "delivery_vip          NaN   NaN   1.0\n",
              "coins_popup           2.0   NaN   1.0\n",
              "user_profile          3.0   1.0   1.0\n",
              "admins                2.0   NaN   NaN\n",
              "empty_admins          2.0   NaN   NaN\n",
              "no_sympathy           2.0   NaN   NaN\n",
              "refund_VP             1.0   NaN   NaN\n",
              "refund_WP             1.0   NaN   NaN\n",
              "refung_AP             1.0   NaN   NaN"
            ]
          },
          "execution_count": 159,
          "metadata": {},
          "output_type": "execute_result"
        }
      ],
      "source": [
        "page_table = transactions.pivot_table(index = 'from_page', columns = 'sample', values = 'uid', aggfunc = 'count')\n",
        "page_table.sort_values(by = 't', ascending = False)"
      ]
    },
    {
      "cell_type": "code",
      "execution_count": null,
      "metadata": {
        "id": "3KUGlKeI0_Sm",
        "outputId": "c7472008-3b80-4b53-fbbe-c53283da77fa"
      },
      "outputs": [
        {
          "data": {
            "text/html": [
              "<div>\n",
              "<style scoped>\n",
              "    .dataframe tbody tr th:only-of-type {\n",
              "        vertical-align: middle;\n",
              "    }\n",
              "\n",
              "    .dataframe tbody tr th {\n",
              "        vertical-align: top;\n",
              "    }\n",
              "\n",
              "    .dataframe thead th {\n",
              "        text-align: right;\n",
              "    }\n",
              "</style>\n",
              "<table border=\"1\" class=\"dataframe\">\n",
              "  <thead>\n",
              "    <tr style=\"text-align: right;\">\n",
              "      <th>sample</th>\n",
              "      <th>c1</th>\n",
              "      <th>c2</th>\n",
              "      <th>t</th>\n",
              "    </tr>\n",
              "    <tr>\n",
              "      <th>from_page_temp</th>\n",
              "      <th></th>\n",
              "      <th></th>\n",
              "      <th></th>\n",
              "    </tr>\n",
              "  </thead>\n",
              "  <tbody>\n",
              "    <tr>\n",
              "      <th>empty_likes</th>\n",
              "      <td>90</td>\n",
              "      <td>96</td>\n",
              "      <td>68</td>\n",
              "    </tr>\n",
              "    <tr>\n",
              "      <th>trial_vip_popup</th>\n",
              "      <td>56</td>\n",
              "      <td>45</td>\n",
              "      <td>48</td>\n",
              "    </tr>\n",
              "    <tr>\n",
              "      <th>other_pages</th>\n",
              "      <td>98</td>\n",
              "      <td>90</td>\n",
              "      <td>47</td>\n",
              "    </tr>\n",
              "    <tr>\n",
              "      <th>none</th>\n",
              "      <td>34</td>\n",
              "      <td>32</td>\n",
              "      <td>34</td>\n",
              "    </tr>\n",
              "    <tr>\n",
              "      <th>autoreply_message</th>\n",
              "      <td>29</td>\n",
              "      <td>24</td>\n",
              "      <td>27</td>\n",
              "    </tr>\n",
              "    <tr>\n",
              "      <th>menu</th>\n",
              "      <td>28</td>\n",
              "      <td>14</td>\n",
              "      <td>24</td>\n",
              "    </tr>\n",
              "    <tr>\n",
              "      <th>promo_09</th>\n",
              "      <td>21</td>\n",
              "      <td>22</td>\n",
              "      <td>18</td>\n",
              "    </tr>\n",
              "  </tbody>\n",
              "</table>\n",
              "</div>"
            ],
            "text/plain": [
              "sample             c1  c2   t\n",
              "from_page_temp               \n",
              "empty_likes        90  96  68\n",
              "trial_vip_popup    56  45  48\n",
              "other_pages        98  90  47\n",
              "none               34  32  34\n",
              "autoreply_message  29  24  27\n",
              "menu               28  14  24\n",
              "promo_09           21  22  18"
            ]
          },
          "execution_count": 206,
          "metadata": {},
          "output_type": "execute_result"
        }
      ],
      "source": [
        "# создадим колонку from_page_temp\n",
        "other_pages = ['super_popup', 'likes', 'empty_mutual', 'delivery_vip', 'coins_popup', 'admins', 'empty_admins', 'no_sympathy',\n",
        "              'refund_VP', 'refund_WP', 'refung_AP', 'user_profile', 'send_message', 'ad_to_photo', 'popular_users_block',\n",
        "              'sympathy', 'popular_users_chat', 'gifts', 'fans', 'dating', 'autorefill', 'left_sidebar_menu']\n",
        "to_other_page = {}\n",
        "for o_p in other_pages:\n",
        "    to_other_page[o_p] = 'other_pages'\n",
        "transactions['from_page_temp'] = transactions['from_page'].map(to_other_page).fillna(transactions['from_page'])\n",
        "\n",
        "page_table = transactions.pivot_table(index = 'from_page_temp', columns = 'sample', values = 'uid', aggfunc = 'count')\n",
        "page_table.sort_values(by = 't', ascending = False)"
      ]
    },
    {
      "cell_type": "code",
      "execution_count": null,
      "metadata": {
        "id": "oh5Bz2uh0_Sm"
      },
      "outputs": [],
      "source": [
        "product_counts = transactions['product_type'].value_counts()\n",
        "product_frequency_map = product_counts.to_dict()\n",
        "transactions['product_frequency'] = transactions['product_type'].map(product_frequency_map)\n",
        "transactions.sort_values('product_frequency', ascending=False, inplace = True)"
      ]
    },
    {
      "cell_type": "markdown",
      "metadata": {
        "id": "4E5g0GOD0_Sn"
      },
      "source": [
        " C помощью теста хи-квадрат попарно проверим выборки на наличие статистически значимых различий"
      ]
    },
    {
      "cell_type": "code",
      "execution_count": null,
      "metadata": {
        "id": "QA8aqBOj0_Sn",
        "outputId": "64f39780-e039-4c7b-f824-40bc7d247bba"
      },
      "outputs": [
        {
          "data": {
            "image/png": "[encoded data removed]",
            "text/plain": [
              "<Figure size 864x360 with 1 Axes>"
            ]
          },
          "metadata": {
            "needs_background": "light"
          },
          "output_type": "display_data"
        }
      ],
      "source": [
        " plt.figure(figsize = (12, 5))\n",
        "sns.countplot(data=transactions, x=\"product_type\", hue=\"sample\");"
      ]
    },
    {
      "cell_type": "code",
      "execution_count": null,
      "metadata": {
        "id": "nBrI0btP0_Sn",
        "outputId": "3cacea99-8c90-4b9b-d22b-128e77fa002d"
      },
      "outputs": [
        {
          "name": "stdout",
          "output_type": "stream",
          "text": [
            "p-value = 0.1522597861202392\n"
          ]
        }
      ],
      "source": [
        " # сравним test и control_1\n",
        "print('p-value =', st.chi2_contingency(page_table[['c1', 't']])[1])"
      ]
    },
    {
      "cell_type": "code",
      "execution_count": null,
      "metadata": {
        "id": "5fo9lquO0_Sn",
        "outputId": "3118aef0-c915-4e1c-8629-5b693b0b3015"
      },
      "outputs": [
        {
          "name": "stdout",
          "output_type": "stream",
          "text": [
            "p-value = 0.012334250193158536\n"
          ]
        }
      ],
      "source": [
        "# сравним test и control_2\n",
        "print('p-value =', st.chi2_contingency(page_table[['c2', 't']])[1])"
      ]
    },
    {
      "cell_type": "code",
      "execution_count": null,
      "metadata": {
        "id": "Usj335Zv0_So",
        "outputId": "d38c967e-977e-48d5-f3ec-9d1c017c619f"
      },
      "outputs": [
        {
          "name": "stdout",
          "output_type": "stream",
          "text": [
            "p-value = 0.4981598792007532\n"
          ]
        }
      ],
      "source": [
        " # сравним control_2 и control_1\n",
        "print('p-value =', st.chi2_contingency(page_table[['c2', 'c1']])[1])"
      ]
    },
    {
      "cell_type": "markdown",
      "metadata": {
        "id": "gdsC5cqu0_Sp"
      },
      "source": [
        "Между выборками **test** и **control_2** выявлены **статистически значимые различия** при уровне значимости 0,05.  \n",
        "\n",
        "Возможная причина — наличие зависимости между параметром `from_page` и платёжеспособностью пользователя или его склонностью к приобретению премиум-подписки. Этот вопрос требует **дополнительного изучения**.\n",
        "\n",
        "Для остальных пар выборок статистически значимых различий не обнаружено.\n"
      ]
    },
    {
      "cell_type": "code",
      "execution_count": null,
      "metadata": {
        "id": "3OodQ-Um0_Sp"
      },
      "outputs": [],
      "source": [
        " # удалим временные столбцы\n",
        "transactions.drop(['from_page_temp', 'from_page_frequency'], axis=1, inplace=True, errors='ignore')"
      ]
    },
    {
      "cell_type": "markdown",
      "metadata": {
        "id": "DsHO0UQJ0_Sq"
      },
      "source": [
        "###  Колонка product_type"
      ]
    },
    {
      "cell_type": "code",
      "execution_count": null,
      "metadata": {
        "id": "96E82OUA0_Sq",
        "outputId": "13b74d5f-cbd8-44dc-a4de-18deb0826d64"
      },
      "outputs": [
        {
          "data": {
            "text/plain": [
              "coins               358\n",
              "premium_no_trial    289\n",
              "trial_premium       182\n",
              "other_type          116\n",
              "Name: product_type, dtype: int64"
            ]
          },
          "execution_count": 168,
          "metadata": {},
          "output_type": "execute_result"
        }
      ],
      "source": [
        " transactions.product_type.value_counts()\n"
      ]
    },
    {
      "cell_type": "code",
      "execution_count": null,
      "metadata": {
        "id": "MQMksgf-0_Sq",
        "outputId": "07bfc89a-6a9a-4e7d-9926-caff50ece67b"
      },
      "outputs": [
        {
          "data": {
            "text/html": [
              "<div>\n",
              "<style scoped>\n",
              "    .dataframe tbody tr th:only-of-type {\n",
              "        vertical-align: middle;\n",
              "    }\n",
              "\n",
              "    .dataframe tbody tr th {\n",
              "        vertical-align: top;\n",
              "    }\n",
              "\n",
              "    .dataframe thead th {\n",
              "        text-align: right;\n",
              "    }\n",
              "</style>\n",
              "<table border=\"1\" class=\"dataframe\">\n",
              "  <thead>\n",
              "    <tr style=\"text-align: right;\">\n",
              "      <th>sample</th>\n",
              "      <th>c1</th>\n",
              "      <th>c2</th>\n",
              "      <th>t</th>\n",
              "    </tr>\n",
              "    <tr>\n",
              "      <th>product_type</th>\n",
              "      <th></th>\n",
              "      <th></th>\n",
              "      <th></th>\n",
              "    </tr>\n",
              "  </thead>\n",
              "  <tbody>\n",
              "    <tr>\n",
              "      <th>coins</th>\n",
              "      <td>137</td>\n",
              "      <td>120</td>\n",
              "      <td>101</td>\n",
              "    </tr>\n",
              "    <tr>\n",
              "      <th>premium_no_trial</th>\n",
              "      <td>106</td>\n",
              "      <td>107</td>\n",
              "      <td>76</td>\n",
              "    </tr>\n",
              "    <tr>\n",
              "      <th>trial_premium</th>\n",
              "      <td>67</td>\n",
              "      <td>53</td>\n",
              "      <td>62</td>\n",
              "    </tr>\n",
              "    <tr>\n",
              "      <th>other_type</th>\n",
              "      <td>46</td>\n",
              "      <td>43</td>\n",
              "      <td>27</td>\n",
              "    </tr>\n",
              "  </tbody>\n",
              "</table>\n",
              "</div>"
            ],
            "text/plain": [
              "sample             c1   c2    t\n",
              "product_type                   \n",
              "coins             137  120  101\n",
              "premium_no_trial  106  107   76\n",
              "trial_premium      67   53   62\n",
              "other_type         46   43   27"
            ]
          },
          "execution_count": 169,
          "metadata": {},
          "output_type": "execute_result"
        }
      ],
      "source": [
        "product_table = transactions.pivot_table(index = 'product_type', columns = 'sample', values = 'uid', aggfunc = 'count')\n",
        "product_table.sort_values(by = 't', ascending = False)"
      ]
    },
    {
      "cell_type": "markdown",
      "metadata": {
        "id": "SeKAgUnV0_Sq"
      },
      "source": [
        "Распределения визуально не отличаются.\n"
      ]
    },
    {
      "cell_type": "code",
      "execution_count": null,
      "metadata": {
        "id": "t4xA9Nkg0_Sq",
        "outputId": "2d9f6806-66dc-4f98-d4fb-2f5710f5da57"
      },
      "outputs": [
        {
          "name": "stdout",
          "output_type": "stream",
          "text": [
            "p-value = 0.4644498338547721\n"
          ]
        }
      ],
      "source": [
        "# сравним test и control_1\n",
        "print('p-value =', st.chi2_contingency(product_table[['t', 'c1']])[1])"
      ]
    },
    {
      "cell_type": "code",
      "execution_count": null,
      "metadata": {
        "id": "MkY4ZLh50_Sr",
        "outputId": "01625cea-9cff-4e97-ebe9-50cf9d8a61d4"
      },
      "outputs": [
        {
          "name": "stdout",
          "output_type": "stream",
          "text": [
            "p-value = 0.12258482989892143\n"
          ]
        }
      ],
      "source": [
        "# сравним test и control_2\n",
        "print('p-value =', st.chi2_contingency(product_table[['t', 'c2']])[1])"
      ]
    },
    {
      "cell_type": "code",
      "execution_count": null,
      "metadata": {
        "id": "athEI2r50_Sr",
        "outputId": "9ee1a6c6-2bb0-4426-ced9-e5f544ee90c8"
      },
      "outputs": [
        {
          "name": "stdout",
          "output_type": "stream",
          "text": [
            "p-value = 0.7379804129542318\n"
          ]
        }
      ],
      "source": [
        "# сравним control_2 и control_1\n",
        "print('p-value =', st.chi2_contingency(product_table[['c2', 'c1']])[1])"
      ]
    },
    {
      "cell_type": "markdown",
      "metadata": {
        "id": "TKvGI2ur0_Sr"
      },
      "source": [
        "Статистически значимых различий в распределении транзакций по product_type в разных выборках нет."
      ]
    },
    {
      "cell_type": "markdown",
      "metadata": {
        "id": "-MZTJ-MO0_Sr"
      },
      "source": [
        "###  Посмотрим колонку revenue"
      ]
    },
    {
      "cell_type": "code",
      "execution_count": null,
      "metadata": {
        "id": "8JsM84kg0_Sr",
        "outputId": "f5c5656f-a697-43af-e988-71c8e50de6cf"
      },
      "outputs": [
        {
          "data": {
            "text/html": [
              "<div>\n",
              "<style scoped>\n",
              "    .dataframe tbody tr th:only-of-type {\n",
              "        vertical-align: middle;\n",
              "    }\n",
              "\n",
              "    .dataframe tbody tr th {\n",
              "        vertical-align: top;\n",
              "    }\n",
              "\n",
              "    .dataframe thead th {\n",
              "        text-align: right;\n",
              "    }\n",
              "</style>\n",
              "<table border=\"1\" class=\"dataframe\">\n",
              "  <thead>\n",
              "    <tr style=\"text-align: right;\">\n",
              "      <th></th>\n",
              "      <th>uid</th>\n",
              "      <th>sample</th>\n",
              "      <th>revenue_sum</th>\n",
              "    </tr>\n",
              "  </thead>\n",
              "  <tbody>\n",
              "    <tr>\n",
              "      <th>0</th>\n",
              "      <td>891317289</td>\n",
              "      <td>c2</td>\n",
              "      <td>481</td>\n",
              "    </tr>\n",
              "    <tr>\n",
              "      <th>1</th>\n",
              "      <td>891777708</td>\n",
              "      <td>t</td>\n",
              "      <td>624</td>\n",
              "    </tr>\n",
              "    <tr>\n",
              "      <th>2</th>\n",
              "      <td>891789270</td>\n",
              "      <td>c2</td>\n",
              "      <td>728</td>\n",
              "    </tr>\n",
              "    <tr>\n",
              "      <th>3</th>\n",
              "      <td>891653790</td>\n",
              "      <td>c1</td>\n",
              "      <td>728</td>\n",
              "    </tr>\n",
              "    <tr>\n",
              "      <th>4</th>\n",
              "      <td>891914322</td>\n",
              "      <td>t</td>\n",
              "      <td>741</td>\n",
              "    </tr>\n",
              "    <tr>\n",
              "      <th>...</th>\n",
              "      <td>...</td>\n",
              "      <td>...</td>\n",
              "      <td>...</td>\n",
              "    </tr>\n",
              "    <tr>\n",
              "      <th>521</th>\n",
              "      <td>891778551</td>\n",
              "      <td>c2</td>\n",
              "      <td>81796</td>\n",
              "    </tr>\n",
              "    <tr>\n",
              "      <th>522</th>\n",
              "      <td>892236423</td>\n",
              "      <td>t</td>\n",
              "      <td>86996</td>\n",
              "    </tr>\n",
              "    <tr>\n",
              "      <th>523</th>\n",
              "      <td>892038759</td>\n",
              "      <td>t</td>\n",
              "      <td>123565</td>\n",
              "    </tr>\n",
              "    <tr>\n",
              "      <th>524</th>\n",
              "      <td>891178380</td>\n",
              "      <td>t</td>\n",
              "      <td>129870</td>\n",
              "    </tr>\n",
              "    <tr>\n",
              "      <th>525</th>\n",
              "      <td>892333905</td>\n",
              "      <td>c1</td>\n",
              "      <td>403104</td>\n",
              "    </tr>\n",
              "  </tbody>\n",
              "</table>\n",
              "<p>526 rows × 3 columns</p>\n",
              "</div>"
            ],
            "text/plain": [
              "           uid sample  revenue_sum\n",
              "0    891317289     c2          481\n",
              "1    891777708      t          624\n",
              "2    891789270     c2          728\n",
              "3    891653790     c1          728\n",
              "4    891914322      t          741\n",
              "..         ...    ...          ...\n",
              "521  891778551     c2        81796\n",
              "522  892236423      t        86996\n",
              "523  892038759      t       123565\n",
              "524  891178380      t       129870\n",
              "525  892333905     c1       403104\n",
              "\n",
              "[526 rows x 3 columns]"
            ]
          },
          "execution_count": 173,
          "metadata": {},
          "output_type": "execute_result"
        }
      ],
      "source": [
        "# считаем сумму выручки для каждого клиента из transactions\n",
        "revenue_sum = transactions.groupby(['uid', 'sample']).agg(revenue_sum = ('revenue', 'sum')).sort_values(by = 'revenue_sum').reset_index()\n",
        "revenue_sum"
      ]
    },
    {
      "cell_type": "code",
      "execution_count": null,
      "metadata": {
        "id": "CSZdtYZc0_Ss",
        "outputId": "6336464c-e1c4-4e30-c209-5d5de40a955c"
      },
      "outputs": [
        {
          "data": {
            "text/html": [
              "<div>\n",
              "<style scoped>\n",
              "    .dataframe tbody tr th:only-of-type {\n",
              "        vertical-align: middle;\n",
              "    }\n",
              "\n",
              "    .dataframe tbody tr th {\n",
              "        vertical-align: top;\n",
              "    }\n",
              "\n",
              "    .dataframe thead th {\n",
              "        text-align: right;\n",
              "    }\n",
              "</style>\n",
              "<table border=\"1\" class=\"dataframe\">\n",
              "  <thead>\n",
              "    <tr style=\"text-align: right;\">\n",
              "      <th></th>\n",
              "      <th>uid</th>\n",
              "      <th>total_revenue</th>\n",
              "      <th>sample</th>\n",
              "    </tr>\n",
              "  </thead>\n",
              "  <tbody>\n",
              "    <tr>\n",
              "      <th>0</th>\n",
              "      <td>892309896</td>\n",
              "      <td>0.0</td>\n",
              "      <td>t</td>\n",
              "    </tr>\n",
              "    <tr>\n",
              "      <th>8508</th>\n",
              "      <td>891442878</td>\n",
              "      <td>0.0</td>\n",
              "      <td>t</td>\n",
              "    </tr>\n",
              "    <tr>\n",
              "      <th>8509</th>\n",
              "      <td>892264314</td>\n",
              "      <td>0.0</td>\n",
              "      <td>t</td>\n",
              "    </tr>\n",
              "    <tr>\n",
              "      <th>8510</th>\n",
              "      <td>891254049</td>\n",
              "      <td>0.0</td>\n",
              "      <td>c1</td>\n",
              "    </tr>\n",
              "    <tr>\n",
              "      <th>8511</th>\n",
              "      <td>891328464</td>\n",
              "      <td>0.0</td>\n",
              "      <td>c2</td>\n",
              "    </tr>\n",
              "    <tr>\n",
              "      <th>...</th>\n",
              "      <td>...</td>\n",
              "      <td>...</td>\n",
              "      <td>...</td>\n",
              "    </tr>\n",
              "    <tr>\n",
              "      <th>9608</th>\n",
              "      <td>891778551</td>\n",
              "      <td>81796.0</td>\n",
              "      <td>c2</td>\n",
              "    </tr>\n",
              "    <tr>\n",
              "      <th>4168</th>\n",
              "      <td>892236423</td>\n",
              "      <td>86996.0</td>\n",
              "      <td>t</td>\n",
              "    </tr>\n",
              "    <tr>\n",
              "      <th>9556</th>\n",
              "      <td>892038759</td>\n",
              "      <td>123565.0</td>\n",
              "      <td>t</td>\n",
              "    </tr>\n",
              "    <tr>\n",
              "      <th>8397</th>\n",
              "      <td>891178380</td>\n",
              "      <td>129870.0</td>\n",
              "      <td>t</td>\n",
              "    </tr>\n",
              "    <tr>\n",
              "      <th>7581</th>\n",
              "      <td>892333905</td>\n",
              "      <td>403104.0</td>\n",
              "      <td>c1</td>\n",
              "    </tr>\n",
              "  </tbody>\n",
              "</table>\n",
              "<p>12912 rows × 3 columns</p>\n",
              "</div>"
            ],
            "text/plain": [
              "            uid  total_revenue sample\n",
              "0     892309896            0.0      t\n",
              "8508  891442878            0.0      t\n",
              "8509  892264314            0.0      t\n",
              "8510  891254049            0.0     c1\n",
              "8511  891328464            0.0     c2\n",
              "...         ...            ...    ...\n",
              "9608  891778551        81796.0     c2\n",
              "4168  892236423        86996.0      t\n",
              "9556  892038759       123565.0      t\n",
              "8397  891178380       129870.0      t\n",
              "7581  892333905       403104.0     c1\n",
              "\n",
              "[12912 rows x 3 columns]"
            ]
          },
          "execution_count": 207,
          "metadata": {},
          "output_type": "execute_result"
        }
      ],
      "source": [
        "# берём столбцы 'uid' и 'revenue' из таблицы users\n",
        "revenue_from_users = users[['uid', 'total_revenue', 'sample']].sort_values(by = 'total_revenue')\n",
        "revenue_from_users"
      ]
    },
    {
      "cell_type": "code",
      "execution_count": null,
      "metadata": {
        "id": "G4DSiKsw0_Ss",
        "outputId": "5f669932-9c60-458e-a3d9-0d1086a9c3a7"
      },
      "outputs": [
        {
          "data": {
            "text/html": [
              "<div>\n",
              "<style scoped>\n",
              "    .dataframe tbody tr th:only-of-type {\n",
              "        vertical-align: middle;\n",
              "    }\n",
              "\n",
              "    .dataframe tbody tr th {\n",
              "        vertical-align: top;\n",
              "    }\n",
              "\n",
              "    .dataframe thead th {\n",
              "        text-align: right;\n",
              "    }\n",
              "</style>\n",
              "<table border=\"1\" class=\"dataframe\">\n",
              "  <thead>\n",
              "    <tr style=\"text-align: right;\">\n",
              "      <th></th>\n",
              "      <th>uid</th>\n",
              "      <th>sample</th>\n",
              "      <th>revenue_sum</th>\n",
              "      <th>total_revenue</th>\n",
              "    </tr>\n",
              "  </thead>\n",
              "  <tbody>\n",
              "    <tr>\n",
              "      <th>0</th>\n",
              "      <td>892355163</td>\n",
              "      <td>c1</td>\n",
              "      <td>30264</td>\n",
              "      <td>0</td>\n",
              "    </tr>\n",
              "    <tr>\n",
              "      <th>1</th>\n",
              "      <td>960936960</td>\n",
              "      <td>c1</td>\n",
              "      <td>806</td>\n",
              "      <td>26</td>\n",
              "    </tr>\n",
              "    <tr>\n",
              "      <th>2</th>\n",
              "      <td>891317289</td>\n",
              "      <td>c2</td>\n",
              "      <td>481</td>\n",
              "      <td>481</td>\n",
              "    </tr>\n",
              "    <tr>\n",
              "      <th>3</th>\n",
              "      <td>891777708</td>\n",
              "      <td>t</td>\n",
              "      <td>624</td>\n",
              "      <td>624</td>\n",
              "    </tr>\n",
              "    <tr>\n",
              "      <th>4</th>\n",
              "      <td>891653790</td>\n",
              "      <td>c1</td>\n",
              "      <td>728</td>\n",
              "      <td>728</td>\n",
              "    </tr>\n",
              "    <tr>\n",
              "      <th>...</th>\n",
              "      <td>...</td>\n",
              "      <td>...</td>\n",
              "      <td>...</td>\n",
              "      <td>...</td>\n",
              "    </tr>\n",
              "    <tr>\n",
              "      <th>521</th>\n",
              "      <td>891778551</td>\n",
              "      <td>c2</td>\n",
              "      <td>81796</td>\n",
              "      <td>81796</td>\n",
              "    </tr>\n",
              "    <tr>\n",
              "      <th>522</th>\n",
              "      <td>892236423</td>\n",
              "      <td>t</td>\n",
              "      <td>86996</td>\n",
              "      <td>95823</td>\n",
              "    </tr>\n",
              "    <tr>\n",
              "      <th>523</th>\n",
              "      <td>892038759</td>\n",
              "      <td>t</td>\n",
              "      <td>123565</td>\n",
              "      <td>123565</td>\n",
              "    </tr>\n",
              "    <tr>\n",
              "      <th>524</th>\n",
              "      <td>891178380</td>\n",
              "      <td>t</td>\n",
              "      <td>129870</td>\n",
              "      <td>129870</td>\n",
              "    </tr>\n",
              "    <tr>\n",
              "      <th>525</th>\n",
              "      <td>892333905</td>\n",
              "      <td>c1</td>\n",
              "      <td>403104</td>\n",
              "      <td>486330</td>\n",
              "    </tr>\n",
              "  </tbody>\n",
              "</table>\n",
              "<p>526 rows × 4 columns</p>\n",
              "</div>"
            ],
            "text/plain": [
              "           uid sample  revenue_sum  total_revenue\n",
              "0    892355163     c1        30264              0\n",
              "1    960936960     c1          806             26\n",
              "2    891317289     c2          481            481\n",
              "3    891777708      t          624            624\n",
              "4    891653790     c1          728            728\n",
              "..         ...    ...          ...            ...\n",
              "521  891778551     c2        81796          81796\n",
              "522  892236423      t        86996          95823\n",
              "523  892038759      t       123565         123565\n",
              "524  891178380      t       129870         129870\n",
              "525  892333905     c1       403104         486330\n",
              "\n",
              "[526 rows x 4 columns]"
            ]
          },
          "execution_count": 175,
          "metadata": {},
          "output_type": "execute_result"
        }
      ],
      "source": [
        "# сводим таблицы revenue_sum и total_revenue\n",
        "revenue = revenue_sum.merge(revenue_from_users).sort_values(by = 'total_revenue', ignore_index=True)\n",
        "revenue"
      ]
    },
    {
      "cell_type": "markdown",
      "metadata": {
        "id": "afl99JHZ0_Ss"
      },
      "source": [
        " Уже видно, что есть строки, где revenue_sum и total_revenue не совпадают"
      ]
    },
    {
      "cell_type": "code",
      "execution_count": null,
      "metadata": {
        "id": "0XHn1O350_Ss",
        "outputId": "9c3116ef-67b0-4313-e89a-f6b138c2071d"
      },
      "outputs": [
        {
          "data": {
            "text/html": [
              "<div>\n",
              "<style scoped>\n",
              "    .dataframe tbody tr th:only-of-type {\n",
              "        vertical-align: middle;\n",
              "    }\n",
              "\n",
              "    .dataframe tbody tr th {\n",
              "        vertical-align: top;\n",
              "    }\n",
              "\n",
              "    .dataframe thead th {\n",
              "        text-align: right;\n",
              "    }\n",
              "</style>\n",
              "<table border=\"1\" class=\"dataframe\">\n",
              "  <thead>\n",
              "    <tr style=\"text-align: right;\">\n",
              "      <th></th>\n",
              "      <th>uid</th>\n",
              "      <th>sample</th>\n",
              "      <th>revenue_sum</th>\n",
              "      <th>total_revenue</th>\n",
              "    </tr>\n",
              "  </thead>\n",
              "  <tbody>\n",
              "    <tr>\n",
              "      <th>0</th>\n",
              "      <td>892355163</td>\n",
              "      <td>c1</td>\n",
              "      <td>30264</td>\n",
              "      <td>0</td>\n",
              "    </tr>\n",
              "    <tr>\n",
              "      <th>1</th>\n",
              "      <td>960936960</td>\n",
              "      <td>c1</td>\n",
              "      <td>806</td>\n",
              "      <td>26</td>\n",
              "    </tr>\n",
              "    <tr>\n",
              "      <th>37</th>\n",
              "      <td>892062660</td>\n",
              "      <td>c2</td>\n",
              "      <td>1261</td>\n",
              "      <td>2522</td>\n",
              "    </tr>\n",
              "    <tr>\n",
              "      <th>39</th>\n",
              "      <td>892202526</td>\n",
              "      <td>t</td>\n",
              "      <td>1794</td>\n",
              "      <td>2691</td>\n",
              "    </tr>\n",
              "    <tr>\n",
              "      <th>189</th>\n",
              "      <td>892009254</td>\n",
              "      <td>c2</td>\n",
              "      <td>4719</td>\n",
              "      <td>7072</td>\n",
              "    </tr>\n",
              "    <tr>\n",
              "      <th>215</th>\n",
              "      <td>891252072</td>\n",
              "      <td>c1</td>\n",
              "      <td>7553</td>\n",
              "      <td>8814</td>\n",
              "    </tr>\n",
              "    <tr>\n",
              "      <th>277</th>\n",
              "      <td>892045743</td>\n",
              "      <td>c2</td>\n",
              "      <td>8814</td>\n",
              "      <td>10075</td>\n",
              "    </tr>\n",
              "    <tr>\n",
              "      <th>278</th>\n",
              "      <td>891862596</td>\n",
              "      <td>c2</td>\n",
              "      <td>8814</td>\n",
              "      <td>10075</td>\n",
              "    </tr>\n",
              "    <tr>\n",
              "      <th>279</th>\n",
              "      <td>891365490</td>\n",
              "      <td>c1</td>\n",
              "      <td>8814</td>\n",
              "      <td>10075</td>\n",
              "    </tr>\n",
              "    <tr>\n",
              "      <th>280</th>\n",
              "      <td>891508155</td>\n",
              "      <td>t</td>\n",
              "      <td>9165</td>\n",
              "      <td>10101</td>\n",
              "    </tr>\n",
              "    <tr>\n",
              "      <th>412</th>\n",
              "      <td>891320916</td>\n",
              "      <td>c1</td>\n",
              "      <td>10075</td>\n",
              "      <td>13858</td>\n",
              "    </tr>\n",
              "    <tr>\n",
              "      <th>423</th>\n",
              "      <td>892275462</td>\n",
              "      <td>t</td>\n",
              "      <td>58968</td>\n",
              "      <td>14885</td>\n",
              "    </tr>\n",
              "    <tr>\n",
              "      <th>430</th>\n",
              "      <td>892050108</td>\n",
              "      <td>t</td>\n",
              "      <td>15119</td>\n",
              "      <td>16380</td>\n",
              "    </tr>\n",
              "    <tr>\n",
              "      <th>459</th>\n",
              "      <td>892339626</td>\n",
              "      <td>t</td>\n",
              "      <td>17004</td>\n",
              "      <td>17758</td>\n",
              "    </tr>\n",
              "    <tr>\n",
              "      <th>462</th>\n",
              "      <td>891721851</td>\n",
              "      <td>c1</td>\n",
              "      <td>17277</td>\n",
              "      <td>18174</td>\n",
              "    </tr>\n",
              "    <tr>\n",
              "      <th>468</th>\n",
              "      <td>891452706</td>\n",
              "      <td>c1</td>\n",
              "      <td>12597</td>\n",
              "      <td>18902</td>\n",
              "    </tr>\n",
              "    <tr>\n",
              "      <th>469</th>\n",
              "      <td>892207959</td>\n",
              "      <td>c1</td>\n",
              "      <td>16380</td>\n",
              "      <td>18902</td>\n",
              "    </tr>\n",
              "    <tr>\n",
              "      <th>470</th>\n",
              "      <td>892064328</td>\n",
              "      <td>c2</td>\n",
              "      <td>12597</td>\n",
              "      <td>18902</td>\n",
              "    </tr>\n",
              "    <tr>\n",
              "      <th>477</th>\n",
              "      <td>891367521</td>\n",
              "      <td>c1</td>\n",
              "      <td>16081</td>\n",
              "      <td>20462</td>\n",
              "    </tr>\n",
              "    <tr>\n",
              "      <th>480</th>\n",
              "      <td>891739737</td>\n",
              "      <td>c1</td>\n",
              "      <td>20163</td>\n",
              "      <td>21424</td>\n",
              "    </tr>\n",
              "    <tr>\n",
              "      <th>495</th>\n",
              "      <td>892102893</td>\n",
              "      <td>c1</td>\n",
              "      <td>12610</td>\n",
              "      <td>25220</td>\n",
              "    </tr>\n",
              "    <tr>\n",
              "      <th>522</th>\n",
              "      <td>892236423</td>\n",
              "      <td>t</td>\n",
              "      <td>86996</td>\n",
              "      <td>95823</td>\n",
              "    </tr>\n",
              "    <tr>\n",
              "      <th>525</th>\n",
              "      <td>892333905</td>\n",
              "      <td>c1</td>\n",
              "      <td>403104</td>\n",
              "      <td>486330</td>\n",
              "    </tr>\n",
              "  </tbody>\n",
              "</table>\n",
              "</div>"
            ],
            "text/plain": [
              "           uid sample  revenue_sum  total_revenue\n",
              "0    892355163     c1        30264              0\n",
              "1    960936960     c1          806             26\n",
              "37   892062660     c2         1261           2522\n",
              "39   892202526      t         1794           2691\n",
              "189  892009254     c2         4719           7072\n",
              "215  891252072     c1         7553           8814\n",
              "277  892045743     c2         8814          10075\n",
              "278  891862596     c2         8814          10075\n",
              "279  891365490     c1         8814          10075\n",
              "280  891508155      t         9165          10101\n",
              "412  891320916     c1        10075          13858\n",
              "423  892275462      t        58968          14885\n",
              "430  892050108      t        15119          16380\n",
              "459  892339626      t        17004          17758\n",
              "462  891721851     c1        17277          18174\n",
              "468  891452706     c1        12597          18902\n",
              "469  892207959     c1        16380          18902\n",
              "470  892064328     c2        12597          18902\n",
              "477  891367521     c1        16081          20462\n",
              "480  891739737     c1        20163          21424\n",
              "495  892102893     c1        12610          25220\n",
              "522  892236423      t        86996          95823\n",
              "525  892333905     c1       403104         486330"
            ]
          },
          "execution_count": 176,
          "metadata": {},
          "output_type": "execute_result"
        }
      ],
      "source": [
        " # найдём на эти строки\n",
        "revenue.query(\"(total_revenue - revenue_sum) != 0\")"
      ]
    },
    {
      "cell_type": "code",
      "execution_count": null,
      "metadata": {
        "id": "EUy13eLh0_Ss",
        "outputId": "2e1ca487-8c4c-49e5-e4ff-eae74bb39c69"
      },
      "outputs": [
        {
          "data": {
            "text/html": [
              "<div>\n",
              "<style scoped>\n",
              "    .dataframe tbody tr th:only-of-type {\n",
              "        vertical-align: middle;\n",
              "    }\n",
              "\n",
              "    .dataframe tbody tr th {\n",
              "        vertical-align: top;\n",
              "    }\n",
              "\n",
              "    .dataframe thead th {\n",
              "        text-align: right;\n",
              "    }\n",
              "</style>\n",
              "<table border=\"1\" class=\"dataframe\">\n",
              "  <thead>\n",
              "    <tr style=\"text-align: right;\">\n",
              "      <th></th>\n",
              "      <th>uid</th>\n",
              "      <th>sample</th>\n",
              "      <th>revenue_sum</th>\n",
              "    </tr>\n",
              "  </thead>\n",
              "  <tbody>\n",
              "    <tr>\n",
              "      <th>0</th>\n",
              "      <td>891317289.0</td>\n",
              "      <td>c2</td>\n",
              "      <td>481.0</td>\n",
              "    </tr>\n",
              "    <tr>\n",
              "      <th>1</th>\n",
              "      <td>891777708.0</td>\n",
              "      <td>t</td>\n",
              "      <td>624.0</td>\n",
              "    </tr>\n",
              "    <tr>\n",
              "      <th>2</th>\n",
              "      <td>891653790.0</td>\n",
              "      <td>c1</td>\n",
              "      <td>728.0</td>\n",
              "    </tr>\n",
              "    <tr>\n",
              "      <th>3</th>\n",
              "      <td>891789270.0</td>\n",
              "      <td>c2</td>\n",
              "      <td>728.0</td>\n",
              "    </tr>\n",
              "    <tr>\n",
              "      <th>4</th>\n",
              "      <td>891914322.0</td>\n",
              "      <td>t</td>\n",
              "      <td>741.0</td>\n",
              "    </tr>\n",
              "    <tr>\n",
              "      <th>...</th>\n",
              "      <td>...</td>\n",
              "      <td>...</td>\n",
              "      <td>...</td>\n",
              "    </tr>\n",
              "    <tr>\n",
              "      <th>521</th>\n",
              "      <td>891778551.0</td>\n",
              "      <td>c2</td>\n",
              "      <td>81796.0</td>\n",
              "    </tr>\n",
              "    <tr>\n",
              "      <th>522</th>\n",
              "      <td>892236423.0</td>\n",
              "      <td>t</td>\n",
              "      <td>95823.0</td>\n",
              "    </tr>\n",
              "    <tr>\n",
              "      <th>523</th>\n",
              "      <td>892038759.0</td>\n",
              "      <td>t</td>\n",
              "      <td>123565.0</td>\n",
              "    </tr>\n",
              "    <tr>\n",
              "      <th>524</th>\n",
              "      <td>891178380.0</td>\n",
              "      <td>t</td>\n",
              "      <td>129870.0</td>\n",
              "    </tr>\n",
              "    <tr>\n",
              "      <th>525</th>\n",
              "      <td>892333905.0</td>\n",
              "      <td>c1</td>\n",
              "      <td>486330.0</td>\n",
              "    </tr>\n",
              "  </tbody>\n",
              "</table>\n",
              "<p>526 rows × 3 columns</p>\n",
              "</div>"
            ],
            "text/plain": [
              "             uid sample  revenue_sum\n",
              "0    891317289.0     c2        481.0\n",
              "1    891777708.0      t        624.0\n",
              "2    891653790.0     c1        728.0\n",
              "3    891789270.0     c2        728.0\n",
              "4    891914322.0      t        741.0\n",
              "..           ...    ...          ...\n",
              "521  891778551.0     c2      81796.0\n",
              "522  892236423.0      t      95823.0\n",
              "523  892038759.0      t     123565.0\n",
              "524  891178380.0      t     129870.0\n",
              "525  892333905.0     c1     486330.0\n",
              "\n",
              "[526 rows x 3 columns]"
            ]
          },
          "execution_count": 177,
          "metadata": {},
          "output_type": "execute_result"
        }
      ],
      "source": [
        " # посчитаем сумму выручки для каждого клиента\n",
        "orig_revenue_sum = orig_transactions.groupby(['uid', 'sample']).agg(revenue_sum = ('revenue', 'sum')).sort_values(by = 'revenue_sum').reset_index()\n",
        "orig_revenue_sum"
      ]
    },
    {
      "cell_type": "code",
      "execution_count": null,
      "metadata": {
        "id": "WYqh3xvj0_Ss",
        "outputId": "4a715b0d-455a-4e0a-e22b-4205f41d480d"
      },
      "outputs": [
        {
          "data": {
            "text/html": [
              "<div>\n",
              "<style scoped>\n",
              "    .dataframe tbody tr th:only-of-type {\n",
              "        vertical-align: middle;\n",
              "    }\n",
              "\n",
              "    .dataframe tbody tr th {\n",
              "        vertical-align: top;\n",
              "    }\n",
              "\n",
              "    .dataframe thead th {\n",
              "        text-align: right;\n",
              "    }\n",
              "</style>\n",
              "<table border=\"1\" class=\"dataframe\">\n",
              "  <thead>\n",
              "    <tr style=\"text-align: right;\">\n",
              "      <th></th>\n",
              "      <th>uid</th>\n",
              "      <th>sample</th>\n",
              "      <th>revenue_sum</th>\n",
              "      <th>total_revenue</th>\n",
              "    </tr>\n",
              "  </thead>\n",
              "  <tbody>\n",
              "    <tr>\n",
              "      <th>0</th>\n",
              "      <td>892355163.0</td>\n",
              "      <td>c1</td>\n",
              "      <td>30264.0</td>\n",
              "      <td>0</td>\n",
              "    </tr>\n",
              "    <tr>\n",
              "      <th>1</th>\n",
              "      <td>960936960.0</td>\n",
              "      <td>c1</td>\n",
              "      <td>806.0</td>\n",
              "      <td>26</td>\n",
              "    </tr>\n",
              "    <tr>\n",
              "      <th>2</th>\n",
              "      <td>891317289.0</td>\n",
              "      <td>c2</td>\n",
              "      <td>481.0</td>\n",
              "      <td>481</td>\n",
              "    </tr>\n",
              "    <tr>\n",
              "      <th>3</th>\n",
              "      <td>891777708.0</td>\n",
              "      <td>t</td>\n",
              "      <td>624.0</td>\n",
              "      <td>624</td>\n",
              "    </tr>\n",
              "    <tr>\n",
              "      <th>4</th>\n",
              "      <td>891789270.0</td>\n",
              "      <td>c2</td>\n",
              "      <td>728.0</td>\n",
              "      <td>728</td>\n",
              "    </tr>\n",
              "    <tr>\n",
              "      <th>...</th>\n",
              "      <td>...</td>\n",
              "      <td>...</td>\n",
              "      <td>...</td>\n",
              "      <td>...</td>\n",
              "    </tr>\n",
              "    <tr>\n",
              "      <th>521</th>\n",
              "      <td>891778551.0</td>\n",
              "      <td>c2</td>\n",
              "      <td>81796.0</td>\n",
              "      <td>81796</td>\n",
              "    </tr>\n",
              "    <tr>\n",
              "      <th>522</th>\n",
              "      <td>892236423.0</td>\n",
              "      <td>t</td>\n",
              "      <td>95823.0</td>\n",
              "      <td>95823</td>\n",
              "    </tr>\n",
              "    <tr>\n",
              "      <th>523</th>\n",
              "      <td>892038759.0</td>\n",
              "      <td>t</td>\n",
              "      <td>123565.0</td>\n",
              "      <td>123565</td>\n",
              "    </tr>\n",
              "    <tr>\n",
              "      <th>524</th>\n",
              "      <td>891178380.0</td>\n",
              "      <td>t</td>\n",
              "      <td>129870.0</td>\n",
              "      <td>129870</td>\n",
              "    </tr>\n",
              "    <tr>\n",
              "      <th>525</th>\n",
              "      <td>892333905.0</td>\n",
              "      <td>c1</td>\n",
              "      <td>486330.0</td>\n",
              "      <td>486330</td>\n",
              "    </tr>\n",
              "  </tbody>\n",
              "</table>\n",
              "<p>526 rows × 4 columns</p>\n",
              "</div>"
            ],
            "text/plain": [
              "             uid sample  revenue_sum  total_revenue\n",
              "0    892355163.0     c1      30264.0              0\n",
              "1    960936960.0     c1        806.0             26\n",
              "2    891317289.0     c2        481.0            481\n",
              "3    891777708.0      t        624.0            624\n",
              "4    891789270.0     c2        728.0            728\n",
              "..           ...    ...          ...            ...\n",
              "521  891778551.0     c2      81796.0          81796\n",
              "522  892236423.0      t      95823.0          95823\n",
              "523  892038759.0      t     123565.0         123565\n",
              "524  891178380.0      t     129870.0         129870\n",
              "525  892333905.0     c1     486330.0         486330\n",
              "\n",
              "[526 rows x 4 columns]"
            ]
          },
          "execution_count": 178,
          "metadata": {},
          "output_type": "execute_result"
        }
      ],
      "source": [
        " orig_revenue = orig_revenue_sum.merge(revenue_from_users).sort_values(by = 'total_revenue', ignore_index=True)\n",
        "orig_revenue"
      ]
    },
    {
      "cell_type": "code",
      "execution_count": null,
      "metadata": {
        "id": "kJcmfHPD0_St",
        "outputId": "0b328b37-6bde-4bbc-8dfd-2161fcbd6069"
      },
      "outputs": [
        {
          "data": {
            "text/html": [
              "<div>\n",
              "<style scoped>\n",
              "    .dataframe tbody tr th:only-of-type {\n",
              "        vertical-align: middle;\n",
              "    }\n",
              "\n",
              "    .dataframe tbody tr th {\n",
              "        vertical-align: top;\n",
              "    }\n",
              "\n",
              "    .dataframe thead th {\n",
              "        text-align: right;\n",
              "    }\n",
              "</style>\n",
              "<table border=\"1\" class=\"dataframe\">\n",
              "  <thead>\n",
              "    <tr style=\"text-align: right;\">\n",
              "      <th></th>\n",
              "      <th>uid</th>\n",
              "      <th>sample</th>\n",
              "      <th>revenue_sum</th>\n",
              "      <th>total_revenue</th>\n",
              "    </tr>\n",
              "  </thead>\n",
              "  <tbody>\n",
              "    <tr>\n",
              "      <th>0</th>\n",
              "      <td>892355163.0</td>\n",
              "      <td>c1</td>\n",
              "      <td>30264.0</td>\n",
              "      <td>0</td>\n",
              "    </tr>\n",
              "    <tr>\n",
              "      <th>1</th>\n",
              "      <td>960936960.0</td>\n",
              "      <td>c1</td>\n",
              "      <td>806.0</td>\n",
              "      <td>26</td>\n",
              "    </tr>\n",
              "    <tr>\n",
              "      <th>423</th>\n",
              "      <td>892275462.0</td>\n",
              "      <td>t</td>\n",
              "      <td>58968.0</td>\n",
              "      <td>14885</td>\n",
              "    </tr>\n",
              "  </tbody>\n",
              "</table>\n",
              "</div>"
            ],
            "text/plain": [
              "             uid sample  revenue_sum  total_revenue\n",
              "0    892355163.0     c1      30264.0              0\n",
              "1    960936960.0     c1        806.0             26\n",
              "423  892275462.0      t      58968.0          14885"
            ]
          },
          "execution_count": 179,
          "metadata": {},
          "output_type": "execute_result"
        }
      ],
      "source": [
        " orig_revenue.query(\"(total_revenue - revenue_sum) != 0\")"
      ]
    },
    {
      "cell_type": "markdown",
      "metadata": {
        "id": "QCSWu6lQ0_St"
      },
      "source": [
        "Из 23 пользователей у 20 несовпадения по суммарнму revenue связаны с удалением дубликатов из таблицы transactions. Поэтому заменим значения total_revenue из таблицы users суммами revenue из transactions."
      ]
    },
    {
      "cell_type": "code",
      "execution_count": null,
      "metadata": {
        "id": "GMrYdUHO0_St",
        "outputId": "38437ea0-ae7f-47e7-b141-a60d9f141d7e"
      },
      "outputs": [
        {
          "data": {
            "text/html": [
              "<div>\n",
              "<style scoped>\n",
              "    .dataframe tbody tr th:only-of-type {\n",
              "        vertical-align: middle;\n",
              "    }\n",
              "\n",
              "    .dataframe tbody tr th {\n",
              "        vertical-align: top;\n",
              "    }\n",
              "\n",
              "    .dataframe thead th {\n",
              "        text-align: right;\n",
              "    }\n",
              "</style>\n",
              "<table border=\"1\" class=\"dataframe\">\n",
              "  <thead>\n",
              "    <tr style=\"text-align: right;\">\n",
              "      <th></th>\n",
              "      <th>uid</th>\n",
              "      <th>sample</th>\n",
              "      <th>revenue_sum</th>\n",
              "      <th>total_revenue</th>\n",
              "      <th>country</th>\n",
              "      <th>joined_at</th>\n",
              "      <th>paid_at</th>\n",
              "      <th>revenue</th>\n",
              "      <th>payment_id</th>\n",
              "      <th>from_page</th>\n",
              "      <th>product_type</th>\n",
              "      <th>product_frequency</th>\n",
              "    </tr>\n",
              "  </thead>\n",
              "  <tbody>\n",
              "    <tr>\n",
              "      <th>0</th>\n",
              "      <td>892355163.0</td>\n",
              "      <td>c1</td>\n",
              "      <td>30264.0</td>\n",
              "      <td>0</td>\n",
              "      <td>United States of America</td>\n",
              "      <td>2017-10-15 18:45:00</td>\n",
              "      <td>2017-10-16 09:52:00</td>\n",
              "      <td>30264</td>\n",
              "      <td>68</td>\n",
              "      <td>super_popup</td>\n",
              "      <td>other_type</td>\n",
              "      <td>116</td>\n",
              "    </tr>\n",
              "    <tr>\n",
              "      <th>1</th>\n",
              "      <td>960936960.0</td>\n",
              "      <td>c1</td>\n",
              "      <td>806.0</td>\n",
              "      <td>26</td>\n",
              "      <td>Russian Federation</td>\n",
              "      <td>2015-01-19 11:49:00</td>\n",
              "      <td>2016-12-14 17:30:00</td>\n",
              "      <td>26</td>\n",
              "      <td>0</td>\n",
              "      <td>refund_VP</td>\n",
              "      <td>other_type</td>\n",
              "      <td>116</td>\n",
              "    </tr>\n",
              "    <tr>\n",
              "      <th>2</th>\n",
              "      <td>960936960.0</td>\n",
              "      <td>c1</td>\n",
              "      <td>806.0</td>\n",
              "      <td>26</td>\n",
              "      <td>Russian Federation</td>\n",
              "      <td>2015-01-19 11:49:00</td>\n",
              "      <td>2016-12-14 16:16:00</td>\n",
              "      <td>143</td>\n",
              "      <td>0</td>\n",
              "      <td>refund_WP</td>\n",
              "      <td>other_type</td>\n",
              "      <td>116</td>\n",
              "    </tr>\n",
              "    <tr>\n",
              "      <th>3</th>\n",
              "      <td>960936960.0</td>\n",
              "      <td>c1</td>\n",
              "      <td>806.0</td>\n",
              "      <td>26</td>\n",
              "      <td>Russian Federation</td>\n",
              "      <td>2015-01-19 11:49:00</td>\n",
              "      <td>2016-12-14 17:35:00</td>\n",
              "      <td>637</td>\n",
              "      <td>0</td>\n",
              "      <td>refung_AP</td>\n",
              "      <td>other_type</td>\n",
              "      <td>116</td>\n",
              "    </tr>\n",
              "    <tr>\n",
              "      <th>4</th>\n",
              "      <td>892275462.0</td>\n",
              "      <td>t</td>\n",
              "      <td>58968.0</td>\n",
              "      <td>14885</td>\n",
              "      <td>France</td>\n",
              "      <td>2017-10-17 05:56:00</td>\n",
              "      <td>2017-10-20 17:00:00</td>\n",
              "      <td>14885</td>\n",
              "      <td>68</td>\n",
              "      <td>super_popup</td>\n",
              "      <td>other_type</td>\n",
              "      <td>116</td>\n",
              "    </tr>\n",
              "    <tr>\n",
              "      <th>5</th>\n",
              "      <td>892275462.0</td>\n",
              "      <td>t</td>\n",
              "      <td>58968.0</td>\n",
              "      <td>14885</td>\n",
              "      <td>France</td>\n",
              "      <td>2017-10-17 05:56:00</td>\n",
              "      <td>2017-02-11 18:24:00</td>\n",
              "      <td>44083</td>\n",
              "      <td>19</td>\n",
              "      <td>coins_popup</td>\n",
              "      <td>other_type</td>\n",
              "      <td>116</td>\n",
              "    </tr>\n",
              "  </tbody>\n",
              "</table>\n",
              "</div>"
            ],
            "text/plain": [
              "           uid sample  revenue_sum  total_revenue                   country  \\\n",
              "0  892355163.0     c1      30264.0              0  United States of America   \n",
              "1  960936960.0     c1        806.0             26        Russian Federation   \n",
              "2  960936960.0     c1        806.0             26        Russian Federation   \n",
              "3  960936960.0     c1        806.0             26        Russian Federation   \n",
              "4  892275462.0      t      58968.0          14885                    France   \n",
              "5  892275462.0      t      58968.0          14885                    France   \n",
              "\n",
              "            joined_at             paid_at  revenue payment_id    from_page  \\\n",
              "0 2017-10-15 18:45:00 2017-10-16 09:52:00    30264         68  super_popup   \n",
              "1 2015-01-19 11:49:00 2016-12-14 17:30:00       26          0    refund_VP   \n",
              "2 2015-01-19 11:49:00 2016-12-14 16:16:00      143          0    refund_WP   \n",
              "3 2015-01-19 11:49:00 2016-12-14 17:35:00      637          0    refung_AP   \n",
              "4 2017-10-17 05:56:00 2017-10-20 17:00:00    14885         68  super_popup   \n",
              "5 2017-10-17 05:56:00 2017-02-11 18:24:00    44083         19  coins_popup   \n",
              "\n",
              "  product_type  product_frequency  \n",
              "0   other_type                116  \n",
              "1   other_type                116  \n",
              "2   other_type                116  \n",
              "3   other_type                116  \n",
              "4   other_type                116  \n",
              "5   other_type                116  "
            ]
          },
          "execution_count": 180,
          "metadata": {},
          "output_type": "execute_result"
        }
      ],
      "source": [
        "# посмотрим на транзакции\n",
        "orig_revenue.query(\"(total_revenue - revenue_sum) != 0\").merge(transactions)"
      ]
    },
    {
      "cell_type": "markdown",
      "metadata": {
        "id": "Nb_WbcA10_St"
      },
      "source": [
        " Не все транзакции учтены в total_revenue. Поэтому оставшиеся 3 значения total_revenue также заменим суммами revenue из transactions, которые уже посчитаны в таблице revenue_sum."
      ]
    },
    {
      "cell_type": "code",
      "execution_count": null,
      "metadata": {
        "id": "6IRt4PSl0_St",
        "outputId": "0dc1ef9b-5f07-4001-8b77-e2c4cf830fde"
      },
      "outputs": [
        {
          "data": {
            "text/html": [
              "<div>\n",
              "<style scoped>\n",
              "    .dataframe tbody tr th:only-of-type {\n",
              "        vertical-align: middle;\n",
              "    }\n",
              "\n",
              "    .dataframe tbody tr th {\n",
              "        vertical-align: top;\n",
              "    }\n",
              "\n",
              "    .dataframe thead th {\n",
              "        text-align: right;\n",
              "    }\n",
              "</style>\n",
              "<table border=\"1\" class=\"dataframe\">\n",
              "  <thead>\n",
              "    <tr style=\"text-align: right;\">\n",
              "      <th></th>\n",
              "      <th>uid</th>\n",
              "      <th>sample</th>\n",
              "      <th>revenue_sum</th>\n",
              "      <th>total_revenue</th>\n",
              "    </tr>\n",
              "  </thead>\n",
              "  <tbody>\n",
              "  </tbody>\n",
              "</table>\n",
              "</div>"
            ],
            "text/plain": [
              "Empty DataFrame\n",
              "Columns: [uid, sample, revenue_sum, total_revenue]\n",
              "Index: []"
            ]
          },
          "execution_count": 208,
          "metadata": {},
          "output_type": "execute_result"
        }
      ],
      "source": [
        "users = users.merge(revenue_sum, how = 'left')\n",
        "users.total_revenue = users.revenue_sum.fillna(users.total_revenue)\n",
        "revenue_from_users = users[['uid', 'total_revenue', 'sample']].sort_values(by = 'total_revenue')\n",
        "revenue = revenue_sum.merge(revenue_from_users).sort_values(by = 'total_revenue', ignore_index=True)\n",
        "revenue.query(\"(total_revenue - revenue_sum) != 0\")"
      ]
    },
    {
      "cell_type": "code",
      "execution_count": null,
      "metadata": {
        "id": "DxtudIVH0_St"
      },
      "outputs": [],
      "source": [
        "# удалим временный столбец из users\n",
        "users.drop(['revenue_sum'], axis=1, inplace=True)"
      ]
    },
    {
      "cell_type": "markdown",
      "metadata": {
        "id": "rtO0wuY60_Su"
      },
      "source": [
        "###  Посмотрим на распределение total_revenue"
      ]
    },
    {
      "cell_type": "code",
      "execution_count": null,
      "metadata": {
        "scrolled": true,
        "id": "E9x1lxMy0_Su",
        "outputId": "20532ab6-2d66-4ec3-f083-767424d5dd9b"
      },
      "outputs": [
        {
          "data": {
            "image/png": "[encoded data removed]",
            "text/plain": [
              "<Figure size 864x504 with 1 Axes>"
            ]
          },
          "metadata": {
            "needs_background": "light"
          },
          "output_type": "display_data"
        }
      ],
      "source": [
        "fig, axs = plt.subplots(1, 1, figsize=(12, 7))\n",
        "sns.histplot(data=users[users.total_revenue > 0], x=\"total_revenue\", hue=\"sample\");"
      ]
    },
    {
      "cell_type": "markdown",
      "metadata": {
        "id": "rDm7lTRz0_Su"
      },
      "source": [
        " Большинство значений total_revenue находятся ниже границы 50000."
      ]
    },
    {
      "cell_type": "code",
      "execution_count": null,
      "metadata": {
        "id": "MqbHxtD80_Su",
        "outputId": "a74f8d58-47e3-4a6f-d008-79078efeee17"
      },
      "outputs": [
        {
          "data": {
            "text/html": [
              "<div>\n",
              "<style scoped>\n",
              "    .dataframe tbody tr th:only-of-type {\n",
              "        vertical-align: middle;\n",
              "    }\n",
              "\n",
              "    .dataframe tbody tr th {\n",
              "        vertical-align: top;\n",
              "    }\n",
              "\n",
              "    .dataframe thead th {\n",
              "        text-align: right;\n",
              "    }\n",
              "</style>\n",
              "<table border=\"1\" class=\"dataframe\">\n",
              "  <thead>\n",
              "    <tr style=\"text-align: right;\">\n",
              "      <th></th>\n",
              "      <th>uid</th>\n",
              "      <th>country</th>\n",
              "      <th>total_revenue</th>\n",
              "      <th>sample</th>\n",
              "      <th>age</th>\n",
              "      <th>was_premium</th>\n",
              "      <th>is_premium</th>\n",
              "    </tr>\n",
              "  </thead>\n",
              "  <tbody>\n",
              "    <tr>\n",
              "      <th>7581</th>\n",
              "      <td>892333905</td>\n",
              "      <td>Italy</td>\n",
              "      <td>403104.0</td>\n",
              "      <td>c1</td>\n",
              "      <td>22</td>\n",
              "      <td>1</td>\n",
              "      <td>1</td>\n",
              "    </tr>\n",
              "    <tr>\n",
              "      <th>8397</th>\n",
              "      <td>891178380</td>\n",
              "      <td>Spain</td>\n",
              "      <td>129870.0</td>\n",
              "      <td>t</td>\n",
              "      <td>42</td>\n",
              "      <td>1</td>\n",
              "      <td>1</td>\n",
              "    </tr>\n",
              "    <tr>\n",
              "      <th>9556</th>\n",
              "      <td>892038759</td>\n",
              "      <td>United Arab Emirates</td>\n",
              "      <td>123565.0</td>\n",
              "      <td>t</td>\n",
              "      <td>26</td>\n",
              "      <td>1</td>\n",
              "      <td>1</td>\n",
              "    </tr>\n",
              "    <tr>\n",
              "      <th>4168</th>\n",
              "      <td>892236423</td>\n",
              "      <td>United States of America</td>\n",
              "      <td>86996.0</td>\n",
              "      <td>t</td>\n",
              "      <td>23</td>\n",
              "      <td>1</td>\n",
              "      <td>1</td>\n",
              "    </tr>\n",
              "    <tr>\n",
              "      <th>9608</th>\n",
              "      <td>891778551</td>\n",
              "      <td>United Arab Emirates</td>\n",
              "      <td>81796.0</td>\n",
              "      <td>c2</td>\n",
              "      <td>30</td>\n",
              "      <td>1</td>\n",
              "      <td>1</td>\n",
              "    </tr>\n",
              "    <tr>\n",
              "      <th>5125</th>\n",
              "      <td>891346269</td>\n",
              "      <td>Argentina</td>\n",
              "      <td>75647.0</td>\n",
              "      <td>t</td>\n",
              "      <td>34</td>\n",
              "      <td>1</td>\n",
              "      <td>1</td>\n",
              "    </tr>\n",
              "    <tr>\n",
              "      <th>8088</th>\n",
              "      <td>892307238</td>\n",
              "      <td>Spain</td>\n",
              "      <td>75647.0</td>\n",
              "      <td>c2</td>\n",
              "      <td>29</td>\n",
              "      <td>1</td>\n",
              "      <td>1</td>\n",
              "    </tr>\n",
              "    <tr>\n",
              "      <th>25</th>\n",
              "      <td>892216461</td>\n",
              "      <td>United States of America</td>\n",
              "      <td>64298.0</td>\n",
              "      <td>c1</td>\n",
              "      <td>19</td>\n",
              "      <td>1</td>\n",
              "      <td>1</td>\n",
              "    </tr>\n",
              "    <tr>\n",
              "      <th>12819</th>\n",
              "      <td>891383310</td>\n",
              "      <td>Turkey</td>\n",
              "      <td>63037.0</td>\n",
              "      <td>c1</td>\n",
              "      <td>22</td>\n",
              "      <td>1</td>\n",
              "      <td>1</td>\n",
              "    </tr>\n",
              "    <tr>\n",
              "      <th>10722</th>\n",
              "      <td>892366260</td>\n",
              "      <td>United Kingdom (Great Britain)</td>\n",
              "      <td>63024.0</td>\n",
              "      <td>c1</td>\n",
              "      <td>26</td>\n",
              "      <td>1</td>\n",
              "      <td>1</td>\n",
              "    </tr>\n",
              "    <tr>\n",
              "      <th>4762</th>\n",
              "      <td>892150854</td>\n",
              "      <td>Argentina</td>\n",
              "      <td>61789.0</td>\n",
              "      <td>t</td>\n",
              "      <td>38</td>\n",
              "      <td>1</td>\n",
              "      <td>1</td>\n",
              "    </tr>\n",
              "    <tr>\n",
              "      <th>1543</th>\n",
              "      <td>892421277</td>\n",
              "      <td>United States of America</td>\n",
              "      <td>60333.0</td>\n",
              "      <td>c1</td>\n",
              "      <td>22</td>\n",
              "      <td>1</td>\n",
              "      <td>1</td>\n",
              "    </tr>\n",
              "    <tr>\n",
              "      <th>10703</th>\n",
              "      <td>892069554</td>\n",
              "      <td>United Kingdom (Great Britain)</td>\n",
              "      <td>59267.0</td>\n",
              "      <td>c1</td>\n",
              "      <td>47</td>\n",
              "      <td>0</td>\n",
              "      <td>0</td>\n",
              "    </tr>\n",
              "    <tr>\n",
              "      <th>5795</th>\n",
              "      <td>892275462</td>\n",
              "      <td>France</td>\n",
              "      <td>58968.0</td>\n",
              "      <td>t</td>\n",
              "      <td>31</td>\n",
              "      <td>1</td>\n",
              "      <td>1</td>\n",
              "    </tr>\n",
              "  </tbody>\n",
              "</table>\n",
              "</div>"
            ],
            "text/plain": [
              "             uid                         country  total_revenue sample  age  \\\n",
              "7581   892333905                           Italy       403104.0     c1   22   \n",
              "8397   891178380                           Spain       129870.0      t   42   \n",
              "9556   892038759            United Arab Emirates       123565.0      t   26   \n",
              "4168   892236423        United States of America        86996.0      t   23   \n",
              "9608   891778551            United Arab Emirates        81796.0     c2   30   \n",
              "5125   891346269                       Argentina        75647.0      t   34   \n",
              "8088   892307238                           Spain        75647.0     c2   29   \n",
              "25     892216461        United States of America        64298.0     c1   19   \n",
              "12819  891383310                          Turkey        63037.0     c1   22   \n",
              "10722  892366260  United Kingdom (Great Britain)        63024.0     c1   26   \n",
              "4762   892150854                       Argentina        61789.0      t   38   \n",
              "1543   892421277        United States of America        60333.0     c1   22   \n",
              "10703  892069554  United Kingdom (Great Britain)        59267.0     c1   47   \n",
              "5795   892275462                          France        58968.0      t   31   \n",
              "\n",
              "       was_premium  is_premium  \n",
              "7581             1           1  \n",
              "8397             1           1  \n",
              "9556             1           1  \n",
              "4168             1           1  \n",
              "9608             1           1  \n",
              "5125             1           1  \n",
              "8088             1           1  \n",
              "25               1           1  \n",
              "12819            1           1  \n",
              "10722            1           1  \n",
              "4762             1           1  \n",
              "1543             1           1  \n",
              "10703            0           0  \n",
              "5795             1           1  "
            ]
          },
          "execution_count": 185,
          "metadata": {},
          "output_type": "execute_result"
        }
      ],
      "source": [
        "users[users.total_revenue > 50000][['uid', 'country', 'total_revenue', 'sample', 'age', 'was_premium', 'is_premium']] \\\n",
        "    .sort_values(by = 'total_revenue', ascending = False)"
      ]
    },
    {
      "cell_type": "markdown",
      "metadata": {
        "id": "ogd68QqB0_Su"
      },
      "source": [
        "В выборке **control_1** зафиксировано аномально высокое значение `total_revenue` — **403104**, что существенно превышает типичные значения для контрольных групп.\n",
        "\n",
        "Кроме того, именно в этой выборке присутствуют пользователи, зарегистрированные в **2015 году**, что противоречит условию эксперимента о новых пользователях.\n",
        "\n",
        "В связи с этим, чтобы избежать потенциального искажения результатов при сравнении с тестовой группой, более целесообразно использовать **группу `control_2`**, в которой подобных аномалий не обнаружено.\n"
      ]
    },
    {
      "cell_type": "markdown",
      "metadata": {
        "id": "P8d4uxQf0_Su"
      },
      "source": [
        "###  Посмотрим, как ошибки в данных влияют на метрику ARPU"
      ]
    },
    {
      "cell_type": "code",
      "execution_count": null,
      "metadata": {
        "id": "k7iF1XT70_Su",
        "outputId": "8ef7f225-ee8f-4212-9290-9589f7dafe50"
      },
      "outputs": [
        {
          "data": {
            "text/plain": [
              "sample\n",
              "c2    313.440332\n",
              "t     336.404310\n",
              "Name: total_revenue, dtype: float64"
            ]
          },
          "execution_count": 209,
          "metadata": {},
          "output_type": "execute_result"
        }
      ],
      "source": [
        "# создаём пандасовские серии uid c ошибками в joined_at и paid_at\n",
        "err_uid_1 = transactions.groupby(['uid', 'paid_at']) \\\n",
        "    .agg(count = ('from_page', 'count'), page_nunique = ('from_page', 'nunique')) \\\n",
        "    .sort_values(by = 'page_nunique', ascending = False) \\\n",
        "    .query(\"count > 1\") \\\n",
        "    .reset_index()['uid']\n",
        "err_uid_2 = transactions.query(\"paid_at - joined_at < '0 days 00:00:00'\").reset_index(drop=True)['uid']\n",
        " # создаём общий список удаляемых uid\n",
        "err_uid_list = pd.concat([err_uid_1, err_uid_2]).unique()\n",
        " # создаём датафрейм crop_users, в котором удалены uid с ошибками\n",
        "crop_users = users[~users['uid'].isin(err_uid_list)]\n",
        " # ARPU в кропнутом датафрейме\n",
        "crop_users.groupby(['sample'])['total_revenue'].mean()[1:]"
      ]
    },
    {
      "cell_type": "code",
      "execution_count": null,
      "metadata": {
        "id": "8XJLc8KU0_Sv",
        "outputId": "ada50e45-b32f-4974-aeef-9827b3ab3785"
      },
      "outputs": [
        {
          "data": {
            "text/plain": [
              "sample\n",
              "c2    450.384146\n",
              "t     534.080316\n",
              "Name: total_revenue, dtype: float64"
            ]
          },
          "execution_count": 188,
          "metadata": {},
          "output_type": "execute_result"
        }
      ],
      "source": [
        " # ARPU в исходном датафрейме\n",
        "orig_users.groupby(['sample'])['total_revenue'].mean()[1:]"
      ]
    },
    {
      "cell_type": "markdown",
      "metadata": {
        "id": "9avQNADS0_Sv"
      },
      "source": [
        "## Влияние ошибок в данных на ARPU\n",
        "\n",
        "Анализ показал, что ошибки в данных могут привести к искажению показателя ARPU на **31%** в контрольной группе и на **37%** в тестовой.  \n",
        "\n",
        "Проверим, являются ли эти различия **статистически значимыми**.\n",
        "\n",
        "Для сравнения средних значений ARPU между датафреймами `crop_users` и `orig_users` (с разбивкой по выборкам) был использован **t-тест**, так как он позволяет оценить различия между средними значениями.\n",
        "\n",
        "Дополнительно был проведён **тест Левена** для проверки гипотезы о равенстве дисперсий. Результат теста Левена использовался для установки параметра `equal_var` в функции `ttest_ind`.\n",
        "\n",
        "### Гипотезы:\n",
        "\n",
        "- **Нулевая гипотеза (H₀):** различий между выборками нет.\n",
        "- **Альтернативная гипотеза (H₁):** различия есть.\n",
        "- **Уровень значимости:** 0,05\n"
      ]
    },
    {
      "cell_type": "code",
      "execution_count": null,
      "metadata": {
        "id": "CxrcCwCA0_Sv",
        "outputId": "a29659b1-7d46-42f6-97af-28c633460a77"
      },
      "outputs": [
        {
          "name": "stdout",
          "output_type": "stream",
          "text": [
            "p-value = 0.01635949010815069 \n",
            "equal_var = False\n"
          ]
        }
      ],
      "source": [
        "# сравним данные по тестовым выборкам\n",
        "crop_test = crop_users.query(\"sample == 't'\")['total_revenue']\n",
        "orig_test = orig_users.query(\"sample == 't'\")['total_revenue']\n",
        "equal_var = st.levene(crop_test, orig_test)[1] > 0.05\n",
        "print('p-value =', st.ttest_ind(crop_test, orig_test, equal_var = equal_var)[1], '\\nequal_var =', equal_var)\n",
        "\n"
      ]
    },
    {
      "cell_type": "code",
      "execution_count": null,
      "metadata": {
        "id": "LkXoo7BF0_Sv",
        "outputId": "58ad12a9-604e-40a2-ac09-d0866adaf35a"
      },
      "outputs": [
        {
          "name": "stdout",
          "output_type": "stream",
          "text": [
            "p-value = 0.01764830786341694 \n",
            "equal_var = False\n"
          ]
        }
      ],
      "source": [
        " # сравним данные по выборкам control_2\n",
        "crop_control_2 = crop_users.query(\"sample == 'c2'\")['total_revenue']\n",
        "orig_control_2 = orig_users.query(\"sample == 'c2'\")['total_revenue']\n",
        "equal_var = st.levene(crop_control_2, orig_control_2)[1] > 0.05\n",
        "print('p-value =', st.ttest_ind(crop_control_2, orig_control_2, equal_var = equal_var)[1], '\\nequal_var =', equal_var)"
      ]
    },
    {
      "cell_type": "markdown",
      "metadata": {
        "id": "OM1ZUtWK0_Sv"
      },
      "source": [
        "## Оценка влияния ошибок на ARPU\n",
        "\n",
        "Параметр `equal_var = False` как для контрольной, так и для тестовой выборки указывает на наличие **статистически значимых различий в дисперсиях** `total_revenue` между `crop_users` и `orig_users` по результатам теста Левена.\n",
        "\n",
        "Поскольку **p-value < 0.05** в обеих группах, нулевая гипотеза отклоняется. Это означает, что **ошибки в данных могут приводить к статистически значимому искажению метрики ARPU**, которая является основной метрикой эксперимента.\n",
        "\n",
        "\n",
        "\n",
        "## 2. Выводы по результатам EDA\n",
        "\n",
        "Целью этапа EDA являлась **предобработка данных и оценка их пригодности** для анализа результатов эксперимента.\n",
        "\n",
        "### Обработка пропусков и дубликатов:\n",
        "- В таблице `users` в колонках `coins`, `visit_days`, `was_premium` и `is_premium` обнаружены пропущенные значения — заменены на **нули**.\n",
        "- В таблице `transactions` выявлено **630 строк без информации** — удалены.\n",
        "- Обнаружено и удалено **33 дубликата** в `transactions`.\n",
        "\n",
        "### Аномалии в датах:\n",
        "- В `transactions` выявлены **противоречия между `joined_at` и `paid_at`**:\n",
        "  - 80 строк с **одновременными транзакциями** у одного пользователя.\n",
        "  - 163 строки, где **дата оплаты раньше даты регистрации**.\n",
        "  - 3 строки с **датой регистрации в 2015 году**.\n",
        "- Решено **не удалять** эти записи, поскольку причина неизвестна, а удаление может повлиять на метрики.\n",
        "\n",
        "### Проблемы с выручкой:\n",
        "- Обнаружены **23 случая расхождения** между суммой `revenue` в `transactions` и `total_revenue` в `users`. Значения `total_revenue` были пересчитаны.\n",
        "\n",
        "### Другие проблемы:\n",
        "- Поле `payment_id` **не является уникальным**, как заявлено. Из-за невозможности однозначной интерпретации **исключено из дальнейшего анализа**.\n",
        "- Проверена **однородность распределения пользователей** по полу, возрасту, региону и другим признакам между группами.\n",
        "- В `control_1` обнаружено **аномально высокое значение** `total_revenue = 403104`.\n",
        "- Выявлена **неоднородность по `from_page`** между `test` и `control_2`.\n",
        "- Возможное **ошибочное удаление 33 дубликатов**: из-за отсутствия уникального `payment_id` и наличия одновременных транзакций.\n",
        "\n",
        "### Влияние на метрики:\n",
        "- Выявленные ошибки могут искажать ARPU на **31% в контрольной** и **37% в тестовой** выборках.\n",
        "\n",
        "**Вывод:** данные условно пригодны для анализа. Для продолжения требуется допущение, что **низкое качество данных не приводит к искажению результатов**.\n",
        "\n",
        "\n",
        "\n",
        "## 3. Выбор метрик\n",
        "\n",
        "Поскольку цель бизнеса — **увеличение выручки**, ключевые метрики связаны с монетизацией премиум-подписки.\n",
        "\n",
        "### 3.1 Основная метрика:\n",
        "- **ARPU** (Average Revenue Per User) — средняя выручка на пользователя.  \n",
        "  Показывает, увеличился ли доход в тестовой группе по сравнению с контрольной.  \n",
        "  Используется для оценки **успешности эксперимента**.\n",
        "\n",
        "### 3.2 Дополнительные метрики:\n",
        "- **ARPPU** (Average Revenue Per Paying User) — средняя выручка на платящего пользователя.\n",
        "- **Конверсия в `premium_no_trial`** — доля пользователей, оформивших премиум без пробного периода.\n",
        "- **Общая конверсия в премиум** — с учётом как пробного, так и платного периода.\n",
        "\n",
        "---\n",
        "\n",
        "## 4. Проверка корректности сплитования\n",
        "\n",
        "Во время EDA была проведена **оценка однородности распределения** пользователей по различным признакам: регион, возраст, пол, коэффициент привлекательности и др.\n",
        "\n",
        "- Использовались статистические тесты:\n",
        "  - **Хи-квадрат** — для категориальных признаков.\n",
        "  - **Критерий Манна–Уитни** — для числовых признаков.\n",
        "\n",
        "**Ни один из тестов не выявил статистически значимых различий (p > 0.05)** — это свидетельствует о корректной работе механизма сплитования.\n",
        "\n",
        "\n",
        "\n",
        "## 5. Анализ результатов A/B-теста\n",
        "\n",
        "Для анализа результатов эксперимента сравниваются выборки:\n",
        "\n",
        "- **Test**\n",
        "- **Control_2** (вместо `control_1`, чтобы избежать влияния аномалий)\n"
      ]
    },
    {
      "cell_type": "markdown",
      "metadata": {
        "id": "7dn3wwZB0_Sw"
      },
      "source": [
        "###  ARPU и ARPPU"
      ]
    },
    {
      "cell_type": "code",
      "execution_count": null,
      "metadata": {
        "id": "cNxlpZmf0_Sw",
        "outputId": "9a5478dd-c38a-450f-af88-d95fbb4dd0fc"
      },
      "outputs": [
        {
          "data": {
            "text/plain": [
              "sample\n",
              "c2    447.466463\n",
              "t     541.370938\n",
              "Name: total_revenue, dtype: float64"
            ]
          },
          "execution_count": 191,
          "metadata": {},
          "output_type": "execute_result"
        }
      ],
      "source": [
        "# расчитаем ARPU для выборок, то есть найдём среднее значение total_revenue\n",
        "users.groupby(['sample'])['total_revenue'].mean()[1:]"
      ]
    },
    {
      "cell_type": "markdown",
      "metadata": {
        "id": "LpzXLoh20_Sw"
      },
      "source": [
        "## Сравнение ARPU между тестовой и контрольной группами\n",
        "\n",
        "Значение **ARPU в тестовой выборке оказалось выше на 21%** по сравнению с контрольной группой.\n",
        "\n",
        "Для проверки статистической значимости этого различия был применён **t-тест**, поскольку он позволяет сравнивать средние значения между двумя независимыми выборками.\n",
        "\n",
        "Несмотря на то, что распределения могут отклоняться от нормального, **достаточный размер выборок** позволяет опираться на **центральную предельную теорему**, согласно которой распределение средних значений приближается к нормальному.\n",
        "\n",
        "Для оценки равенства дисперсий между тестовой и контрольной группами использовался **тест Левена** (уровень значимости 0,05). Его результат был передан в параметр `equal_var` функции `ttest_ind`.\n",
        "\n",
        "### Гипотезы:\n",
        "\n",
        "- **Нулевая гипотеза (H₀):** различий в ARPU между группами нет.\n",
        "- **Альтернативная гипотеза (H₁):** различия в ARPU присутствуют.\n",
        "- **Уровень значимости:** 0,05\n"
      ]
    },
    {
      "cell_type": "code",
      "execution_count": null,
      "metadata": {
        "id": "DEyIvwV20_Sw",
        "outputId": "2024cb6c-977b-410d-923e-b88f4d684e3b"
      },
      "outputs": [
        {
          "name": "stdout",
          "output_type": "stream",
          "text": [
            "p-value = 0.24226293606710184 \n",
            "equal_var = True\n"
          ]
        }
      ],
      "source": [
        "equal_var = st.levene(users.query(\"(sample == 't')\")['total_revenue'], users.query(\"(sample == 'c2')\")['total_revenue'])[1] > 0.05\n",
        "c = users.query(\"sample == 'c2'\")['total_revenue']\n",
        "t = users.query(\"sample == 't'\")['total_revenue']\n",
        "print('p-value =', st.ttest_ind(c, t, equal_var = equal_var)[1], '\\nequal_var =', equal_var)"
      ]
    },
    {
      "cell_type": "markdown",
      "metadata": {
        "id": "lHDjhNFH0_Sw"
      },
      "source": [
        "## Результаты сравнения ARPU\n",
        "\n",
        "Результаты t-теста показали **p-value = 0.2423**.  \n",
        "Параметр `equal_var = True` указывает на **отсутствие статистически значимых различий в дисперсиях** между тестовой и контрольной группами по результатам теста Левена.\n",
        "\n",
        "Так как p-value превышает установленный уровень значимости 0.05, мы **не можем отклонить нулевую гипотезу**.  \n",
        "Это означает, что несмотря на то, что **ARPU в тестовой группе выше на 21%**, это отличие **не является статистически значимым** и может быть связано со случайными колебаниями в данных.\n"
      ]
    },
    {
      "cell_type": "code",
      "execution_count": null,
      "metadata": {
        "id": "SZmcmqjF0_Sw",
        "outputId": "fe4a2479-6151-4cc9-e52d-478d9504f4e4"
      },
      "outputs": [
        {
          "data": {
            "text/plain": [
              "sample\n",
              "c2    10203.192513\n",
              "t     15974.150685\n",
              "Name: total_revenue, dtype: float64"
            ]
          },
          "execution_count": 193,
          "metadata": {},
          "output_type": "execute_result"
        }
      ],
      "source": [
        "# расчитаем ARPPU для выборок, то есть найдём среднее значение для всех total_revenue > 0\n",
        "users.query(\"total_revenue > 0\").groupby(['sample'])['total_revenue'].mean()[1:]"
      ]
    },
    {
      "cell_type": "markdown",
      "metadata": {
        "id": "iDA_O5MI0_Sx"
      },
      "source": [
        "## Сравнение ARPPU между тестовой и контрольной группами\n",
        "\n",
        "Значение **ARPPU в тестовой выборке на 57% выше**, чем в контрольной.\n",
        "\n",
        "Для оценки статистической значимости различий был применён **t-тест**, поскольку он предназначен для сравнения средних значений между двумя независимыми выборками.\n",
        "\n",
        "Хотя распределения ARPPU в выборках **не являются нормальными**, их объёмы достаточно велики, чтобы предполагать приближение распределения выборочных средних к нормальному согласно **центральной предельной теореме**.\n",
        "\n",
        "Для проверки гипотезы о равенстве дисперсий использовался **тест Левена** с уровнем значимости 0.05. Результат теста передавался в параметр `equal_var` функции `ttest_ind`.\n",
        "\n",
        "### Гипотезы:\n",
        "\n",
        "- **Нулевая гипотеза (H₀):** средние значения ARPPU в группах не различаются.\n",
        "- **Альтернативная гипотеза (H₁):** средние значения ARPPU различаются.\n",
        "- **Уровень значимости:** 0.05\n"
      ]
    },
    {
      "cell_type": "code",
      "execution_count": null,
      "metadata": {
        "id": "ffYSDfJD0_Sx",
        "outputId": "6430612f-01f3-4c42-8042-5ef23cfb63fa"
      },
      "outputs": [
        {
          "name": "stdout",
          "output_type": "stream",
          "text": [
            "p-value = 0.0005720246264184832 \n",
            "equal_var = False\n"
          ]
        }
      ],
      "source": [
        "c = users.query(\"(sample == 'c2') and (total_revenue > 0)\")['total_revenue']\n",
        "t = users.query(\"(sample == 't') and (total_revenue > 0)\")['total_revenue']\n",
        "equal_var = st.levene(c, t)[1] > 0.05\n",
        "print('p-value =', st.ttest_ind(c, t, equal_var = equal_var)[1], '\\nequal_var =', equal_var)"
      ]
    },
    {
      "cell_type": "markdown",
      "metadata": {
        "id": "pENejoud0_Sx"
      },
      "source": [
        "## Результаты сравнения ARPPU\n",
        "\n",
        "Результаты t-теста показали **p-value = 0.0006**.  \n",
        "Параметр `equal_var = False` указывает на наличие **статистически значимых различий в дисперсиях** между тестовой и контрольной группами (по результатам теста Левена).\n",
        "\n",
        "Поскольку p-value меньше уровня значимости 0.05, **нулевая гипотеза отклоняется**.  \n",
        "Это свидетельствует о наличии **статистически значимых различий в ARPPU** между тестовой и контрольной выборками.\n",
        "\n",
        "Таким образом, разница в ARPPU на 57% между группами **не случайна** и может быть интерпретирована как результат воздействия изменений в эксперименте.\n"
      ]
    },
    {
      "cell_type": "markdown",
      "metadata": {
        "id": "qVfqaVI70_Sx"
      },
      "source": [
        " ###  Конверсия в premium_no_trial"
      ]
    },
    {
      "cell_type": "code",
      "execution_count": null,
      "metadata": {
        "id": "fmvw62820_Sx",
        "outputId": "1d8e4c76-3795-4e36-c6dc-c12d878e5059"
      },
      "outputs": [
        {
          "data": {
            "text/html": [
              "<div>\n",
              "<style scoped>\n",
              "    .dataframe tbody tr th:only-of-type {\n",
              "        vertical-align: middle;\n",
              "    }\n",
              "\n",
              "    .dataframe tbody tr th {\n",
              "        vertical-align: top;\n",
              "    }\n",
              "\n",
              "    .dataframe thead th {\n",
              "        text-align: right;\n",
              "    }\n",
              "</style>\n",
              "<table border=\"1\" class=\"dataframe\">\n",
              "  <thead>\n",
              "    <tr style=\"text-align: right;\">\n",
              "      <th></th>\n",
              "      <th>premium_no_trial</th>\n",
              "      <th>all</th>\n",
              "    </tr>\n",
              "    <tr>\n",
              "      <th>sample</th>\n",
              "      <th></th>\n",
              "      <th></th>\n",
              "    </tr>\n",
              "  </thead>\n",
              "  <tbody>\n",
              "    <tr>\n",
              "      <th>c2</th>\n",
              "      <td>102.0</td>\n",
              "      <td>4264</td>\n",
              "    </tr>\n",
              "    <tr>\n",
              "      <th>t</th>\n",
              "      <td>67.0</td>\n",
              "      <td>4308</td>\n",
              "    </tr>\n",
              "  </tbody>\n",
              "</table>\n",
              "</div>"
            ],
            "text/plain": [
              "        premium_no_trial   all\n",
              "sample                        \n",
              "c2                 102.0  4264\n",
              "t                   67.0  4308"
            ]
          },
          "execution_count": 195,
          "metadata": {},
          "output_type": "execute_result"
        }
      ],
      "source": [
        "# по данным transactions создадим новую колонку признаков premium_no_trial и добавим её в таблицу users\n",
        "premium_no_trial = \\\n",
        "transactions[transactions.product_type == 'premium_no_trial'].groupby('uid') \\\n",
        "    .agg(lambda x: 1) \\\n",
        "    .reset_index() \\\n",
        "    [['uid', 'country']] \\\n",
        "    .rename(columns = {'country': 'premium_no_trial'})\n",
        "users = users.merge(premium_no_trial, how = 'left')\n",
        "users['premium_no_trial'].fillna(0, inplace = True)\n",
        "# число пользователей premium_no_trial и число всех пользователей в выборках\n",
        "cr_premium_no_trial = users.groupby(['sample']).agg(premium_no_trial = ('premium_no_trial', 'sum'), all = ('premium_no_trial', 'count'))[1:]\n",
        "cr_premium_no_trial"
      ]
    },
    {
      "cell_type": "code",
      "execution_count": null,
      "metadata": {
        "id": "D5Kow5h20_Sx",
        "outputId": "2e2b5322-3855-4593-f620-e783a2178275"
      },
      "outputs": [
        {
          "data": {
            "text/plain": [
              "sample\n",
              "c2    2.392120\n",
              "t     1.555246\n",
              "dtype: float64"
            ]
          },
          "execution_count": 196,
          "metadata": {},
          "output_type": "execute_result"
        }
      ],
      "source": [
        "# конверсия в premium_no_trial\n",
        "cr_premium_no_trial['premium_no_trial'] / cr_premium_no_trial['all'] * 100"
      ]
    },
    {
      "cell_type": "markdown",
      "metadata": {
        "id": "hD8cRlAV0_Sy"
      },
      "source": [
        "## Сравнение конверсии в `premium_no_trial`\n",
        "\n",
        "Значение конверсии в `premium_no_trial` в **контрольной выборке на 54% выше**, чем в тестовой группе.\n",
        "\n",
        "Для проверки статистической значимости различий между группами применён **Z-тест для пропорций**.  \n",
        "Выбор Z-теста обоснован тем, что **размеры выборок и значения конверсий достаточно велики**, чтобы использовать **нормальную аппроксимацию**.\n",
        "\n",
        "### Гипотезы:\n",
        "\n",
        "- **Нулевая гипотеза (H₀):** различий в конверсии в `premium_no_trial` между группами нет.\n",
        "- **Альтернативная гипотеза (H₁):** различия в конверсии присутствуют.\n",
        "- **Уровень значимости:** 0.05\n"
      ]
    },
    {
      "cell_type": "code",
      "execution_count": null,
      "metadata": {
        "id": "wkl9ymd_0_Sy",
        "outputId": "94b1fe36-2287-4868-8361-c90ee8349f95"
      },
      "outputs": [
        {
          "name": "stdout",
          "output_type": "stream",
          "text": [
            "p-value = 0.005325105786331221\n"
          ]
        }
      ],
      "source": [
        "premium_no_trial_count = users.groupby(['sample']).premium_no_trial.sum()[1:]\n",
        "all_count = users.groupby(['sample']).premium_no_trial.count()[1:]\n",
        "print('p-value =', smp.proportions_ztest(premium_no_trial_count, all_count)[1])"
      ]
    },
    {
      "cell_type": "markdown",
      "metadata": {
        "id": "x8HgL83U0_Sy"
      },
      "source": [
        "## Результаты сравнения конверсии в `premium_no_trial`\n",
        "\n",
        "Результаты Z-теста для пропорций показали **p-value = 0.0053**.  \n",
        "Так как p-value меньше уровня значимости 0.05, **нулевая гипотеза отклоняется**.\n",
        "\n",
        "Это означает, что **конверсия в `premium_no_trial` в тестовой выборке статистически значимо ниже**, чем в контрольной — снижение составило **54%**.\n",
        "\n",
        "➡️ Таким образом, эксперимент **оказал негативное влияние на конверсию платной подписки без пробного периода**, и это влияние статистически подтверждено.\n"
      ]
    },
    {
      "cell_type": "code",
      "execution_count": null,
      "metadata": {
        "id": "zc2TzWyo0_Sy"
      },
      "outputs": [],
      "source": [
        "# удалим временные столбцы\n",
        "users.drop(['premium_no_trial'], axis=1, inplace=True)"
      ]
    },
    {
      "cell_type": "markdown",
      "metadata": {
        "id": "n5vzHkbe0_Sy"
      },
      "source": [
        "###  Премиум конверсия"
      ]
    },
    {
      "cell_type": "code",
      "execution_count": null,
      "metadata": {
        "id": "HxF1nsbz0_Sz",
        "outputId": "b1c3c961-7863-453e-e211-a9fc0cb07c6e"
      },
      "outputs": [
        {
          "data": {
            "text/html": [
              "<div>\n",
              "<style scoped>\n",
              "    .dataframe tbody tr th:only-of-type {\n",
              "        vertical-align: middle;\n",
              "    }\n",
              "\n",
              "    .dataframe tbody tr th {\n",
              "        vertical-align: top;\n",
              "    }\n",
              "\n",
              "    .dataframe thead th {\n",
              "        text-align: right;\n",
              "    }\n",
              "</style>\n",
              "<table border=\"1\" class=\"dataframe\">\n",
              "  <thead>\n",
              "    <tr style=\"text-align: right;\">\n",
              "      <th></th>\n",
              "      <th>premium</th>\n",
              "      <th>all</th>\n",
              "    </tr>\n",
              "    <tr>\n",
              "      <th>sample</th>\n",
              "      <th></th>\n",
              "      <th></th>\n",
              "    </tr>\n",
              "  </thead>\n",
              "  <tbody>\n",
              "    <tr>\n",
              "      <th>c2</th>\n",
              "      <td>155.0</td>\n",
              "      <td>4264</td>\n",
              "    </tr>\n",
              "    <tr>\n",
              "      <th>t</th>\n",
              "      <td>127.0</td>\n",
              "      <td>4308</td>\n",
              "    </tr>\n",
              "  </tbody>\n",
              "</table>\n",
              "</div>"
            ],
            "text/plain": [
              "        premium   all\n",
              "sample               \n",
              "c2        155.0  4264\n",
              "t         127.0  4308"
            ]
          },
          "execution_count": 199,
          "metadata": {},
          "output_type": "execute_result"
        }
      ],
      "source": [
        "# по данным transactions создадим новую колонку признаков premium и добавим её в таблицу users\n",
        "premium = \\\n",
        "transactions.query(\"product_type in ['trial_premium', 'premium_no_trial']\").groupby('uid') \\\n",
        "    .agg(lambda x: 1) \\\n",
        "    .reset_index() \\\n",
        "    [['uid', 'country']] \\\n",
        "    .rename(columns = {'country': 'premium'})\n",
        "users = users.merge(premium, how = 'left')\n",
        "users['premium'].fillna(0, inplace = True)\n",
        "# число пользователей premium и число всех пользователей в выборках\n",
        "cr_premium = users.groupby(['sample']).agg(premium = ('premium', 'sum'), all = ('premium', 'count'))[1:]\n",
        "cr_premium"
      ]
    },
    {
      "cell_type": "code",
      "execution_count": null,
      "metadata": {
        "id": "meYV4VLF0_Sz",
        "outputId": "0fa68771-eb45-4f7a-9f37-5e1c1a8cdc33"
      },
      "outputs": [
        {
          "data": {
            "text/plain": [
              "sample\n",
              "c2    3.635084\n",
              "t     2.948004\n",
              "dtype: float64"
            ]
          },
          "execution_count": 200,
          "metadata": {},
          "output_type": "execute_result"
        }
      ],
      "source": [
        "# конверсия в premium\n",
        "cr_premium['premium'] / cr_premium['all'] * 100"
      ]
    },
    {
      "cell_type": "markdown",
      "metadata": {
        "id": "TKopMz8U0_Sz"
      },
      "source": [
        "## Сравнение общей конверсии в `premium`\n",
        "\n",
        "Конверсия в `premium` (включая и пробную, и платную подписки) в **контрольной выборке на 23% выше**, чем в тестовой.\n",
        "\n",
        "Для оценки статистической значимости различий применён **Z-тест для пропорций**.  \n",
        "Выбор этого теста обоснован тем, что **размеры выборок и значения конверсий** позволяют использовать **нормальную аппроксимацию**.\n",
        "\n",
        "### Гипотезы:\n",
        "\n",
        "- **Нулевая гипотеза (H₀):** различий в общей конверсии в `premium` между группами нет.\n",
        "- **Альтернативная гипотеза (H₁):** различия в конверсии присутствуют.\n",
        "- **Уровень значимости:** 0.05\n"
      ]
    },
    {
      "cell_type": "code",
      "execution_count": null,
      "metadata": {
        "id": "063yQ32-0_Sz",
        "outputId": "8f380b8d-b736-4382-aa0c-c64e50ddc9c8"
      },
      "outputs": [
        {
          "name": "stdout",
          "output_type": "stream",
          "text": [
            "p-value = 0.07455815581024947\n"
          ]
        }
      ],
      "source": [
        " premium_count = users.groupby(['sample']).premium.sum()[1:]\n",
        "all_count = users.groupby(['sample']).premium.count()[1:]\n",
        "print('p-value =', smp.proportions_ztest(premium_count, all_count)[1])"
      ]
    },
    {
      "cell_type": "markdown",
      "metadata": {
        "id": "xBiFOkHp0_Sz"
      },
      "source": [
        "## Результаты Z-теста по конверсии в `premium`\n",
        "\n",
        "Результаты Z-теста для пропорций показали **p-value = 0.0746**.  \n",
        "Поскольку значение p-value превышает уровень значимости 0.05, **нулевая гипотеза не отклоняется**.\n",
        "\n",
        "Это означает, что несмотря на то, что **конверсия в `premium` в контрольной группе была на 23% выше**, это различие **не является статистически значимым**.\n",
        "\n",
        "\n",
        "\n",
        "## Финальные выводы\n",
        "\n",
        "### Качество данных\n",
        "\n",
        "Данные, собранные для эксперимента, имеют **серьёзные проблемы с качеством**, включая:\n",
        "- ошибки и дубликаты,\n",
        "- противоречивые даты регистрации и оплаты,\n",
        "- неуникальные идентификаторы платежей,\n",
        "- несоответствия между таблицами.\n",
        "\n",
        "Наличие большого количества таких проблем **снижает доверие к данным в целом** и ставит под сомнение корректность результатов.  \n",
        "**Тем не менее**, в рамках данного анализа принято допущение, что влияние этих проблем **не является критическим** для ключевых выводов по эксперименту.\n",
        "\n",
        "\n",
        "\n",
        "### Результаты эксперимента\n",
        "\n",
        "| Метрика                      | Результат                                       |\n",
        "|-----------------------------|--------------------------------------------------|\n",
        "| **ARPU**                    | Не изменился статистически значимо (p > 0.05)   |\n",
        "| **ARPPU**                   | Увеличился на **57%**, статистически значимо (p < 0.05) |\n",
        "| **Конверсия в `premium_no_trial`** | Снизилась на **54%**, статистически значимо (p < 0.05) |\n",
        "| **Общая конверсия в `premium`**    | Не изменилась статистически значимо (p > 0.05)   |\n",
        "\n",
        "\n",
        "\n",
        "## Заключение\n",
        "\n",
        "Несмотря на положительную динамику ARPPU, **существенное снижение конверсии в `premium_no_trial`** и **отсутствие прироста ARPU** указывают на то, что **текущее изменение стоимости премиум-подписки нецелесообразно внедрять на всех пользователей**.\n",
        "\n",
        "**Рекомендация:**  \n",
        "Провести **повторный A/B-тест**, обеспечив надлежащее качество данных и контроль за потенциальными аномалиями на этапе сбора.\n"
      ]
    }
  ],
  "metadata": {
    "kernelspec": {
      "display_name": "Python 3",
      "language": "python",
      "name": "python3"
    },
    "language_info": {
      "codemirror_mode": {
        "name": "ipython",
        "version": 3
      },
      "file_extension": ".py",
      "mimetype": "text/x-python",
      "name": "python",
      "nbconvert_exporter": "python",
      "pygments_lexer": "ipython3",
      "version": "3.7.3"
    },
    "colab": {
      "provenance": [],
      "include_colab_link": true
    }
  },
  "nbformat": 4,
  "nbformat_minor": 0
}